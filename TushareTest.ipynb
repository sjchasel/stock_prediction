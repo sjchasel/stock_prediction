{
 "cells": [
  {
   "cell_type": "code",
   "execution_count": 6,
   "metadata": {
    "ExecuteTime": {
     "end_time": "2021-03-27T11:08:14.126652Z",
     "start_time": "2021-03-27T11:08:14.102868Z"
    }
   },
   "outputs": [
    {
     "name": "stdout",
     "output_type": "stream",
     "text": [
      "本接口即将停止更新，请尽快使用Pro版接口：https://waditu.com/document/2\n"
     ]
    },
    {
     "data": {
      "text/plain": "             open   high  close    low    volume  price_change  p_change  \\\ndate                                                                       \n2021-03-26  18.45  18.68  18.60  18.44  20017.00          0.15      0.81   \n2021-03-25  18.63  18.67  18.45  18.42  14183.00         -0.13     -0.70   \n2021-03-24  18.40  18.59  18.58  18.30  20980.00          0.13      0.70   \n2021-03-23  18.59  18.68  18.45  18.44  12394.00         -0.10     -0.54   \n2021-03-22  18.56  18.75  18.55  18.50  11948.00          0.12      0.65   \n...           ...    ...    ...    ...       ...           ...       ...   \n2018-10-16  17.90  18.16  16.73  16.58  37247.25         -1.53     -8.38   \n2018-10-15  17.83  18.75  18.26  17.83  48822.26          0.43      2.41   \n2018-10-12  16.15  18.40  17.83  16.15  66546.89          0.28      1.59   \n2018-10-11  18.21  18.22  17.55  17.55  64012.62         -1.95    -10.00   \n2018-10-10  19.50  20.50  19.50  19.50  92503.11         -2.17    -10.01   \n\n               ma5    ma10    ma20     v_ma5    v_ma10    v_ma20  turnover  \ndate                                                                        \n2021-03-26  18.526  18.554  18.744  15904.40  18990.30  24289.17      0.16  \n2021-03-25  18.492  18.543  18.779  15674.92  20430.05  24926.92      0.12  \n2021-03-24  18.544  18.536  18.821  15672.79  21300.61  26284.37      0.17  \n2021-03-23  18.570  18.505  18.838  16285.99  21412.21  26483.02      0.10  \n2021-03-22  18.622  18.528  18.864  19729.79  22975.24  27055.37      0.10  \n...            ...     ...     ...       ...       ...       ...       ...  \n2018-10-16  17.974  17.974  17.974  61826.43  61826.43  61826.43      0.56  \n2018-10-15  18.285  18.285  18.285  67971.22  67971.22  67971.22      0.73  \n2018-10-12  18.293  18.293  18.293  74354.21  74354.21  74354.21      1.00  \n2018-10-11  18.525  18.525  18.525  78257.87  78257.87  78257.87      0.96  \n2018-10-10  19.500  19.500  19.500  92503.11  92503.11  92503.11      1.38  \n\n[599 rows x 14 columns]",
      "text/html": "<div>\n<style scoped>\n    .dataframe tbody tr th:only-of-type {\n        vertical-align: middle;\n    }\n\n    .dataframe tbody tr th {\n        vertical-align: top;\n    }\n\n    .dataframe thead th {\n        text-align: right;\n    }\n</style>\n<table border=\"1\" class=\"dataframe\">\n  <thead>\n    <tr style=\"text-align: right;\">\n      <th></th>\n      <th>open</th>\n      <th>high</th>\n      <th>close</th>\n      <th>low</th>\n      <th>volume</th>\n      <th>price_change</th>\n      <th>p_change</th>\n      <th>ma5</th>\n      <th>ma10</th>\n      <th>ma20</th>\n      <th>v_ma5</th>\n      <th>v_ma10</th>\n      <th>v_ma20</th>\n      <th>turnover</th>\n    </tr>\n    <tr>\n      <th>date</th>\n      <th></th>\n      <th></th>\n      <th></th>\n      <th></th>\n      <th></th>\n      <th></th>\n      <th></th>\n      <th></th>\n      <th></th>\n      <th></th>\n      <th></th>\n      <th></th>\n      <th></th>\n      <th></th>\n    </tr>\n  </thead>\n  <tbody>\n    <tr>\n      <td>2021-03-26</td>\n      <td>18.45</td>\n      <td>18.68</td>\n      <td>18.60</td>\n      <td>18.44</td>\n      <td>20017.00</td>\n      <td>0.15</td>\n      <td>0.81</td>\n      <td>18.526</td>\n      <td>18.554</td>\n      <td>18.744</td>\n      <td>15904.40</td>\n      <td>18990.30</td>\n      <td>24289.17</td>\n      <td>0.16</td>\n    </tr>\n    <tr>\n      <td>2021-03-25</td>\n      <td>18.63</td>\n      <td>18.67</td>\n      <td>18.45</td>\n      <td>18.42</td>\n      <td>14183.00</td>\n      <td>-0.13</td>\n      <td>-0.70</td>\n      <td>18.492</td>\n      <td>18.543</td>\n      <td>18.779</td>\n      <td>15674.92</td>\n      <td>20430.05</td>\n      <td>24926.92</td>\n      <td>0.12</td>\n    </tr>\n    <tr>\n      <td>2021-03-24</td>\n      <td>18.40</td>\n      <td>18.59</td>\n      <td>18.58</td>\n      <td>18.30</td>\n      <td>20980.00</td>\n      <td>0.13</td>\n      <td>0.70</td>\n      <td>18.544</td>\n      <td>18.536</td>\n      <td>18.821</td>\n      <td>15672.79</td>\n      <td>21300.61</td>\n      <td>26284.37</td>\n      <td>0.17</td>\n    </tr>\n    <tr>\n      <td>2021-03-23</td>\n      <td>18.59</td>\n      <td>18.68</td>\n      <td>18.45</td>\n      <td>18.44</td>\n      <td>12394.00</td>\n      <td>-0.10</td>\n      <td>-0.54</td>\n      <td>18.570</td>\n      <td>18.505</td>\n      <td>18.838</td>\n      <td>16285.99</td>\n      <td>21412.21</td>\n      <td>26483.02</td>\n      <td>0.10</td>\n    </tr>\n    <tr>\n      <td>2021-03-22</td>\n      <td>18.56</td>\n      <td>18.75</td>\n      <td>18.55</td>\n      <td>18.50</td>\n      <td>11948.00</td>\n      <td>0.12</td>\n      <td>0.65</td>\n      <td>18.622</td>\n      <td>18.528</td>\n      <td>18.864</td>\n      <td>19729.79</td>\n      <td>22975.24</td>\n      <td>27055.37</td>\n      <td>0.10</td>\n    </tr>\n    <tr>\n      <td>...</td>\n      <td>...</td>\n      <td>...</td>\n      <td>...</td>\n      <td>...</td>\n      <td>...</td>\n      <td>...</td>\n      <td>...</td>\n      <td>...</td>\n      <td>...</td>\n      <td>...</td>\n      <td>...</td>\n      <td>...</td>\n      <td>...</td>\n      <td>...</td>\n    </tr>\n    <tr>\n      <td>2018-10-16</td>\n      <td>17.90</td>\n      <td>18.16</td>\n      <td>16.73</td>\n      <td>16.58</td>\n      <td>37247.25</td>\n      <td>-1.53</td>\n      <td>-8.38</td>\n      <td>17.974</td>\n      <td>17.974</td>\n      <td>17.974</td>\n      <td>61826.43</td>\n      <td>61826.43</td>\n      <td>61826.43</td>\n      <td>0.56</td>\n    </tr>\n    <tr>\n      <td>2018-10-15</td>\n      <td>17.83</td>\n      <td>18.75</td>\n      <td>18.26</td>\n      <td>17.83</td>\n      <td>48822.26</td>\n      <td>0.43</td>\n      <td>2.41</td>\n      <td>18.285</td>\n      <td>18.285</td>\n      <td>18.285</td>\n      <td>67971.22</td>\n      <td>67971.22</td>\n      <td>67971.22</td>\n      <td>0.73</td>\n    </tr>\n    <tr>\n      <td>2018-10-12</td>\n      <td>16.15</td>\n      <td>18.40</td>\n      <td>17.83</td>\n      <td>16.15</td>\n      <td>66546.89</td>\n      <td>0.28</td>\n      <td>1.59</td>\n      <td>18.293</td>\n      <td>18.293</td>\n      <td>18.293</td>\n      <td>74354.21</td>\n      <td>74354.21</td>\n      <td>74354.21</td>\n      <td>1.00</td>\n    </tr>\n    <tr>\n      <td>2018-10-11</td>\n      <td>18.21</td>\n      <td>18.22</td>\n      <td>17.55</td>\n      <td>17.55</td>\n      <td>64012.62</td>\n      <td>-1.95</td>\n      <td>-10.00</td>\n      <td>18.525</td>\n      <td>18.525</td>\n      <td>18.525</td>\n      <td>78257.87</td>\n      <td>78257.87</td>\n      <td>78257.87</td>\n      <td>0.96</td>\n    </tr>\n    <tr>\n      <td>2018-10-10</td>\n      <td>19.50</td>\n      <td>20.50</td>\n      <td>19.50</td>\n      <td>19.50</td>\n      <td>92503.11</td>\n      <td>-2.17</td>\n      <td>-10.01</td>\n      <td>19.500</td>\n      <td>19.500</td>\n      <td>19.500</td>\n      <td>92503.11</td>\n      <td>92503.11</td>\n      <td>92503.11</td>\n      <td>1.38</td>\n    </tr>\n  </tbody>\n</table>\n<p>599 rows × 14 columns</p>\n</div>"
     },
     "execution_count": 6,
     "metadata": {},
     "output_type": "execute_result"
    }
   ],
   "source": [
    "import tushare as ts\n",
    "\n",
    "ts.get_hist_data('600848') #一次性获取全部日k线数据"
   ]
  },
  {
   "cell_type": "code",
   "execution_count": 7,
   "metadata": {},
   "outputs": [
    {
     "data": {
      "text/plain": "     ts_code trade_date  open  high   low  close  pre_close  change  pct_chg  \\\n0  000726.SZ   20210112  6.15  6.26  6.13   6.17       6.18   -0.01  -0.1618   \n1  000727.SZ   20210112  2.40  2.44  2.40   2.44       2.42    0.02   0.8264   \n2  000728.SZ   20210112  8.56  8.98  8.45   8.95       8.59    0.36   4.1909   \n3  000729.SZ   20210112  7.25  7.51  7.23   7.32       7.32    0.00   0.0000   \n4  000731.SZ   20210112  4.64  4.70  4.63   4.65       4.65    0.00   0.0000   \n\n         vol      amount  \n0   38379.37   23687.512  \n1  200573.12   48530.091  \n2  937750.49  818358.777  \n3  393041.98  289294.162  \n4   41997.50   19551.101  ",
      "text/html": "<div>\n<style scoped>\n    .dataframe tbody tr th:only-of-type {\n        vertical-align: middle;\n    }\n\n    .dataframe tbody tr th {\n        vertical-align: top;\n    }\n\n    .dataframe thead th {\n        text-align: right;\n    }\n</style>\n<table border=\"1\" class=\"dataframe\">\n  <thead>\n    <tr style=\"text-align: right;\">\n      <th></th>\n      <th>ts_code</th>\n      <th>trade_date</th>\n      <th>open</th>\n      <th>high</th>\n      <th>low</th>\n      <th>close</th>\n      <th>pre_close</th>\n      <th>change</th>\n      <th>pct_chg</th>\n      <th>vol</th>\n      <th>amount</th>\n    </tr>\n  </thead>\n  <tbody>\n    <tr>\n      <td>0</td>\n      <td>000726.SZ</td>\n      <td>20210112</td>\n      <td>6.15</td>\n      <td>6.26</td>\n      <td>6.13</td>\n      <td>6.17</td>\n      <td>6.18</td>\n      <td>-0.01</td>\n      <td>-0.1618</td>\n      <td>38379.37</td>\n      <td>23687.512</td>\n    </tr>\n    <tr>\n      <td>1</td>\n      <td>000727.SZ</td>\n      <td>20210112</td>\n      <td>2.40</td>\n      <td>2.44</td>\n      <td>2.40</td>\n      <td>2.44</td>\n      <td>2.42</td>\n      <td>0.02</td>\n      <td>0.8264</td>\n      <td>200573.12</td>\n      <td>48530.091</td>\n    </tr>\n    <tr>\n      <td>2</td>\n      <td>000728.SZ</td>\n      <td>20210112</td>\n      <td>8.56</td>\n      <td>8.98</td>\n      <td>8.45</td>\n      <td>8.95</td>\n      <td>8.59</td>\n      <td>0.36</td>\n      <td>4.1909</td>\n      <td>937750.49</td>\n      <td>818358.777</td>\n    </tr>\n    <tr>\n      <td>3</td>\n      <td>000729.SZ</td>\n      <td>20210112</td>\n      <td>7.25</td>\n      <td>7.51</td>\n      <td>7.23</td>\n      <td>7.32</td>\n      <td>7.32</td>\n      <td>0.00</td>\n      <td>0.0000</td>\n      <td>393041.98</td>\n      <td>289294.162</td>\n    </tr>\n    <tr>\n      <td>4</td>\n      <td>000731.SZ</td>\n      <td>20210112</td>\n      <td>4.64</td>\n      <td>4.70</td>\n      <td>4.63</td>\n      <td>4.65</td>\n      <td>4.65</td>\n      <td>0.00</td>\n      <td>0.0000</td>\n      <td>41997.50</td>\n      <td>19551.101</td>\n    </tr>\n  </tbody>\n</table>\n</div>"
     },
     "execution_count": 7,
     "metadata": {},
     "output_type": "execute_result"
    }
   ],
   "source": [
    "import tushare as ts\n",
    "\n",
    "ts.set_token('c9eba6fe55b2a6f414bb3db0773391adcc4b36a05a97007d4e46772c')\n",
    "pro = ts.pro_api()\n",
    "\n",
    "#\n",
    "#df = pro.trade_cal(exchange='', start_date='20210101', end_date='20200131', #fields='exchange,cal_date,is_open,pretrade_date', is_open='0')\n",
    "df = pro.daily(trade_date='20210112')\n",
    "\n",
    "df.head(5)\n"
   ]
  }
 ],
 "metadata": {
  "kernelspec": {
   "display_name": "Python 3",
   "language": "python",
   "name": "python3"
  }
 },
 "nbformat": 4,
 "nbformat_minor": 4
}
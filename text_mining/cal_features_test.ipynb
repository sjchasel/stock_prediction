{
 "cells": [
  {
   "cell_type": "code",
   "execution_count": null,
   "metadata": {
    "ExecuteTime": {
     "end_time": "2021-05-25T12:18:34.635331Z",
     "start_time": "2021-05-25T12:18:33.128113Z"
    }
   },
   "outputs": [],
   "source": [
    "import pandas as pd\n",
    "import numpy as np\n",
    "import os\n",
    "pwd = os.getcwd()\n",
    "#当前文件的父路径\n",
    "father_path=os.path.abspath(os.path.dirname(pwd)+os.path.sep+\".\")\n",
    "father_path\n",
    "com = pd.read_csv(father_path+\"\\\\com_3ind3years.csv\", encoding='gbk')\n",
    "ind = pd.read_csv(father_path+\"\\\\3ind3years.csv\", encoding='gbk')"
   ]
  },
  {
   "cell_type": "code",
   "execution_count": null,
   "metadata": {
    "ExecuteTime": {
     "end_time": "2021-05-25T12:13:53.322186Z",
     "start_time": "2021-05-25T12:13:53.294086Z"
    }
   },
   "outputs": [],
   "source": [
    "com"
   ]
  },
  {
   "cell_type": "code",
   "execution_count": null,
   "metadata": {
    "ExecuteTime": {
     "end_time": "2021-05-25T12:18:40.064730Z",
     "start_time": "2021-05-25T12:18:35.842967Z"
    }
   },
   "outputs": [],
   "source": [
    "from preprocess import *\n",
    "from paragraph_feature import *\n",
    "from parse_tree import *\n",
    "from sentence_feature import *\n",
    "from word_feature import *"
   ]
  },
  {
   "cell_type": "code",
   "execution_count": null,
   "metadata": {},
   "outputs": [],
   "source": [
    "para_flag"
   ]
  },
  {
   "cell_type": "code",
   "execution_count": null,
   "metadata": {
    "ExecuteTime": {
     "end_time": "2021-05-25T12:23:24.715057Z",
     "start_time": "2021-05-25T12:23:16.963852Z"
    },
    "scrolled": false
   },
   "outputs": [],
   "source": [
    "com_res = pd.DataFrame()\n",
    "for i in range(5):\n",
    "    print(\"【【【【【【【【【\"+str(i)+\"】】】】】】】】】】】】\")\n",
    "    content = com.iloc[i,2]\n",
    "    wordf = WordFeature(content)\n",
    "    paraf = ParagraphFeature(content)\n",
    "    sentencef = SentenceFeature(content)\n",
    "    treef = ParseTree(content)\n",
    "    \n",
    "    word_res = wordf.get_res()\n",
    "    para_res = paraf.get_res()\n",
    "    sen_res = sentencef.get_res()\n",
    "    tree_res = treef.get_res()\n",
    "    \n",
    "    z = {**word_res, **para_res, **sen_res, **tree_res}\n",
    "    z['date'] = com.iloc[i, 0]\n",
    "    z['ind'] = com.iloc[i, 3]\n",
    "    z['stock_name'] = com.iloc[i, 6]\n",
    "    z['stock_num'] = com.iloc[i, 7]\n",
    "    z['title'] = com.iloc[i, 8]\n",
    "    com_res = com_res.append(z,ignore_index=True)\n",
    "    print(z)"
   ]
  },
  {
   "cell_type": "code",
   "execution_count": null,
   "metadata": {
    "ExecuteTime": {
     "end_time": "2021-05-25T12:15:28.740240Z",
     "start_time": "2021-05-25T12:15:28.693363Z"
    }
   },
   "outputs": [],
   "source": [
    "com_res"
   ]
  },
  {
   "cell_type": "code",
   "execution_count": null,
   "metadata": {},
   "outputs": [],
   "source": [
    "com_content = list(com['content'])\n",
    "sample = com_content[0]\n",
    "sample"
   ]
  },
  {
   "cell_type": "code",
   "execution_count": null,
   "metadata": {},
   "outputs": [],
   "source": [
    "com_content[2]"
   ]
  },
  {
   "cell_type": "code",
   "execution_count": null,
   "metadata": {},
   "outputs": [],
   "source": [
    "com_content[10]"
   ]
  },
  {
   "cell_type": "code",
   "execution_count": null,
   "metadata": {},
   "outputs": [],
   "source": []
  },
  {
   "cell_type": "code",
   "execution_count": null,
   "metadata": {},
   "outputs": [],
   "source": [
    "split_paragraph(sample)"
   ]
  }
 ],
 "metadata": {
  "kernelspec": {
   "display_name": "Python 3",
   "language": "python",
   "name": "python3"
  },
  "language_info": {
   "codemirror_mode": {
    "name": "ipython",
    "version": 3
   },
   "file_extension": ".py",
   "mimetype": "text/x-python",
   "name": "python",
   "nbconvert_exporter": "python",
   "pygments_lexer": "ipython3",
   "version": "3.6.3"
  }
 },
 "nbformat": 4,
 "nbformat_minor": 2
}

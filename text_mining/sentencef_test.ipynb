{
 "cells": [
  {
   "cell_type": "code",
   "execution_count": 1,
   "metadata": {},
   "outputs": [],
   "source": [
    "from paragraph_feature import *\n",
    "from parse_tree import *\n",
    "from preprocess import *\n",
    "from sentence_feature import *\n",
    "from word_feature import *\n",
    "import pandas as pd\n",
    "import numpy as np\n",
    "import re"
   ]
  },
  {
   "cell_type": "code",
   "execution_count": 2,
   "metadata": {},
   "outputs": [
    {
     "data": {
      "text/plain": [
       "'    石油石化行业中，4月23日当周北上资金个股净流入主力为恒力石化、东方盛虹、荣盛石化、桐昆股份、华锦股份，其中，恒力石化净流入1.92亿元；当周北上资金个股净流出前三为中国石化、中国石油、恒逸石化。 ???\\r\\r\\r\\n    基础化工行业中，4月23日当周北上资金个股净流入主力为国瓷材料、天赐材料、恩捷股份、玲珑轮胎、华鲁恒升，其中，国瓷材料净流入4.53亿元；北上资金个股净流出前三为万华化学、龙蟒佰利、光威复材。 ???\\r\\r\\r\\n    新材料行业中，4月23日当周北上资金个股净流入主力为南山铝业、中国宝安、中泰化学、云海金属、方大炭素，其中，南山铝业净流入1.4亿元；北上资金个股净流出前三为光威复材、金发科技、彤程新材。 ???\\r\\r\\r\\n    4月23日当周，石油石化行业北上资金测算累计净流出173百万，其中配置型、交易型和托管于内港资机构的资金净流入124、-182、-115百万元；基础化工行业北上资金测算累计净流入1310百万，其中配置型、交易型和托管于内港资机构的资金净流入2763、-1306、-147百万元；新材料行业北上资金测算累计净流入575百万，其中配置型、交易型和托管于内港资机构的资金净流入298、369、-93百万元。 ???\\r\\r\\r\\n    截至2021年4月23日，北上资金持有A股石油石化行业市值229亿，其中配置型、交易型和托管于内港资机构的资金分别持有183、36、10亿元；北上资金持有A股基础化工行业市值897亿，其中配置型、交易型和托管于内港资机构的资金分别持有695、166、37亿元；北上资金持有A股新材料行业市值178亿，其中配置型、交易型和托管于内港资机构的资金分别持有117、44、18亿元。'"
      ]
     },
     "execution_count": 2,
     "metadata": {},
     "output_type": "execute_result"
    }
   ],
   "source": [
    "industry = pd.read_csv(\"C:/Users/zhaoyu/Desktop/pycode/industry.csv\", encoding=\"gbk\")\n",
    "sample = list(industry['content'])[0]\n",
    "sample"
   ]
  },
  {
   "cell_type": "code",
   "execution_count": 3,
   "metadata": {},
   "outputs": [
    {
     "data": {
      "text/plain": [
       "0.25037037037037035"
      ]
     },
     "execution_count": 3,
     "metadata": {},
     "output_type": "execute_result"
    }
   ],
   "source": [
    "sentencef = SentenceFeature(sample)\n",
    "sentencef.no_en_ch()"
   ]
  }
 ],
 "metadata": {
  "kernelspec": {
   "display_name": "Python 3",
   "language": "python",
   "name": "python3"
  },
  "language_info": {
   "codemirror_mode": {
    "name": "ipython",
    "version": 3
   },
   "file_extension": ".py",
   "mimetype": "text/x-python",
   "name": "python",
   "nbconvert_exporter": "python",
   "pygments_lexer": "ipython3",
   "version": "3.6.3"
  }
 },
 "nbformat": 4,
 "nbformat_minor": 2
}

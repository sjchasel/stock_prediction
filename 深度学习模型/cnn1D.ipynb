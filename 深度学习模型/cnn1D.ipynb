{
 "cells": [
  {
   "cell_type": "code",
   "execution_count": 13,
   "metadata": {
    "ExecuteTime": {
     "end_time": "2021-06-15T11:40:56.359427Z",
     "start_time": "2021-06-15T11:40:56.294601Z"
    }
   },
   "outputs": [],
   "source": [
    "import sys\n",
    "import warnings\n",
    "import os\n",
    "if not sys.warnoptions:\n",
    "    warnings.simplefilter('ignore')\n",
    "import torch\n",
    "import torch.nn as nn\n",
    "import torch.nn.functional as F\n",
    "import torch.optim as optim\n",
    "import random\n",
    "from math import floor\n",
    "import numpy as np\n",
    "import matplotlib.pyplot as plt\n",
    "import seaborn as sns\n",
    "import pandas as pd\n",
    "from sklearn.preprocessing import MinMaxScaler\n",
    "from datetime import datetime\n",
    "from datetime import timedelta\n",
    "from tqdm import tqdm\n",
    "from copy import deepcopy as copy\n",
    "from torch.utils.data import DataLoader, TensorDataset\n",
    "sns.set()\n",
    "from get_rr import goodness_of_fit, get_rr\n",
    "def seed_torch(seed=1122):\n",
    "    random.seed(seed)\n",
    "    os.environ['PYTHONHASHSEED'] = str(seed) # 为了禁止hash随机化，使得实验可复现\n",
    "    np.random.seed(seed)\n",
    "    torch.manual_seed(seed)\n",
    "    torch.cuda.manual_seed(seed)\n",
    "    torch.cuda.manual_seed_all(seed) # if you are using multi-GPU.\n",
    "    torch.backends.cudnn.benchmark = False\n",
    "    torch.backends.cudnn.deterministic = True\n",
    "seed_torch(1122)"
   ]
  },
  {
   "cell_type": "code",
   "execution_count": 14,
   "metadata": {
    "ExecuteTime": {
     "end_time": "2021-06-15T11:40:56.469135Z",
     "start_time": "2021-06-15T11:40:56.367408Z"
    }
   },
   "outputs": [],
   "source": [
    "class GetData:\n",
    "    def __init__(self, batch_size=20, n=5):\n",
    "        \"\"\"\n",
    "        简单地读取数据\n",
    "        \"\"\"\n",
    "        path1 = '../数据预处理/化学原料33支股票新版.csv'\n",
    "        path2 = '../数据预处理/钢铁行业34支股票新版.csv'\n",
    "        path3 = '../数据预处理/种植业19支股票新版.csv'\n",
    "        sh1 = pd.read_csv(path1)\n",
    "        sh2 = pd.read_csv(path2)\n",
    "        sh3 = pd.read_csv(path3)\n",
    "        sh02 = pd.concat([sh1,sh2,sh3],axis=0,ignore_index=True)\n",
    "        wenben = ['avg_sentence','avg_stroke','four_word','function_ratio','n_ratio',\n",
    "                 'nine_stroke','no_text','sen_per_para','sum_para','word_max','word_mean']\n",
    "        sh02.drop(labels=wenben,axis=1,inplace=True)\n",
    "        self.data = sh02\n",
    "        self.batch_size = batch_size\n",
    "        self.n = n\n",
    "        self.features = []\n",
    "        self.labels = []\n",
    "        \n",
    "    def preprocess(self):\n",
    "        self.data = self.data.fillna(0)\n",
    "        self.data = self.data.set_index('date')\n",
    "        self.close_min = self.data['close'].min()\n",
    "        self.close_max = self.data[\"close\"].max()\n",
    "        self.data = self.data.apply(lambda x: (x - min(x)) / (max(x) - min(x)))\n",
    "        self.data = self.data.fillna(0)\n",
    "        self.indnums = len(list(self.data['code'].unique()))\n",
    "        for i in list(self.data['code'].unique()):\n",
    "            data = self.data[self.data['code']==i]\n",
    "            data.drop(labels=['code'],axis=1,inplace=True)\n",
    "            self.split(data)\n",
    "            \n",
    "    def split(self, data):\n",
    "        n = self.n\n",
    "        feature = [\n",
    "            data.iloc[i: i + n].values.tolist()\n",
    "            for i in range(len(data) - n + 2)\n",
    "            if i + n < len(data)\n",
    "        ]\n",
    "        label = [\n",
    "            data.close.values[i + n]\n",
    "            for i in range(len(data) - n + 2)\n",
    "            if i + n < len(data)\n",
    "        ]\n",
    "        #print(len(label))\n",
    "        self.features.append(feature)\n",
    "        self.labels.append(label)\n",
    "        \n",
    "    def split_all(self):\n",
    "        train_x = []\n",
    "        test_x = []\n",
    "        train_y = []\n",
    "        test_y = []\n",
    "        self.preprocess()\n",
    "        # 一支股票的数据被分成了725条，前百分之九十用来训练，后百分之十测试\n",
    "        num = int(725 * 0.9)\n",
    "        print(\"num:\"+str(num))\n",
    "        print(\"len(features):\"+str(len(self.features)))\n",
    "        print(\"len(feature):\"+str(len(self.features[2])))\n",
    "        # 按照时间顺序构建训练集和测试集\n",
    "        for i in range(len(self.features)):\n",
    "            for j in range(len(self.features[i])):\n",
    "                if j < num:\n",
    "                    train_x.append(self.features[i][j])\n",
    "                    train_y.append(self.labels[i][j])\n",
    "                else:\n",
    "                    test_x.append(self.features[i][j])\n",
    "                    test_y.append(self.labels[i][j])\n",
    "#         # 把训练集打乱\n",
    "#         cc = list(zip(train_x, train_y))\n",
    "#         random.shuffle(cc)\n",
    "#         train_x[:], train_y[:] = zip(*cc)\n",
    "        print(\"len(train_x):\"+str(len(train_x)))\n",
    "        print(\"len(train_y):\"+str(len(train_y)))\n",
    "        print(\"len(test_x):\"+str(len(test_x)))\n",
    "        print(\"len(test_y):\"+str(len(test_y)))\n",
    "        return train_x, test_x, train_y, test_y"
   ]
  },
  {
   "cell_type": "code",
   "execution_count": null,
   "metadata": {
    "ExecuteTime": {
     "end_time": "2021-06-15T10:56:06.648064Z",
     "start_time": "2021-06-15T10:56:06.594205Z"
    }
   },
   "outputs": [],
   "source": []
  },
  {
   "cell_type": "code",
   "execution_count": 15,
   "metadata": {
    "ExecuteTime": {
     "end_time": "2021-06-15T11:40:56.500052Z",
     "start_time": "2021-06-15T11:40:56.476117Z"
    }
   },
   "outputs": [],
   "source": [
    "class CNNmodel(nn.Module):\n",
    "    def __init__(self):\n",
    "        super(CNNmodel, self).__init__()\n",
    "        self.conv1 = nn.Conv1d(55,32,3, padding=1)   \n",
    "        self.fc1 = nn.Linear(160, 1)\n",
    "\n",
    "    def forward(self, x):\n",
    "        x = x.permute(0,2,1) # torch.Size([20, 49, 5])\n",
    "        x = self.conv1(x) # torch.Size([20, 32, 5])\n",
    "        x = F.relu(x) # torch.Size([20, 32, 5])\n",
    "        x = x.view(x.size()[0], -1) # torch.Size([20, 160])\n",
    "        x = self.fc1(x)\n",
    "        return x"
   ]
  },
  {
   "cell_type": "code",
   "execution_count": 16,
   "metadata": {
    "ExecuteTime": {
     "end_time": "2021-06-15T11:40:56.562885Z",
     "start_time": "2021-06-15T11:40:56.508032Z"
    }
   },
   "outputs": [],
   "source": [
    "def train_model(epoch, train_dataLoader, test_dataLoader):\n",
    "    # 训练模型\n",
    "    best_model = None\n",
    "    train_loss = 0\n",
    "    test_loss = 0\n",
    "    best_loss = 100\n",
    "    epoch_cnt = 0\n",
    "    for _ in range(epoch):\n",
    "        total_train_loss = 0\n",
    "        total_train_num = 0\n",
    "        total_test_loss = 0\n",
    "        total_test_num = 0\n",
    "        for x, y in tqdm(train_dataLoader,\n",
    "                         desc='Epoch: {}| Train Loss: {}| Test Loss: {}'.format(_, train_loss, test_loss)):\n",
    "            x_num = len(x)\n",
    "            y = torch.unsqueeze(y, dim=1)  \n",
    "            p = model(x)\n",
    "            loss = loss_func(p, y)\n",
    "            optimizer.zero_grad()\n",
    "            loss.backward()\n",
    "            optimizer.step()\n",
    "            total_train_loss += loss.item()\n",
    "            total_train_num += x_num\n",
    "        train_loss = total_train_loss / total_train_num\n",
    "        train_loss_list.append(train_loss)\n",
    "        for x, y in test_dataLoader:\n",
    "            x_num = len(x)\n",
    "            p = model(x)\n",
    "            loss = loss_func(p, y)\n",
    "            optimizer.zero_grad()\n",
    "            loss.backward()\n",
    "            optimizer.step()\n",
    "            total_test_loss += loss.item()\n",
    "            total_test_num += x_num\n",
    "        test_loss = total_test_loss / total_test_num\n",
    "        test_loss_list.append(test_loss)\n",
    "        \n",
    "        # early stop\n",
    "        if best_loss > test_loss:\n",
    "            best_loss = test_loss\n",
    "            best_model = copy(model)\n",
    "            torch.save(best_model.state_dict(), 'cnn_.pth')\n",
    "            epoch_cnt = 0\n",
    "        else:\n",
    "            epoch_cnt += 1\n",
    "            \n",
    "        if epoch_cnt > early_stop:\n",
    "            torch.save(best_model.state_dict(), 'cnn_.pth')\n",
    "            print(\"保存模型\")\n",
    "            #print(best_model.state_dict())\n",
    "            break"
   ]
  },
  {
   "cell_type": "code",
   "execution_count": 17,
   "metadata": {
    "ExecuteTime": {
     "end_time": "2021-06-15T11:40:56.594800Z",
     "start_time": "2021-06-15T11:40:56.568869Z"
    }
   },
   "outputs": [],
   "source": [
    "def test_model(test_dataLoader_):\n",
    "    pred = []\n",
    "    label = []\n",
    "    model_ = CNNmodel()\n",
    "    model_.load_state_dict(torch.load(\"cnn_.pth\"))\n",
    "    model_.eval()\n",
    "    total_test_loss = 0\n",
    "    total_test_num = 0\n",
    "    for x, y in test_dataLoader_:\n",
    "        x_num = len(x)\n",
    "        p = model_(x)\n",
    "        loss = loss_func(p, y)\n",
    "        total_test_loss += loss.item()\n",
    "        total_test_num += x_num\n",
    "        pred.extend(p.data.squeeze(1).tolist())\n",
    "        label.extend(y.tolist())\n",
    "    test_loss = total_test_loss / total_test_num\n",
    "    # print('##', len(pred), len(label))\n",
    "    return pred, label,test_loss, test_loss_list"
   ]
  },
  {
   "cell_type": "code",
   "execution_count": 18,
   "metadata": {
    "ExecuteTime": {
     "end_time": "2021-06-15T11:40:56.626714Z",
     "start_time": "2021-06-15T11:40:56.602784Z"
    }
   },
   "outputs": [],
   "source": [
    "def plot_img(data, pred):\n",
    "    plt.figure(figsize=(50, 25))\n",
    "    plt.plot(range(len(pred)), pred, color='green')\n",
    "    # plt.plot(range(len(data)), data)\n",
    "    plt.plot(range(len(data)), data, color='b')\n",
    "#     for i in range(0, len(pred)-3, 5):\n",
    "#         price = [data[i]+pred[j]-pred[i] for j in range(i, i+3)]\n",
    "#         plt.plot(range(i, i+3), price, color='r')\n",
    "    plt.xlabel('Date', fontsize=18)\n",
    "    plt.ylabel('Close', fontsize=18)\n",
    "    plt.savefig('cnn1D.jpg', dpi=300, bbox_inches = 'tight')\n",
    "    plt.show()"
   ]
  },
  {
   "cell_type": "code",
   "execution_count": null,
   "metadata": {
    "ExecuteTime": {
     "start_time": "2021-06-15T11:40:56.324Z"
    }
   },
   "outputs": [
    {
     "name": "stdout",
     "output_type": "stream",
     "text": [
      "num:652\n",
      "len(features):86\n",
      "len(feature):725\n",
      "len(train_x):56072\n",
      "len(train_y):56072\n",
      "len(test_x):6278\n",
      "len(test_y):6278\n"
     ]
    },
    {
     "name": "stderr",
     "output_type": "stream",
     "text": [
      "Epoch: 0| Train Loss: 0| Test Loss: 0: 100%|████████████████████████████████████████████████████████████████████████████████████████████| 2804/2804 [00:20<00:00, 139.99it/s]\n",
      "Epoch: 1| Train Loss: 6.615975739128082e-05| Test Loss: 0.00017170785728367783: 100%|███████████████████████████████████████████████████| 2804/2804 [00:19<00:00, 141.57it/s]\n",
      "Epoch: 2| Train Loss: 9.242089719836883e-06| Test Loss: 0.00017051088202011064: 100%|███████████████████████████████████████████████████| 2804/2804 [00:19<00:00, 145.12it/s]\n",
      "Epoch: 3| Train Loss: 7.838264176525882e-06| Test Loss: 0.00016920636923994662: 100%|███████████████████████████████████████████████████| 2804/2804 [00:19<00:00, 142.97it/s]\n",
      "Epoch: 4| Train Loss: 7.2430942289418e-06| Test Loss: 0.00016882160553815593: 100%|█████████████████████████████████████████████████████| 2804/2804 [00:19<00:00, 142.76it/s]\n",
      "Epoch: 5| Train Loss: 6.401597345952699e-06| Test Loss: 0.00016843712805020462: 100%|███████████████████████████████████████████████████| 2804/2804 [00:19<00:00, 142.09it/s]\n",
      "Epoch: 6| Train Loss: 6.027371585961528e-06| Test Loss: 0.00016742395556567413: 100%|███████████████████████████████████████████████████| 2804/2804 [00:20<00:00, 139.80it/s]\n",
      "Epoch: 7| Train Loss: 5.7376699948868e-06| Test Loss: 0.00016719614946200748: 100%|█████████████████████████████████████████████████████| 2804/2804 [00:20<00:00, 140.16it/s]\n",
      "Epoch: 8| Train Loss: 5.468278530668663e-06| Test Loss: 0.0001666253540883962: 100%|████████████████████████████████████████████████████| 2804/2804 [00:20<00:00, 135.12it/s]\n",
      "Epoch: 9| Train Loss: 5.273828538065394e-06| Test Loss: 0.00016640591957995643: 100%|███████████████████████████████████████████████████| 2804/2804 [00:19<00:00, 140.75it/s]\n",
      "Epoch: 10| Train Loss: 5.089781132032145e-06| Test Loss: 0.00016626150932698728: 100%|██████████████████████████████████████████████████| 2804/2804 [00:19<00:00, 143.22it/s]\n",
      "Epoch: 11| Train Loss: 4.67802031268602e-06| Test Loss: 0.00016588294249545194: 100%|███████████████████████████████████████████████████| 2804/2804 [00:19<00:00, 147.17it/s]\n",
      "Epoch: 12| Train Loss: 5.062401958623837e-06| Test Loss: 0.00016602408900256288: 100%|██████████████████████████████████████████████████| 2804/2804 [00:20<00:00, 138.35it/s]\n",
      "Epoch: 13| Train Loss: 4.75129177137226e-06| Test Loss: 0.0001657059728854908: 100%|████████████████████████████████████████████████████| 2804/2804 [00:20<00:00, 136.65it/s]\n",
      "Epoch: 14| Train Loss: 4.802379637817875e-06| Test Loss: 0.00016535468485356187: 100%|██████████████████████████████████████████████████| 2804/2804 [00:17<00:00, 161.29it/s]\n",
      "Epoch: 15| Train Loss: 4.637132647516915e-06| Test Loss: 0.00016536418391299365:  92%|██████████████████████████████████████████████    | 2581/2804 [00:17<00:01, 130.36it/s]"
     ]
    }
   ],
   "source": [
    "if __name__ == '__main__':\n",
    "    seed_torch(1122)\n",
    "    test_loss_list = []\n",
    "    train_loss_list = []\n",
    "    # 参数\n",
    "    days_num = 5\n",
    "    epoch = 20\n",
    "    batch_size = 20\n",
    "    early_stop = 5\n",
    "    \n",
    "    # 初始化模型\n",
    "    model = CNNmodel()\n",
    "    \n",
    "    # 数据处理部分\n",
    "    GD = GetData()\n",
    "    train_x, test_x, train_y, test_y = GD.split_all()\n",
    "    # print(x_train)\n",
    "    x_train = torch.tensor(train_x).float()\n",
    "    x_test = torch.tensor(test_x).float()\n",
    "    y_train = torch.tensor(train_y).float()\n",
    "    y_test = torch.tensor(test_y).float()\n",
    "    train_data = TensorDataset(x_train, y_train)\n",
    "    train_dataLoader = DataLoader(train_data, batch_size=batch_size)\n",
    "    test_data = TensorDataset(x_test, y_test)\n",
    "    test_dataLoader = DataLoader(test_data, batch_size=batch_size)\n",
    "\n",
    "    \n",
    "    # 损失函数和优化器\n",
    "    loss_func = nn.MSELoss()\n",
    "    optimizer = optim.Adam(model.parameters(), lr=0.0001)\n",
    "    train_model(epoch, train_dataLoader, test_dataLoader)\n",
    "    p, y, test_loss, test_loss_list = test_model(test_dataLoader)\n",
    "    \n",
    "    # 画图 只画一支测试股票的图\n",
    "    pred = [ele * (GD.close_max - GD.close_min) + GD.close_min for ele in p]\n",
    "    data = [ele * (GD.close_max - GD.close_min) + GD.close_min for ele in y]\n",
    "    print(get_rr(pred,data))\n",
    "    #plot_img(data, pred)\n",
    "    \n",
    "   "
   ]
  },
  {
   "cell_type": "code",
   "execution_count": null,
   "metadata": {
    "ExecuteTime": {
     "start_time": "2021-06-15T11:40:56.328Z"
    }
   },
   "outputs": [],
   "source": [
    "plt.figure()\n",
    "plt.title(\"test loss\", fontsize=18)\n",
    "plt.xlabel('Epoch', fontsize=18)\n",
    "plt.ylabel('Loss', fontsize=18)\n",
    "plt.plot(test_loss_list)"
   ]
  },
  {
   "cell_type": "code",
   "execution_count": null,
   "metadata": {
    "ExecuteTime": {
     "start_time": "2021-06-15T11:40:56.333Z"
    }
   },
   "outputs": [],
   "source": [
    "plt.figure()\n",
    "plt.title(\"train loss\", fontsize=18)\n",
    "plt.xlabel('Epoch', fontsize=18)\n",
    "plt.ylabel('Loss', fontsize=18)\n",
    "plt.plot(train_loss_list)"
   ]
  },
  {
   "cell_type": "code",
   "execution_count": null,
   "metadata": {
    "ExecuteTime": {
     "start_time": "2021-06-15T11:40:56.337Z"
    }
   },
   "outputs": [],
   "source": [
    "plt.figure()\n",
    "plt.xlabel('Epoch', fontsize=18)\n",
    "plt.ylabel('Loss', fontsize=18)\n",
    "plt.plot(test_loss_list)\n",
    "plt.plot(train_loss_list)\n",
    "plt.legend([\"test\",\"train\"])\n",
    "#plt.savefig('loss.jpg', dpi=300, bbox_inches = 'tight')"
   ]
  },
  {
   "cell_type": "code",
   "execution_count": null,
   "metadata": {
    "ExecuteTime": {
     "start_time": "2021-06-15T11:40:56.340Z"
    }
   },
   "outputs": [],
   "source": [
    "# 所有股票的测试结果\n",
    "plot_img(data, pred)"
   ]
  },
  {
   "cell_type": "code",
   "execution_count": null,
   "metadata": {
    "ExecuteTime": {
     "start_time": "2021-06-15T11:40:56.345Z"
    }
   },
   "outputs": [],
   "source": [
    "# 第一支股票的测试结果\n",
    "plot_img(data[:73], pred[:73])"
   ]
  },
  {
   "cell_type": "code",
   "execution_count": null,
   "metadata": {},
   "outputs": [],
   "source": []
  }
 ],
 "metadata": {
  "kernelspec": {
   "display_name": "Python 3",
   "language": "python",
   "name": "python3"
  },
  "language_info": {
   "codemirror_mode": {
    "name": "ipython",
    "version": 3
   },
   "file_extension": ".py",
   "mimetype": "text/x-python",
   "name": "python",
   "nbconvert_exporter": "python",
   "pygments_lexer": "ipython3",
   "version": "3.7.4"
  }
 },
 "nbformat": 4,
 "nbformat_minor": 2
}
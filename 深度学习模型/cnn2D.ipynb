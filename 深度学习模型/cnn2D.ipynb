{
 "cells": [
  {
   "cell_type": "code",
   "execution_count": 1,
   "metadata": {
    "ExecuteTime": {
     "end_time": "2021-06-16T06:19:29.809326Z",
     "start_time": "2021-06-16T06:19:22.679400Z"
    }
   },
   "outputs": [],
   "source": [
    "import sys\n",
    "import warnings\n",
    "import os\n",
    "if not sys.warnoptions:\n",
    "    warnings.simplefilter('ignore')\n",
    "import torch\n",
    "import torch.nn as nn\n",
    "import torch.nn.functional as F\n",
    "import torch.optim as optim\n",
    "import random\n",
    "import numpy as np\n",
    "import matplotlib.pyplot as plt\n",
    "import seaborn as sns\n",
    "import pandas as pd\n",
    "from sklearn.preprocessing import MinMaxScaler\n",
    "from datetime import datetime\n",
    "from datetime import timedelta\n",
    "from tqdm import tqdm\n",
    "from copy import deepcopy as copy\n",
    "from torch.utils.data import DataLoader, TensorDataset\n",
    "sns.set()\n",
    "def seed_torch(seed=1122):\n",
    "    random.seed(seed)\n",
    "    os.environ['PYTHONHASHSEED'] = str(seed) # 为了禁止hash随机化，使得实验可复现\n",
    "    np.random.seed(seed)\n",
    "    torch.manual_seed(seed)\n",
    "    torch.cuda.manual_seed(seed)\n",
    "    torch.cuda.manual_seed_all(seed) # if you are using multi-GPU.\n",
    "    torch.backends.cudnn.benchmark = False\n",
    "    torch.backends.cudnn.deterministic = True"
   ]
  },
  {
   "cell_type": "markdown",
   "metadata": {},
   "source": [
    "# Loading the data"
   ]
  },
  {
   "cell_type": "code",
   "execution_count": 10,
   "metadata": {
    "ExecuteTime": {
     "end_time": "2021-06-16T06:20:27.925862Z",
     "start_time": "2021-06-16T06:20:27.871012Z"
    }
   },
   "outputs": [],
   "source": [
    "class GetData:\n",
    "    def __init__(self, batch_size=20, n=5):\n",
    "        \"\"\"\n",
    "        简单地读取数据\n",
    "        \"\"\"\n",
    "        path1 = '../数据预处理/化学原料33支股票新版.csv'\n",
    "        path2 = '../数据预处理/钢铁行业34支股票新版.csv'\n",
    "        path3 = '../数据预处理/种植业19支股票新版.csv'\n",
    "        sh1 = pd.read_csv(path1)\n",
    "        sh2 = pd.read_csv(path2)\n",
    "        sh3 = pd.read_csv(path3)\n",
    "        sh02 = pd.concat([sh1,sh2,sh3],axis=0,ignore_index=True)\n",
    "        wenben = ['avg_sentence','avg_stroke','four_word','function_ratio','n_ratio',\n",
    "                 'nine_stroke','no_text','sen_per_para','sum_para','word_max','word_mean']\n",
    "        sh02.drop(labels=wenben,axis=1,inplace=True)\n",
    "        self.data = sh02\n",
    "        self.batch_size = batch_size\n",
    "        self.n = n\n",
    "        self.features = []\n",
    "        self.labels = []\n",
    "        \n",
    "    def preprocess(self):\n",
    "        self.data = self.data.fillna(0)\n",
    "        self.data = self.data.set_index('date')\n",
    "        self.close_min = self.data['close'].min()\n",
    "        self.close_max = self.data[\"close\"].max()\n",
    "        self.data = self.data.apply(lambda x: (x - min(x)) / (max(x) - min(x)))\n",
    "        self.data = self.data.fillna(0)\n",
    "        self.indnums = len(list(self.data['code'].unique()))\n",
    "        for i in list(self.data['code'].unique()):\n",
    "            data = self.data[self.data['code']==i]\n",
    "            data.drop(labels=['code'],axis=1,inplace=True)\n",
    "            self.split(data)\n",
    "            \n",
    "    def split(self, data):\n",
    "        n = self.n\n",
    "        feature = [\n",
    "            data.iloc[i: i + n].values.tolist()\n",
    "            for i in range(len(data) - n + 2)\n",
    "            if i + n < len(data)\n",
    "        ]\n",
    "        label = [\n",
    "            data.close.values[i + n]\n",
    "            for i in range(len(data) - n + 2)\n",
    "            if i + n < len(data)\n",
    "        ]\n",
    "        #print(len(label))\n",
    "        self.features.append(feature)\n",
    "        self.labels.append(label)\n",
    "        \n",
    "    def process_data(self):\n",
    "        train_x = []\n",
    "        test_x = []\n",
    "        train_y = []\n",
    "        test_y = []\n",
    "        self.preprocess()\n",
    "        # 一支股票的数据被分成了725条，前百分之九十用来训练，后百分之十测试\n",
    "        num = int(725 * 0.9)\n",
    "        print(\"num:\"+str(num))\n",
    "        print(\"len(features):\"+str(len(self.features)))\n",
    "        print(\"len(feature):\"+str(len(self.features[2])))\n",
    "        # 按照时间顺序构建训练集和测试集\n",
    "        for i in range(len(self.features)):\n",
    "            for j in range(len(self.features[i])):\n",
    "                if j < num:\n",
    "                    train_x.append(self.features[i][j])\n",
    "                    train_y.append(self.labels[i][j])\n",
    "                else:\n",
    "                    test_x.append(self.features[i][j])\n",
    "                    test_y.append(self.labels[i][j])\n",
    "#         # 把训练集打乱\n",
    "#         cc = list(zip(train_x, train_y))\n",
    "#         random.shuffle(cc)\n",
    "#         train_x[:], train_y[:] = zip(*cc)\n",
    "        print(\"len(train_x):\"+str(len(train_x)))\n",
    "        print(\"len(train_y):\"+str(len(train_y)))\n",
    "        print(\"len(test_x):\"+str(len(test_x)))\n",
    "        print(\"len(test_y):\"+str(len(test_y)))\n",
    "        return train_x, test_x, train_y, test_y"
   ]
  },
  {
   "cell_type": "markdown",
   "metadata": {},
   "source": [
    "1）输入层\n",
    "\n",
    "2）卷积层（里面有padding）\n",
    "\n",
    "3）激活层\n",
    "\n",
    "4）池化层（里面有padding）\n",
    "\n",
    "5）全连接FC层"
   ]
  },
  {
   "cell_type": "markdown",
   "metadata": {},
   "source": [
    "**cnn结构：**\n"
   ]
  },
  {
   "cell_type": "markdown",
   "metadata": {
    "ExecuteTime": {
     "end_time": "2021-05-25T04:45:50.308532Z",
     "start_time": "2021-05-25T04:45:50.290568Z"
    }
   },
   "source": [
    "|layer|output shape|\n",
    "|---|---|\n",
    "|conv2d|None,5,5,32|\n",
    "|max_pooling2d|None,2,2,32|\n",
    "|conv2d|None,2,2,16|\n",
    "|max_pooling2d|None,1,1,16|\n",
    "|flatten|None,16|\n",
    "|dense|None,128|\n",
    "|dropout|None,128|\n",
    "|dense|None,1|"
   ]
  },
  {
   "cell_type": "code",
   "execution_count": 3,
   "metadata": {
    "ExecuteTime": {
     "end_time": "2021-06-16T06:19:49.602379Z",
     "start_time": "2021-06-16T06:19:49.583432Z"
    }
   },
   "outputs": [],
   "source": [
    "class CNNmodel(nn.Module):\n",
    "    def __init__(self):\n",
    "        super(CNNmodel, self).__init__()\n",
    "        self.conv1 = nn.Conv2d(1, 32, 3, padding=1)  # 输入通道是1，输出通道是第二个参数，第三个参数是卷积核大小\n",
    "        # 输出维度根据输入维度和卷积核大小计算\n",
    "        self.conv2 = nn.Conv2d(32, 16, 3, padding=1) # 参数含义同上\n",
    "        self.fc1 = nn.Linear(176, 256)\n",
    "        self.fc2 = nn.Linear(256, 64)\n",
    "        self.fc3 = nn.Linear(64, 1)\n",
    "\n",
    "    def forward(self, x):\n",
    "        #print('【【【【【【forward】】】】】】】】】】')\n",
    "        x = torch.unsqueeze(x, dim=1)  \n",
    "        #print(str(x.shape)) # torch.Size([20, 1, 5, 5])\n",
    "        x = self.conv1(x)\n",
    "        #print(str(x.shape)) # torch.Size([20, 32, 3, 3])\n",
    "        x = F.relu(x)\n",
    "        #print(str(x.shape)) # torch.Size([20, 32, 3, 3])\n",
    "        x = F.max_pool2d(x, 2)\n",
    "        #print(str(x.shape)) # torch.Size([20, 32, 1, 1])\n",
    "        #print(\"[[[[[第一次卷积结束]]]]]\")\n",
    "        x = self.conv2(x)\n",
    "        #print(str(x.shape))  # torch.Size([20, 16, 2, 2])\n",
    "        x = F.relu(x)\n",
    "        #print(str(x.shape))  # torch.Size([20, 16, 2, 2])\n",
    "        x = F.max_pool2d(x, 2)\n",
    "        #print(str(x.shape))  # torch.Size([20, 16, 1, 1])\n",
    "        #print(\"[[[[[第二次卷积结束]]]]]\")\n",
    "        # view函数将张量x变形成一维向量形式，总特征数不变，为全连接层做准备\n",
    "        x = x.view(x.size()[0], -1)\n",
    "        #print(str(x.shape))  # torch.Size([20, 16])\n",
    "        x = F.relu(self.fc1(x))\n",
    "        #print(str(x.shape))  # torch.Size([20, 128])\n",
    "        x = F.relu(self.fc2(x))\n",
    "        #print(str(x.shape))  # torch.Size([20, 64])\n",
    "        x = self.fc3(x)\n",
    "        #print(str(x.shape))  # torch.Size([20, 1])\n",
    "        return x"
   ]
  },
  {
   "cell_type": "code",
   "execution_count": 4,
   "metadata": {
    "ExecuteTime": {
     "end_time": "2021-06-16T06:19:58.576375Z",
     "start_time": "2021-06-16T06:19:58.557424Z"
    }
   },
   "outputs": [],
   "source": [
    "class CNNmodel1(nn.Module):\n",
    "    def __init__(self):\n",
    "        super(CNNmodel1, self).__init__()\n",
    "        self.conv1 = nn.Conv2d(1, 16, 3, padding=1)  # 输入通道是1，输出通道是第二个参数，第三个参数是卷积核大小\n",
    "        self.fc1 = nn.Linear(704, 256)\n",
    "        self.fc2 = nn.Linear(256, 64)\n",
    "        self.fc3 = nn.Linear(64, 1)\n",
    "\n",
    "    def forward(self, x):\n",
    "        #print('【【【【【【forward】】】】】】】】】】')\n",
    "        x = torch.unsqueeze(x, dim=1)  \n",
    "        #print(str(x.shape)) # torch.Size([20, 1, 5, 5])\n",
    "        x = self.conv1(x)\n",
    "        #print(str(x.shape)) # torch.Size([20, 32, 3, 3])\n",
    "        x = F.relu(x)\n",
    "        #print(str(x.shape)) # torch.Size([20, 32, 3, 3])\n",
    "        x = F.max_pool2d(x, 2)\n",
    "        #print(str(x.shape)) # torch.Size([20, 32, 1, 1])\n",
    "        #print(\"[[[[[第一次卷积结束]]]]]\")\n",
    "        \n",
    "        # view函数将张量x变形成一维向量形式，总特征数不变，为全连接层做准备\n",
    "        x = x.view(x.size()[0], -1)\n",
    "        #print(str(x.shape))  # torch.Size([20, 16])\n",
    "        x = F.relu(self.fc1(x))\n",
    "        #print(str(x.shape))  # torch.Size([20, 128])\n",
    "        x = F.relu(self.fc2(x))\n",
    "        #print(str(x.shape))  # torch.Size([20, 64])\n",
    "        x = self.fc3(x)\n",
    "        #print(str(x.shape))  # torch.Size([20, 1])\n",
    "        return x"
   ]
  },
  {
   "cell_type": "code",
   "execution_count": 5,
   "metadata": {
    "ExecuteTime": {
     "end_time": "2021-06-16T06:20:00.448368Z",
     "start_time": "2021-06-16T06:20:00.422436Z"
    }
   },
   "outputs": [],
   "source": [
    "class CNNmodel2(nn.Module):\n",
    "    def __init__(self):\n",
    "        super(CNNmodel2, self).__init__()\n",
    "        self.conv1 = nn.Conv2d(1, 32, 3, padding=1)  # 输入通道是1，输出通道是第二个参数，第三个参数是卷积核大小\n",
    "        # 输出维度根据输入维度和卷积核大小计算\n",
    "        self.conv2 = nn.Conv2d(32, 16, 3, padding=1) # 参数含义同上\n",
    "        self.conv3 = nn.Conv2d(16, 8, 3, padding=1)\n",
    "        self.fc1 = nn.Linear(40, 256)\n",
    "        self.fc2 = nn.Linear(256, 64)\n",
    "        self.fc3 = nn.Linear(64, 1)\n",
    "\n",
    "    def forward(self, x):\n",
    "        #print('【【【【【【forward】】】】】】】】】】')\n",
    "        x = torch.unsqueeze(x, dim=1)  \n",
    "        #print(str(x.shape)) # torch.Size([20, 1, 5, 5])\n",
    "        x = self.conv1(x)\n",
    "        #print(str(x.shape)) # torch.Size([20, 32, 3, 3])\n",
    "        x = F.relu(x)\n",
    "        #print(str(x.shape)) # torch.Size([20, 32, 3, 3])\n",
    "        x = F.max_pool2d(x, 2)\n",
    "        #print(str(x.shape)) # torch.Size([20, 32, 1, 1])\n",
    "        #print(\"[[[[[第一次卷积结束]]]]]\")\n",
    "        x = self.conv2(x)\n",
    "        #print(str(x.shape))  # torch.Size([20, 16, 2, 2])\n",
    "        x = F.relu(x)\n",
    "        #print(str(x.shape))  # torch.Size([20, 16, 2, 2])\n",
    "        x = F.max_pool2d(x, 2)\n",
    "        #print(str(x.shape))  # torch.Size([20, 16, 1, 1])\n",
    "        #print(\"[[[[[第二次卷积结束]]]]]\")\n",
    "        x = self.conv3(x)\n",
    "        x = F.relu(x)\n",
    "        x = F.max_pool2d(x, 2)\n",
    "        \n",
    "        # view函数将张量x变形成一维向量形式，总特征数不变，为全连接层做准备\n",
    "        x = x.view(x.size()[0], -1)\n",
    "        #print(str(x.shape))  # torch.Size([20, 16])\n",
    "        x = F.relu(self.fc1(x))\n",
    "        #print(str(x.shape))  # torch.Size([20, 128])\n",
    "        x = F.relu(self.fc2(x))\n",
    "        #print(str(x.shape))  # torch.Size([20, 64])\n",
    "        x = self.fc3(x)\n",
    "        #print(str(x.shape))  # torch.Size([20, 1])\n",
    "        return x"
   ]
  },
  {
   "cell_type": "code",
   "execution_count": 6,
   "metadata": {
    "ExecuteTime": {
     "end_time": "2021-06-16T06:20:03.691690Z",
     "start_time": "2021-06-16T06:20:03.671743Z"
    }
   },
   "outputs": [],
   "source": [
    "def train_model(epoch, train_dataLoader, test_dataLoader):\n",
    "    # 训练模型\n",
    "    best_model = None\n",
    "    train_loss = 0\n",
    "    test_loss = 0\n",
    "    best_loss = 100\n",
    "    epoch_cnt = 0\n",
    "    for _ in range(epoch):\n",
    "        total_train_loss = 0\n",
    "        total_train_num = 0\n",
    "        total_test_loss = 0\n",
    "        total_test_num = 0\n",
    "        for x, y in tqdm(train_dataLoader,\n",
    "                         desc='Epoch: {}| Train Loss: {}| Test Loss: {}'.format(_, train_loss, test_loss)):\n",
    "            x_num = len(x)\n",
    "            y = torch.unsqueeze(y, dim=1)  \n",
    "            p = model(x)\n",
    "            loss = loss_func(p, y)\n",
    "            optimizer.zero_grad()\n",
    "            loss.backward()\n",
    "            optimizer.step()\n",
    "            total_train_loss += loss.item()\n",
    "            total_train_num += x_num\n",
    "        train_loss = total_train_loss / total_train_num\n",
    "        train_loss_list.append(train_loss)\n",
    "        for x, y in test_dataLoader:\n",
    "            x_num = len(x)\n",
    "            p = model(x)\n",
    "            loss = loss_func(p, y)\n",
    "            optimizer.zero_grad()\n",
    "            loss.backward()\n",
    "            optimizer.step()\n",
    "            total_test_loss += loss.item()\n",
    "            total_test_num += x_num\n",
    "        test_loss = total_test_loss / total_test_num\n",
    "        test_loss_list.append(test_loss)\n",
    "        \n",
    "        # early stop\n",
    "        if best_loss > test_loss:\n",
    "            best_loss = test_loss\n",
    "            best_model = copy(model)\n",
    "            torch.save(best_model.state_dict(), 'cnn_.pth')\n",
    "            epoch_cnt = 0\n",
    "        else:\n",
    "            epoch_cnt += 1\n",
    "            \n",
    "        if epoch_cnt > early_stop:\n",
    "            torch.save(best_model.state_dict(), 'cnn_.pth')\n",
    "            print(\"保存模型\")\n",
    "            #print(best_model.state_dict())\n",
    "            break"
   ]
  },
  {
   "cell_type": "code",
   "execution_count": 7,
   "metadata": {
    "ExecuteTime": {
     "end_time": "2021-06-16T06:20:05.404111Z",
     "start_time": "2021-06-16T06:20:05.387155Z"
    }
   },
   "outputs": [],
   "source": [
    "def test_model(test_dataLoader_):\n",
    "    pred = []\n",
    "    label = []\n",
    "#     model_ = CNNmodel1()\n",
    "    model_.load_state_dict(torch.load(\"cnn_.pth\"))\n",
    "    model_.eval()\n",
    "    total_test_loss = 0\n",
    "    total_test_num = 0\n",
    "    for x, y in test_dataLoader_:\n",
    "        x_num = len(x)\n",
    "        p = model_(x)\n",
    "#         print('##', len(p), len(y))\n",
    "        loss = loss_func(p, y)\n",
    "        total_test_loss += loss.item()\n",
    "        total_test_num += x_num\n",
    "        pred.extend(p.data.squeeze(1).tolist())\n",
    "        label.extend(y.tolist())\n",
    "    test_loss = total_test_loss / total_test_num\n",
    "    # print('##', len(pred), len(label))\n",
    "    return pred, label,test_loss, test_loss_list"
   ]
  },
  {
   "cell_type": "code",
   "execution_count": 8,
   "metadata": {
    "ExecuteTime": {
     "end_time": "2021-06-16T06:20:07.494517Z",
     "start_time": "2021-06-16T06:20:07.470581Z"
    }
   },
   "outputs": [],
   "source": [
    "def plot_img(data, pred):\n",
    "    plt.figure(figsize=(50, 25))\n",
    "    plt.plot(range(len(pred)), pred, color='green')\n",
    "    # plt.plot(range(len(data)), data)\n",
    "    plt.plot(range(len(data)), data, color='b')\n",
    "    for i in range(0, len(pred)-3, 5):\n",
    "        price = [data[i]+pred[j]-pred[i] for j in range(i, i+3)]\n",
    "        plt.plot(range(i, i+3), price, color='r')\n",
    "    plt.xlabel('Date', fontsize=18)\n",
    "    plt.ylabel('Close', fontsize=18)\n",
    "    plt.show()"
   ]
  },
  {
   "cell_type": "code",
   "execution_count": 12,
   "metadata": {
    "ExecuteTime": {
     "end_time": "2021-06-16T06:22:56.461339Z",
     "start_time": "2021-06-16T06:22:47.226078Z"
    },
    "scrolled": false
   },
   "outputs": [
    {
     "name": "stdout",
     "output_type": "stream",
     "text": [
      "num:652\n",
      "len(features):86\n",
      "len(feature):725\n",
      "len(train_x):56072\n",
      "len(train_y):56072\n",
      "len(test_x):6278\n",
      "len(test_y):6278\n"
     ]
    },
    {
     "name": "stderr",
     "output_type": "stream",
     "text": [
      "Epoch: 0| Train Loss: 0| Test Loss: 0:   0%|                                                                                                        | 0/2804 [00:00<?, ?it/s]\n"
     ]
    },
    {
     "ename": "RuntimeError",
     "evalue": "size mismatch, m1: [20 x 864], m2: [704 x 256] at ..\\aten\\src\\TH/generic/THTensorMath.cpp:961",
     "output_type": "error",
     "traceback": [
      "\u001b[1;31m---------------------------------------------------------------------------\u001b[0m",
      "\u001b[1;31mRuntimeError\u001b[0m                              Traceback (most recent call last)",
      "\u001b[1;32m<ipython-input-12-cb9e477e3c39>\u001b[0m in \u001b[0;36m<module>\u001b[1;34m\u001b[0m\n\u001b[0;32m     30\u001b[0m \u001b[0mloss_func\u001b[0m \u001b[1;33m=\u001b[0m \u001b[0mnn\u001b[0m\u001b[1;33m.\u001b[0m\u001b[0mMSELoss\u001b[0m\u001b[1;33m(\u001b[0m\u001b[1;33m)\u001b[0m\u001b[1;33m\u001b[0m\u001b[1;33m\u001b[0m\u001b[0m\n\u001b[0;32m     31\u001b[0m \u001b[0moptimizer\u001b[0m \u001b[1;33m=\u001b[0m \u001b[0moptim\u001b[0m\u001b[1;33m.\u001b[0m\u001b[0mAdam\u001b[0m\u001b[1;33m(\u001b[0m\u001b[0mmodel\u001b[0m\u001b[1;33m.\u001b[0m\u001b[0mparameters\u001b[0m\u001b[1;33m(\u001b[0m\u001b[1;33m)\u001b[0m\u001b[1;33m,\u001b[0m \u001b[0mlr\u001b[0m\u001b[1;33m=\u001b[0m\u001b[1;36m0.001\u001b[0m\u001b[1;33m)\u001b[0m\u001b[1;33m\u001b[0m\u001b[1;33m\u001b[0m\u001b[0m\n\u001b[1;32m---> 32\u001b[1;33m \u001b[0mtrain_model\u001b[0m\u001b[1;33m(\u001b[0m\u001b[0mepoch\u001b[0m\u001b[1;33m,\u001b[0m \u001b[0mtrain_dataLoader\u001b[0m\u001b[1;33m,\u001b[0m \u001b[0mtest_dataLoader\u001b[0m\u001b[1;33m)\u001b[0m\u001b[1;33m\u001b[0m\u001b[1;33m\u001b[0m\u001b[0m\n\u001b[0m\u001b[0;32m     33\u001b[0m \u001b[0mp\u001b[0m\u001b[1;33m,\u001b[0m \u001b[0my\u001b[0m\u001b[1;33m,\u001b[0m \u001b[0mtest_loss\u001b[0m\u001b[1;33m,\u001b[0m \u001b[0mtest_loss_list\u001b[0m \u001b[1;33m=\u001b[0m \u001b[0mtest_model\u001b[0m\u001b[1;33m(\u001b[0m\u001b[0mtest_dataLoader\u001b[0m\u001b[1;33m)\u001b[0m\u001b[1;33m\u001b[0m\u001b[1;33m\u001b[0m\u001b[0m\n\u001b[0;32m     34\u001b[0m \u001b[1;33m\u001b[0m\u001b[0m\n",
      "\u001b[1;32m<ipython-input-6-6051699dfd74>\u001b[0m in \u001b[0;36mtrain_model\u001b[1;34m(epoch, train_dataLoader, test_dataLoader)\u001b[0m\n\u001b[0;32m     15\u001b[0m             \u001b[0mx_num\u001b[0m \u001b[1;33m=\u001b[0m \u001b[0mlen\u001b[0m\u001b[1;33m(\u001b[0m\u001b[0mx\u001b[0m\u001b[1;33m)\u001b[0m\u001b[1;33m\u001b[0m\u001b[1;33m\u001b[0m\u001b[0m\n\u001b[0;32m     16\u001b[0m             \u001b[0my\u001b[0m \u001b[1;33m=\u001b[0m \u001b[0mtorch\u001b[0m\u001b[1;33m.\u001b[0m\u001b[0munsqueeze\u001b[0m\u001b[1;33m(\u001b[0m\u001b[0my\u001b[0m\u001b[1;33m,\u001b[0m \u001b[0mdim\u001b[0m\u001b[1;33m=\u001b[0m\u001b[1;36m1\u001b[0m\u001b[1;33m)\u001b[0m\u001b[1;33m\u001b[0m\u001b[1;33m\u001b[0m\u001b[0m\n\u001b[1;32m---> 17\u001b[1;33m             \u001b[0mp\u001b[0m \u001b[1;33m=\u001b[0m \u001b[0mmodel\u001b[0m\u001b[1;33m(\u001b[0m\u001b[0mx\u001b[0m\u001b[1;33m)\u001b[0m\u001b[1;33m\u001b[0m\u001b[1;33m\u001b[0m\u001b[0m\n\u001b[0m\u001b[0;32m     18\u001b[0m             \u001b[0mloss\u001b[0m \u001b[1;33m=\u001b[0m \u001b[0mloss_func\u001b[0m\u001b[1;33m(\u001b[0m\u001b[0mp\u001b[0m\u001b[1;33m,\u001b[0m \u001b[0my\u001b[0m\u001b[1;33m)\u001b[0m\u001b[1;33m\u001b[0m\u001b[1;33m\u001b[0m\u001b[0m\n\u001b[0;32m     19\u001b[0m             \u001b[0moptimizer\u001b[0m\u001b[1;33m.\u001b[0m\u001b[0mzero_grad\u001b[0m\u001b[1;33m(\u001b[0m\u001b[1;33m)\u001b[0m\u001b[1;33m\u001b[0m\u001b[1;33m\u001b[0m\u001b[0m\n",
      "\u001b[1;32m~\\Anaconda3\\lib\\site-packages\\torch\\nn\\modules\\module.py\u001b[0m in \u001b[0;36m__call__\u001b[1;34m(self, *input, **kwargs)\u001b[0m\n\u001b[0;32m    491\u001b[0m             \u001b[0mresult\u001b[0m \u001b[1;33m=\u001b[0m \u001b[0mself\u001b[0m\u001b[1;33m.\u001b[0m\u001b[0m_slow_forward\u001b[0m\u001b[1;33m(\u001b[0m\u001b[1;33m*\u001b[0m\u001b[0minput\u001b[0m\u001b[1;33m,\u001b[0m \u001b[1;33m**\u001b[0m\u001b[0mkwargs\u001b[0m\u001b[1;33m)\u001b[0m\u001b[1;33m\u001b[0m\u001b[1;33m\u001b[0m\u001b[0m\n\u001b[0;32m    492\u001b[0m         \u001b[1;32melse\u001b[0m\u001b[1;33m:\u001b[0m\u001b[1;33m\u001b[0m\u001b[1;33m\u001b[0m\u001b[0m\n\u001b[1;32m--> 493\u001b[1;33m             \u001b[0mresult\u001b[0m \u001b[1;33m=\u001b[0m \u001b[0mself\u001b[0m\u001b[1;33m.\u001b[0m\u001b[0mforward\u001b[0m\u001b[1;33m(\u001b[0m\u001b[1;33m*\u001b[0m\u001b[0minput\u001b[0m\u001b[1;33m,\u001b[0m \u001b[1;33m**\u001b[0m\u001b[0mkwargs\u001b[0m\u001b[1;33m)\u001b[0m\u001b[1;33m\u001b[0m\u001b[1;33m\u001b[0m\u001b[0m\n\u001b[0m\u001b[0;32m    494\u001b[0m         \u001b[1;32mfor\u001b[0m \u001b[0mhook\u001b[0m \u001b[1;32min\u001b[0m \u001b[0mself\u001b[0m\u001b[1;33m.\u001b[0m\u001b[0m_forward_hooks\u001b[0m\u001b[1;33m.\u001b[0m\u001b[0mvalues\u001b[0m\u001b[1;33m(\u001b[0m\u001b[1;33m)\u001b[0m\u001b[1;33m:\u001b[0m\u001b[1;33m\u001b[0m\u001b[1;33m\u001b[0m\u001b[0m\n\u001b[0;32m    495\u001b[0m             \u001b[0mhook_result\u001b[0m \u001b[1;33m=\u001b[0m \u001b[0mhook\u001b[0m\u001b[1;33m(\u001b[0m\u001b[0mself\u001b[0m\u001b[1;33m,\u001b[0m \u001b[0minput\u001b[0m\u001b[1;33m,\u001b[0m \u001b[0mresult\u001b[0m\u001b[1;33m)\u001b[0m\u001b[1;33m\u001b[0m\u001b[1;33m\u001b[0m\u001b[0m\n",
      "\u001b[1;32m<ipython-input-4-9eec42d5ace5>\u001b[0m in \u001b[0;36mforward\u001b[1;34m(self, x)\u001b[0m\n\u001b[0;32m     22\u001b[0m         \u001b[0mx\u001b[0m \u001b[1;33m=\u001b[0m \u001b[0mx\u001b[0m\u001b[1;33m.\u001b[0m\u001b[0mview\u001b[0m\u001b[1;33m(\u001b[0m\u001b[0mx\u001b[0m\u001b[1;33m.\u001b[0m\u001b[0msize\u001b[0m\u001b[1;33m(\u001b[0m\u001b[1;33m)\u001b[0m\u001b[1;33m[\u001b[0m\u001b[1;36m0\u001b[0m\u001b[1;33m]\u001b[0m\u001b[1;33m,\u001b[0m \u001b[1;33m-\u001b[0m\u001b[1;36m1\u001b[0m\u001b[1;33m)\u001b[0m\u001b[1;33m\u001b[0m\u001b[1;33m\u001b[0m\u001b[0m\n\u001b[0;32m     23\u001b[0m         \u001b[1;31m#print(str(x.shape))  # torch.Size([20, 16])\u001b[0m\u001b[1;33m\u001b[0m\u001b[1;33m\u001b[0m\u001b[1;33m\u001b[0m\u001b[0m\n\u001b[1;32m---> 24\u001b[1;33m         \u001b[0mx\u001b[0m \u001b[1;33m=\u001b[0m \u001b[0mF\u001b[0m\u001b[1;33m.\u001b[0m\u001b[0mrelu\u001b[0m\u001b[1;33m(\u001b[0m\u001b[0mself\u001b[0m\u001b[1;33m.\u001b[0m\u001b[0mfc1\u001b[0m\u001b[1;33m(\u001b[0m\u001b[0mx\u001b[0m\u001b[1;33m)\u001b[0m\u001b[1;33m)\u001b[0m\u001b[1;33m\u001b[0m\u001b[1;33m\u001b[0m\u001b[0m\n\u001b[0m\u001b[0;32m     25\u001b[0m         \u001b[1;31m#print(str(x.shape))  # torch.Size([20, 128])\u001b[0m\u001b[1;33m\u001b[0m\u001b[1;33m\u001b[0m\u001b[1;33m\u001b[0m\u001b[0m\n\u001b[0;32m     26\u001b[0m         \u001b[0mx\u001b[0m \u001b[1;33m=\u001b[0m \u001b[0mF\u001b[0m\u001b[1;33m.\u001b[0m\u001b[0mrelu\u001b[0m\u001b[1;33m(\u001b[0m\u001b[0mself\u001b[0m\u001b[1;33m.\u001b[0m\u001b[0mfc2\u001b[0m\u001b[1;33m(\u001b[0m\u001b[0mx\u001b[0m\u001b[1;33m)\u001b[0m\u001b[1;33m)\u001b[0m\u001b[1;33m\u001b[0m\u001b[1;33m\u001b[0m\u001b[0m\n",
      "\u001b[1;32m~\\Anaconda3\\lib\\site-packages\\torch\\nn\\modules\\module.py\u001b[0m in \u001b[0;36m__call__\u001b[1;34m(self, *input, **kwargs)\u001b[0m\n\u001b[0;32m    491\u001b[0m             \u001b[0mresult\u001b[0m \u001b[1;33m=\u001b[0m \u001b[0mself\u001b[0m\u001b[1;33m.\u001b[0m\u001b[0m_slow_forward\u001b[0m\u001b[1;33m(\u001b[0m\u001b[1;33m*\u001b[0m\u001b[0minput\u001b[0m\u001b[1;33m,\u001b[0m \u001b[1;33m**\u001b[0m\u001b[0mkwargs\u001b[0m\u001b[1;33m)\u001b[0m\u001b[1;33m\u001b[0m\u001b[1;33m\u001b[0m\u001b[0m\n\u001b[0;32m    492\u001b[0m         \u001b[1;32melse\u001b[0m\u001b[1;33m:\u001b[0m\u001b[1;33m\u001b[0m\u001b[1;33m\u001b[0m\u001b[0m\n\u001b[1;32m--> 493\u001b[1;33m             \u001b[0mresult\u001b[0m \u001b[1;33m=\u001b[0m \u001b[0mself\u001b[0m\u001b[1;33m.\u001b[0m\u001b[0mforward\u001b[0m\u001b[1;33m(\u001b[0m\u001b[1;33m*\u001b[0m\u001b[0minput\u001b[0m\u001b[1;33m,\u001b[0m \u001b[1;33m**\u001b[0m\u001b[0mkwargs\u001b[0m\u001b[1;33m)\u001b[0m\u001b[1;33m\u001b[0m\u001b[1;33m\u001b[0m\u001b[0m\n\u001b[0m\u001b[0;32m    494\u001b[0m         \u001b[1;32mfor\u001b[0m \u001b[0mhook\u001b[0m \u001b[1;32min\u001b[0m \u001b[0mself\u001b[0m\u001b[1;33m.\u001b[0m\u001b[0m_forward_hooks\u001b[0m\u001b[1;33m.\u001b[0m\u001b[0mvalues\u001b[0m\u001b[1;33m(\u001b[0m\u001b[1;33m)\u001b[0m\u001b[1;33m:\u001b[0m\u001b[1;33m\u001b[0m\u001b[1;33m\u001b[0m\u001b[0m\n\u001b[0;32m    495\u001b[0m             \u001b[0mhook_result\u001b[0m \u001b[1;33m=\u001b[0m \u001b[0mhook\u001b[0m\u001b[1;33m(\u001b[0m\u001b[0mself\u001b[0m\u001b[1;33m,\u001b[0m \u001b[0minput\u001b[0m\u001b[1;33m,\u001b[0m \u001b[0mresult\u001b[0m\u001b[1;33m)\u001b[0m\u001b[1;33m\u001b[0m\u001b[1;33m\u001b[0m\u001b[0m\n",
      "\u001b[1;32m~\\Anaconda3\\lib\\site-packages\\torch\\nn\\modules\\linear.py\u001b[0m in \u001b[0;36mforward\u001b[1;34m(self, input)\u001b[0m\n\u001b[0;32m     90\u001b[0m     \u001b[1;33m@\u001b[0m\u001b[0mweak_script_method\u001b[0m\u001b[1;33m\u001b[0m\u001b[1;33m\u001b[0m\u001b[0m\n\u001b[0;32m     91\u001b[0m     \u001b[1;32mdef\u001b[0m \u001b[0mforward\u001b[0m\u001b[1;33m(\u001b[0m\u001b[0mself\u001b[0m\u001b[1;33m,\u001b[0m \u001b[0minput\u001b[0m\u001b[1;33m)\u001b[0m\u001b[1;33m:\u001b[0m\u001b[1;33m\u001b[0m\u001b[1;33m\u001b[0m\u001b[0m\n\u001b[1;32m---> 92\u001b[1;33m         \u001b[1;32mreturn\u001b[0m \u001b[0mF\u001b[0m\u001b[1;33m.\u001b[0m\u001b[0mlinear\u001b[0m\u001b[1;33m(\u001b[0m\u001b[0minput\u001b[0m\u001b[1;33m,\u001b[0m \u001b[0mself\u001b[0m\u001b[1;33m.\u001b[0m\u001b[0mweight\u001b[0m\u001b[1;33m,\u001b[0m \u001b[0mself\u001b[0m\u001b[1;33m.\u001b[0m\u001b[0mbias\u001b[0m\u001b[1;33m)\u001b[0m\u001b[1;33m\u001b[0m\u001b[1;33m\u001b[0m\u001b[0m\n\u001b[0m\u001b[0;32m     93\u001b[0m \u001b[1;33m\u001b[0m\u001b[0m\n\u001b[0;32m     94\u001b[0m     \u001b[1;32mdef\u001b[0m \u001b[0mextra_repr\u001b[0m\u001b[1;33m(\u001b[0m\u001b[0mself\u001b[0m\u001b[1;33m)\u001b[0m\u001b[1;33m:\u001b[0m\u001b[1;33m\u001b[0m\u001b[1;33m\u001b[0m\u001b[0m\n",
      "\u001b[1;32m~\\Anaconda3\\lib\\site-packages\\torch\\nn\\functional.py\u001b[0m in \u001b[0;36mlinear\u001b[1;34m(input, weight, bias)\u001b[0m\n\u001b[0;32m   1404\u001b[0m     \u001b[1;32mif\u001b[0m \u001b[0minput\u001b[0m\u001b[1;33m.\u001b[0m\u001b[0mdim\u001b[0m\u001b[1;33m(\u001b[0m\u001b[1;33m)\u001b[0m \u001b[1;33m==\u001b[0m \u001b[1;36m2\u001b[0m \u001b[1;32mand\u001b[0m \u001b[0mbias\u001b[0m \u001b[1;32mis\u001b[0m \u001b[1;32mnot\u001b[0m \u001b[1;32mNone\u001b[0m\u001b[1;33m:\u001b[0m\u001b[1;33m\u001b[0m\u001b[1;33m\u001b[0m\u001b[0m\n\u001b[0;32m   1405\u001b[0m         \u001b[1;31m# fused op is marginally faster\u001b[0m\u001b[1;33m\u001b[0m\u001b[1;33m\u001b[0m\u001b[1;33m\u001b[0m\u001b[0m\n\u001b[1;32m-> 1406\u001b[1;33m         \u001b[0mret\u001b[0m \u001b[1;33m=\u001b[0m \u001b[0mtorch\u001b[0m\u001b[1;33m.\u001b[0m\u001b[0maddmm\u001b[0m\u001b[1;33m(\u001b[0m\u001b[0mbias\u001b[0m\u001b[1;33m,\u001b[0m \u001b[0minput\u001b[0m\u001b[1;33m,\u001b[0m \u001b[0mweight\u001b[0m\u001b[1;33m.\u001b[0m\u001b[0mt\u001b[0m\u001b[1;33m(\u001b[0m\u001b[1;33m)\u001b[0m\u001b[1;33m)\u001b[0m\u001b[1;33m\u001b[0m\u001b[1;33m\u001b[0m\u001b[0m\n\u001b[0m\u001b[0;32m   1407\u001b[0m     \u001b[1;32melse\u001b[0m\u001b[1;33m:\u001b[0m\u001b[1;33m\u001b[0m\u001b[1;33m\u001b[0m\u001b[0m\n\u001b[0;32m   1408\u001b[0m         \u001b[0moutput\u001b[0m \u001b[1;33m=\u001b[0m \u001b[0minput\u001b[0m\u001b[1;33m.\u001b[0m\u001b[0mmatmul\u001b[0m\u001b[1;33m(\u001b[0m\u001b[0mweight\u001b[0m\u001b[1;33m.\u001b[0m\u001b[0mt\u001b[0m\u001b[1;33m(\u001b[0m\u001b[1;33m)\u001b[0m\u001b[1;33m)\u001b[0m\u001b[1;33m\u001b[0m\u001b[1;33m\u001b[0m\u001b[0m\n",
      "\u001b[1;31mRuntimeError\u001b[0m: size mismatch, m1: [20 x 864], m2: [704 x 256] at ..\\aten\\src\\TH/generic/THTensorMath.cpp:961"
     ]
    }
   ],
   "source": [
    "seed_torch(1122)\n",
    "test_loss_list = []\n",
    "train_loss_list = []\n",
    "# 参数\n",
    "days_num = 5\n",
    "epoch = 20\n",
    "fea = 5\n",
    "batch_size = 20\n",
    "early_stop = 5\n",
    "\n",
    "# 初始化模型\n",
    "model = CNNmodel1()\n",
    "model_ = CNNmodel1()\n",
    "\n",
    "# 数据处理部分\n",
    "GD = GetData()\n",
    "train_x, test_x, train_y, test_y = GD.process_data()\n",
    "# print(x_train)\n",
    "x_train = torch.tensor(train_x).float()\n",
    "x_test = torch.tensor(test_x).float()\n",
    "y_train = torch.tensor(train_y).float()\n",
    "y_test = torch.tensor(test_y).float()\n",
    "train_data = TensorDataset(x_train, y_train)\n",
    "train_dataLoader = DataLoader(train_data, batch_size=batch_size)\n",
    "test_data = TensorDataset(x_test, y_test)\n",
    "test_dataLoader = DataLoader(test_data, batch_size=batch_size)\n",
    "\n",
    "\n",
    "# 损失函数和优化器\n",
    "loss_func = nn.MSELoss()\n",
    "optimizer = optim.Adam(model.parameters(), lr=0.001)\n",
    "train_model(epoch, train_dataLoader, test_dataLoader)\n",
    "p, y, test_loss, test_loss_list = test_model(test_dataLoader)\n",
    "\n",
    "# 画图\n",
    "pred = [ele * (GD.close_max - GD.close_min) + GD.close_min for ele in p]\n",
    "data = [ele * (GD.close_max - GD.close_min) + GD.close_min for ele in y]\n",
    "\n",
    "#plot_img(data, pred)\n"
   ]
  },
  {
   "cell_type": "code",
   "execution_count": 23,
   "metadata": {
    "ExecuteTime": {
     "end_time": "2021-06-09T13:08:30.606397Z",
     "start_time": "2021-06-09T13:08:30.038868Z"
    }
   },
   "outputs": [
    {
     "data": {
      "text/plain": [
       "<matplotlib.legend.Legend at 0x2125e4ca188>"
      ]
     },
     "execution_count": 23,
     "metadata": {},
     "output_type": "execute_result"
    },
    {
     "data": {
      "image/png": "[encoded data removed]",
      "text/plain": [
       "<Figure size 432x288 with 1 Axes>"
      ]
     },
     "metadata": {
      "needs_background": "light"
     },
     "output_type": "display_data"
    }
   ],
   "source": [
    "plt.xlabel('Epoch', fontsize=18)\n",
    "plt.ylabel('Loss', fontsize=18)\n",
    "plt.plot(test_loss_list)\n",
    "plt.plot(train_loss_list)\n",
    "plt.legend([\"test\",\"train\"])"
   ]
  },
  {
   "cell_type": "code",
   "execution_count": 26,
   "metadata": {
    "ExecuteTime": {
     "end_time": "2021-06-09T13:08:50.429100Z",
     "start_time": "2021-06-09T13:08:50.418136Z"
    }
   },
   "outputs": [
    {
     "data": {
      "text/plain": [
       "0.6611202503262482"
      ]
     },
     "execution_count": 26,
     "metadata": {},
     "output_type": "execute_result"
    }
   ],
   "source": [
    "from get_rr import goodness_of_fit\n",
    "rr = goodness_of_fit(pred, data)\n",
    "rr"
   ]
  },
  {
   "cell_type": "code",
   "execution_count": null,
   "metadata": {
    "ExecuteTime": {
     "end_time": "2021-06-09T13:12:42.644163Z",
     "start_time": "2021-06-09T13:12:41.410471Z"
    }
   },
   "outputs": [],
   "source": []
  },
  {
   "cell_type": "code",
   "execution_count": null,
   "metadata": {
    "ExecuteTime": {
     "end_time": "2021-06-09T12:46:29.255118Z",
     "start_time": "2021-06-09T12:46:28.894085Z"
    }
   },
   "outputs": [],
   "source": []
  },
  {
   "cell_type": "code",
   "execution_count": null,
   "metadata": {
    "ExecuteTime": {
     "end_time": "2021-05-31T08:33:39.271062Z",
     "start_time": "2021-05-31T08:33:39.244146Z"
    }
   },
   "outputs": [],
   "source": []
  },
  {
   "cell_type": "code",
   "execution_count": null,
   "metadata": {
    "ExecuteTime": {
     "end_time": "2021-05-31T08:31:56.404415Z",
     "start_time": "2021-05-31T08:31:56.397434Z"
    }
   },
   "outputs": [],
   "source": []
  }
 ],
 "metadata": {
  "kernelspec": {
   "display_name": "Python 3",
   "language": "python",
   "name": "python3"
  },
  "language_info": {
   "codemirror_mode": {
    "name": "ipython",
    "version": 3
   },
   "file_extension": ".py",
   "mimetype": "text/x-python",
   "name": "python",
   "nbconvert_exporter": "python",
   "pygments_lexer": "ipython3",
   "version": "3.7.4"
  }
 },
 "nbformat": 4,
 "nbformat_minor": 2
}

{
 "cells": [
  {
   "cell_type": "code",
   "execution_count": 1,
   "metadata": {
    "ExecuteTime": {
     "end_time": "2021-06-15T11:37:31.725349Z",
     "start_time": "2021-06-15T11:37:31.694432Z"
    }
   },
   "outputs": [],
   "source": [
    "import sys\n",
    "import warnings\n",
    "import os\n",
    "if not sys.warnoptions:\n",
    "    warnings.simplefilter('ignore')"
   ]
  },
  {
   "cell_type": "code",
   "execution_count": 2,
   "metadata": {
    "ExecuteTime": {
     "end_time": "2021-06-15T11:37:38.823373Z",
     "start_time": "2021-06-15T11:37:31.731334Z"
    }
   },
   "outputs": [],
   "source": [
    "import torch\n",
    "import torch.nn.functional as F\n",
    "import torch.nn as nn\n",
    "import torch.optim as optim\n",
    "import random\n",
    "import numpy as np\n",
    "import matplotlib.pyplot as plt\n",
    "import seaborn as sns\n",
    "import pandas as pd\n",
    "from sklearn.preprocessing import MinMaxScaler\n",
    "from datetime import datetime\n",
    "from datetime import timedelta\n",
    "from tqdm import tqdm\n",
    "from copy import deepcopy as copy\n",
    "from torch.utils.data import DataLoader, TensorDataset\n",
    "sns.set()\n",
    "from get_rr import goodness_of_fit\n",
    "def seed_torch(seed=1122):\n",
    "    random.seed(seed)\n",
    "    os.environ['PYTHONHASHSEED'] = str(seed) # 为了禁止hash随机化，使得实验可复现\n",
    "    np.random.seed(seed)\n",
    "    torch.manual_seed(seed)\n",
    "    torch.cuda.manual_seed(seed)\n",
    "    torch.cuda.manual_seed_all(seed) # if you are using multi-GPU.\n",
    "    torch.backends.cudnn.benchmark = False\n",
    "    torch.backends.cudnn.deterministic = True"
   ]
  },
  {
   "cell_type": "markdown",
   "metadata": {},
   "source": [
    "# Loading the data"
   ]
  },
  {
   "cell_type": "code",
   "execution_count": 3,
   "metadata": {
    "ExecuteTime": {
     "end_time": "2021-06-15T11:37:38.854291Z",
     "start_time": "2021-06-15T11:37:38.831352Z"
    }
   },
   "outputs": [],
   "source": [
    "class GetData2:\n",
    "    def __init__(self):\n",
    "        path = '../数据预处理/种植业除语法树.csv'\n",
    "        sh02 = pd.read_csv(path)\n",
    "        sh02.drop(labels=['Unnamed: 0','code'],axis=1,inplace=True)\n",
    "        sh02 = sh02.fillna(0)\n",
    "        sh02 = sh02.set_index('date')\n",
    "        self.data = sh02\n",
    "        \n",
    "    def getData(self):\n",
    "        self.close_min = self.data['close'].min()\n",
    "        self.close_max = self.data[\"close\"].max()\n",
    "        self.data = self.data.apply(lambda x: (x - min(x)) / (max(x) - min(x)))\n",
    "        self.data = self.data.fillna(0)\n",
    "        return self.data\n",
    "    \n",
    "    def process_data(self, n):\n",
    "        self.getData()\n",
    "        feature = [\n",
    "            self.data.iloc[i: i + n].values.tolist()\n",
    "            for i in range(len(self.data) - n + 2)\n",
    "            if i + n < len(self.data)\n",
    "        ]\n",
    "        label = [\n",
    "            self.data.close.values[i + n]\n",
    "            for i in range(len(self.data) - n + 2)\n",
    "            if i + n < len(self.data)\n",
    "        ]\n",
    "        num = int(len(feature) * 0.9)\n",
    "        train_x = feature[:num]\n",
    "        test_x = feature[num:]\n",
    "        train_y = label[:num]\n",
    "        test_y = label[num:]\n",
    "        return train_x, test_x, train_y, test_y"
   ]
  },
  {
   "cell_type": "code",
   "execution_count": 4,
   "metadata": {
    "ExecuteTime": {
     "end_time": "2021-06-15T11:37:38.917123Z",
     "start_time": "2021-06-15T11:37:38.860276Z"
    }
   },
   "outputs": [],
   "source": [
    "class GetData:\n",
    "    def __init__(self, batch_size=20, n=5):\n",
    "        \"\"\"\n",
    "        简单地读取数据\n",
    "        \"\"\"\n",
    "        path1 = '../数据预处理/化学原料33支股票新版.csv'\n",
    "        path2 = '../数据预处理/钢铁行业34支股票新版.csv'\n",
    "        path3 = '../数据预处理/种植业19支股票新版.csv'\n",
    "        sh1 = pd.read_csv(path1)\n",
    "        sh2 = pd.read_csv(path2)\n",
    "        sh3 = pd.read_csv(path3)\n",
    "        sh02 = pd.concat([sh1,sh2,sh3],axis=0,ignore_index=True)\n",
    "        self.data = sh02\n",
    "        self.batch_size = batch_size\n",
    "        self.n = n\n",
    "        self.features = []\n",
    "        self.labels = []\n",
    "        \n",
    "    def preprocess(self):\n",
    "        self.data = self.data.fillna(0)\n",
    "        self.data = self.data.set_index('date')\n",
    "        self.close_min = self.data['close'].min()\n",
    "        self.close_max = self.data[\"close\"].max()\n",
    "        self.data = self.data.apply(lambda x: (x - min(x)) / (max(x) - min(x)))\n",
    "        self.data = self.data.fillna(0)\n",
    "        self.indnums = len(list(self.data['code'].unique()))\n",
    "        for i in list(self.data['code'].unique()):\n",
    "            data = self.data[self.data['code']==i]\n",
    "            data.drop(labels=['code'],axis=1,inplace=True)\n",
    "            self.split(data)\n",
    "            \n",
    "    def split(self, data):\n",
    "        n = self.n\n",
    "        feature = [\n",
    "            data.iloc[i: i + n].values.tolist()\n",
    "            for i in range(len(data) - n + 2)\n",
    "            if i + n < len(data)\n",
    "        ]\n",
    "        label = [\n",
    "            data.close.values[i + n]\n",
    "            for i in range(len(data) - n + 2)\n",
    "            if i + n < len(data)\n",
    "        ]\n",
    "        #print(len(label))\n",
    "        self.features.append(feature)\n",
    "        self.labels.append(label)\n",
    "        \n",
    "    def process_data(self):\n",
    "        train_x = []\n",
    "        test_x = []\n",
    "        train_y = []\n",
    "        test_y = []\n",
    "        self.preprocess()\n",
    "        # 一支股票的数据被分成了725条，前百分之九十用来训练，后百分之十测试\n",
    "        num = int(725 * 0.9)\n",
    "        print(\"num:\"+str(num))\n",
    "        print(\"len(features):\"+str(len(self.features)))\n",
    "        print(\"len(feature):\"+str(len(self.features[2])))\n",
    "        # 按照时间顺序构建训练集和测试集\n",
    "        for i in range(len(self.features)):\n",
    "            for j in range(len(self.features[i])):\n",
    "                if j < num:\n",
    "                    train_x.append(self.features[i][j])\n",
    "                    train_y.append(self.labels[i][j])\n",
    "                else:\n",
    "                    test_x.append(self.features[i][j])\n",
    "                    test_y.append(self.labels[i][j])\n",
    "        # 把训练集打乱\n",
    "        cc = list(zip(train_x, train_y))\n",
    "        random.shuffle(cc)\n",
    "        train_x[:], train_y[:] = zip(*cc)\n",
    "        print(\"len(train_x):\"+str(len(train_x)))\n",
    "        print(\"len(train_y):\"+str(len(train_y)))\n",
    "        print(\"len(test_x):\"+str(len(test_x)))\n",
    "        print(\"len(test_y):\"+str(len(test_y)))\n",
    "        return train_x, test_x, train_y, test_y"
   ]
  },
  {
   "cell_type": "code",
   "execution_count": 5,
   "metadata": {
    "ExecuteTime": {
     "end_time": "2021-06-15T11:37:38.948041Z",
     "start_time": "2021-06-15T11:37:38.923107Z"
    }
   },
   "outputs": [],
   "source": [
    "class Model(nn.Module):\n",
    "    def __init__(self, n):\n",
    "        super(Model, self).__init__()\n",
    "        self.lstm_layer = nn.LSTM(input_size=n, hidden_size=128, batch_first=True)\n",
    "        self.linear_layer = nn.Linear(in_features=128, out_features=1, bias=True)\n",
    "    def forward(self, x):\n",
    "        out1, (h_n, h_c) = self.lstm_layer(x)\n",
    "        a, b, c = h_n.shape\n",
    "        out2 = self.linear_layer(h_n.reshape(a*b, c))\n",
    "        return out2"
   ]
  },
  {
   "cell_type": "code",
   "execution_count": 6,
   "metadata": {
    "ExecuteTime": {
     "end_time": "2021-06-15T11:37:38.979954Z",
     "start_time": "2021-06-15T11:37:38.953027Z"
    }
   },
   "outputs": [],
   "source": [
    "class Model2(nn.Module):\n",
    "    def __init__(self, n):\n",
    "        super(Model2, self).__init__()\n",
    "        self.lstm_layer = nn.LSTM(input_size=n, hidden_size=128, batch_first=True)\n",
    "        self.lstm_layer2 = nn.LSTM(input_size=128, hidden_size=64, batch_first=True)\n",
    "        self.linear_layer = nn.Linear(in_features=64, out_features=1, bias=True)\n",
    "    def forward(self, x):\n",
    "#         print(x.shape)#torch.Size([20, 5, 45])\n",
    "        out1, (h_n, h_c) = self.lstm_layer(x)\n",
    "#         print(out1.shape)#torch.Size([20, 5, 128])\n",
    "#         print(h_n.shape)#torch.Size([1, 20, 128])\n",
    "#         print(h_c.shape)#torch.Size([1, 20, 128])\n",
    "        a, b, c = h_n.shape\n",
    "        out2, (h_n2, h_c2) = self.lstm_layer2(out1)\n",
    "        a2, b2, c2 = h_n2.shape\n",
    "        out2 = self.linear_layer(h_n2.reshape(a2*b2, c2))\n",
    "        return out2"
   ]
  },
  {
   "cell_type": "markdown",
   "metadata": {},
   "source": [
    "# 训练与测试\n",
    "1. 计算损失loss\n",
    "2. 损失 backward\n",
    "3. 优化器 step\n",
    "（不要忘记优化器清零梯度）"
   ]
  },
  {
   "cell_type": "code",
   "execution_count": 7,
   "metadata": {
    "ExecuteTime": {
     "end_time": "2021-06-15T11:37:39.026845Z",
     "start_time": "2021-06-15T11:37:38.984941Z"
    }
   },
   "outputs": [],
   "source": [
    "def train_model(epoch, train_dataLoader, test_dataLoader):\n",
    "    # 训练模型\n",
    "    best_model = None\n",
    "    train_loss = 0\n",
    "    test_loss = 0\n",
    "    best_loss = 100\n",
    "    epoch_cnt = 0\n",
    "    for _ in range(epoch):\n",
    "        total_train_loss = 0\n",
    "        total_train_num = 0\n",
    "        total_test_loss = 0\n",
    "        total_test_num = 0\n",
    "        for x, y in tqdm(train_dataLoader,\n",
    "                         desc='Epoch: {}| Train Loss: {}| Test Loss: {}'.format(_, train_loss, test_loss)):\n",
    "            x_num = len(x)\n",
    "            p = model(x)\n",
    "            # print(len(p[0]))\n",
    "            loss = loss_func(p, y)\n",
    "            optimizer.zero_grad()\n",
    "            loss.backward()\n",
    "            optimizer.step()\n",
    "            total_train_loss += loss.item()\n",
    "            total_train_num += x_num\n",
    "        train_loss = total_train_loss / total_train_num\n",
    "        for x, y in test_dataLoader:\n",
    "            x_num = len(x)\n",
    "            p = model(x)\n",
    "            loss = loss_func(p, y)\n",
    "            optimizer.zero_grad()\n",
    "            loss.backward()\n",
    "            optimizer.step()\n",
    "            total_test_loss += loss.item()\n",
    "            total_test_num += x_num\n",
    "        test_loss = total_test_loss / total_test_num\n",
    "        \n",
    "        # early stop\n",
    "        if best_loss > test_loss:\n",
    "            best_loss = test_loss\n",
    "            best_model = copy(model)\n",
    "            torch.save(best_model.state_dict(), 'lstm_.pth')\n",
    "            epoch_cnt = 0\n",
    "        else:\n",
    "            epoch_cnt += 1\n",
    "            \n",
    "        if epoch_cnt > early_stop:\n",
    "            torch.save(best_model.state_dict(), 'lstm_.pth')\n",
    "            print(\"保存模型\")\n",
    "            #print(best_model.state_dict())\n",
    "            break"
   ]
  },
  {
   "cell_type": "code",
   "execution_count": 8,
   "metadata": {
    "ExecuteTime": {
     "end_time": "2021-06-15T11:37:39.057765Z",
     "start_time": "2021-06-15T11:37:39.032813Z"
    }
   },
   "outputs": [],
   "source": [
    "def test_model(test_dataLoader_):\n",
    "    pred = []\n",
    "    label = []\n",
    "    model_ = Model2(fea)\n",
    "    model_.load_state_dict(torch.load(\"lstm_.pth\"))\n",
    "    model_.eval()\n",
    "    total_test_loss = 0\n",
    "    total_test_num = 0\n",
    "    for x, y in test_dataLoader_:\n",
    "        x_num = len(x)\n",
    "        p = model_(x)\n",
    "#         print('##', len(p), len(y))\n",
    "        loss = loss_func(p, y)\n",
    "        total_test_loss += loss.item()\n",
    "        total_test_num += x_num\n",
    "        pred.extend(p.data.squeeze(1).tolist())\n",
    "        label.extend(y.tolist())\n",
    "    test_loss = total_test_loss / total_test_num\n",
    "    # print('##', len(pred), len(label))\n",
    "    return pred, label, test_loss"
   ]
  },
  {
   "cell_type": "code",
   "execution_count": 9,
   "metadata": {
    "ExecuteTime": {
     "end_time": "2021-06-15T11:37:39.089661Z",
     "start_time": "2021-06-15T11:37:39.064728Z"
    }
   },
   "outputs": [],
   "source": [
    "def plot_img(data, pred):\n",
    "    plt.figure(figsize=(50, 25))\n",
    "    plt.plot(range(len(pred)), pred, color='green')\n",
    "    # plt.plot(range(len(data)), data)\n",
    "    plt.plot(range(len(data)), data, color='b')\n",
    "    for i in range(0, len(pred)-3, 5):\n",
    "        price = [data[i]+pred[j]-pred[i] for j in range(i, i+3)]\n",
    "        plt.plot(range(i, i+3), price, color='r')\n",
    "    plt.xlabel('Date', fontsize=18)\n",
    "    plt.ylabel('Close', fontsize=18)\n",
    "    plt.show()"
   ]
  },
  {
   "cell_type": "code",
   "execution_count": null,
   "metadata": {
    "ExecuteTime": {
     "start_time": "2021-06-15T11:37:31.640Z"
    }
   },
   "outputs": [
    {
     "name": "stdout",
     "output_type": "stream",
     "text": [
      "num:652\n",
      "len(features):86\n",
      "len(feature):725\n",
      "len(train_x):56072\n",
      "len(train_y):56072\n",
      "len(test_x):6278\n",
      "len(test_y):6278\n"
     ]
    },
    {
     "name": "stderr",
     "output_type": "stream",
     "text": [
      "Epoch: 0| Train Loss: 0| Test Loss: 0: 100%|█████████████████████████████████████████████████████████████████████████████████████████████| 2804/2804 [01:48<00:00, 25.76it/s]\n",
      "Epoch: 1| Train Loss: 0.0005401181450003467| Test Loss: 0.000603539489477977: 100%|██████████████████████████████████████████████████████| 2804/2804 [01:56<00:00, 24.02it/s]\n",
      "Epoch: 2| Train Loss: 0.000533895167931355| Test Loss: 0.00041578442191925516: 100%|█████████████████████████████████████████████████████| 2804/2804 [02:05<00:00, 22.29it/s]\n",
      "Epoch: 3| Train Loss: 0.0005348093309348699| Test Loss: 0.00032257888331641455:  99%|███████████████████████████████████████████████████▎| 2764/2804 [02:05<00:01, 20.56it/s]"
     ]
    }
   ],
   "source": [
    "if __name__ == '__main__':\n",
    "    seed_torch(1122)\n",
    "    # 参数\n",
    "    days_num = 5\n",
    "    epoch = 20\n",
    "    fea = 66\n",
    "    batch_size = 20\n",
    "    early_stop = 5\n",
    "    \n",
    "    # 初始化模型\n",
    "    model = Model2(fea)\n",
    "    \n",
    "    # 数据处理部分\n",
    "    GD = GetData()\n",
    "    x_train, x_test, y_train, y_test = GD.process_data()\n",
    "    # print(x_train)\n",
    "    x_train = torch.tensor(x_train).float()\n",
    "    x_test = torch.tensor(x_test).float()\n",
    "    y_train = torch.tensor(y_train).float()\n",
    "    y_test = torch.tensor(y_test).float()\n",
    "    train_data = TensorDataset(x_train, y_train)\n",
    "    train_dataLoader = DataLoader(train_data, batch_size=batch_size)\n",
    "    test_data = TensorDataset(x_test, y_test)\n",
    "    test_dataLoader = DataLoader(test_data, batch_size=batch_size)\n",
    "    \n",
    "    # 损失函数和优化器\n",
    "    loss_func = nn.MSELoss()\n",
    "    optimizer = optim.Adam(model.parameters(), lr=0.001)\n",
    "    train_model(epoch, train_dataLoader, test_dataLoader)\n",
    "    p, y, test_loss = test_model(test_dataLoader)\n",
    "\n",
    "    # 画图\n",
    "    pred = [ele * (GD.close_max - GD.close_min) + GD.close_min for ele in p]\n",
    "    data = [ele * (GD.close_max - GD.close_min) + GD.close_min for ele in y]\n",
    "    #plot_img(data, pred)\n",
    "    print(get_rr(pred,data))"
   ]
  },
  {
   "cell_type": "code",
   "execution_count": null,
   "metadata": {
    "ExecuteTime": {
     "start_time": "2021-06-15T11:37:31.643Z"
    }
   },
   "outputs": [],
   "source": [
    "plt.figure()\n",
    "plt.xlabel('Epoch', fontsize=18)\n",
    "plt.ylabel('Loss', fontsize=18)\n",
    "plt.plot(test_loss_list)\n",
    "plt.plot(train_loss_list)\n",
    "plt.legend([\"test\",\"train\"])"
   ]
  },
  {
   "cell_type": "code",
   "execution_count": null,
   "metadata": {
    "ExecuteTime": {
     "start_time": "2021-06-15T11:37:31.647Z"
    }
   },
   "outputs": [],
   "source": [
    "# 所有股票的测试结果\n",
    "plot_img(data, pred)"
   ]
  },
  {
   "cell_type": "code",
   "execution_count": null,
   "metadata": {
    "ExecuteTime": {
     "start_time": "2021-06-15T11:37:31.652Z"
    }
   },
   "outputs": [],
   "source": [
    "# 第一支股票的测试结果\n",
    "plot_img(data[:73], pred[:73])"
   ]
  },
  {
   "cell_type": "code",
   "execution_count": null,
   "metadata": {},
   "outputs": [],
   "source": []
  },
  {
   "cell_type": "code",
   "execution_count": null,
   "metadata": {},
   "outputs": [],
   "source": []
  },
  {
   "cell_type": "code",
   "execution_count": null,
   "metadata": {},
   "outputs": [],
   "source": []
  }
 ],
 "metadata": {
  "kernelspec": {
   "display_name": "Python 3",
   "language": "python",
   "name": "python3"
  },
  "language_info": {
   "codemirror_mode": {
    "name": "ipython",
    "version": 3
   },
   "file_extension": ".py",
   "mimetype": "text/x-python",
   "name": "python",
   "nbconvert_exporter": "python",
   "pygments_lexer": "ipython3",
   "version": "3.7.4"
  }
 },
 "nbformat": 4,
 "nbformat_minor": 2
}
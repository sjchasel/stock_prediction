{
 "cells": [
  {
   "cell_type": "code",
   "execution_count": 2,
   "metadata": {
    "ExecuteTime": {
     "end_time": "2021-05-28T12:49:25.272069Z",
     "start_time": "2021-05-28T12:49:25.255116Z"
    }
   },
   "outputs": [],
   "source": [
    "import sys\n",
    "import warnings\n",
    "import os\n",
    "if not sys.warnoptions:\n",
    "    warnings.simplefilter('ignore')"
   ]
  },
  {
   "cell_type": "code",
   "execution_count": 3,
   "metadata": {
    "ExecuteTime": {
     "end_time": "2021-05-28T12:49:26.578159Z",
     "start_time": "2021-05-28T12:49:26.557217Z"
    }
   },
   "outputs": [],
   "source": [
    "import torch\n",
    "import torch.nn.functional as F\n",
    "import torch.nn as nn\n",
    "import torch.optim as optim\n",
    "import random\n",
    "import numpy as np\n",
    "import matplotlib.pyplot as plt\n",
    "import seaborn as sns\n",
    "import pandas as pd\n",
    "from sklearn.preprocessing import MinMaxScaler\n",
    "from datetime import datetime\n",
    "from datetime import timedelta\n",
    "from tqdm import tqdm\n",
    "from copy import deepcopy as copy\n",
    "from torch.utils.data import DataLoader, TensorDataset\n",
    "sns.set()\n",
    "def seed_torch(seed=1122):\n",
    "    random.seed(seed)\n",
    "    os.environ['PYTHONHASHSEED'] = str(seed) # 为了禁止hash随机化，使得实验可复现\n",
    "    np.random.seed(seed)\n",
    "    torch.manual_seed(seed)\n",
    "    torch.cuda.manual_seed(seed)\n",
    "    torch.cuda.manual_seed_all(seed) # if you are using multi-GPU.\n",
    "    torch.backends.cudnn.benchmark = False\n",
    "    torch.backends.cudnn.deterministic = True\n",
    "seed_torch()"
   ]
  },
  {
   "cell_type": "markdown",
   "metadata": {},
   "source": [
    "# Loading the data"
   ]
  },
  {
   "cell_type": "code",
   "execution_count": 4,
   "metadata": {
    "ExecuteTime": {
     "end_time": "2021-05-28T12:49:28.963718Z",
     "start_time": "2021-05-28T12:49:28.923793Z"
    }
   },
   "outputs": [
    {
     "data": {
      "text/html": [
       "<div>\n",
       "<style scoped>\n",
       "    .dataframe tbody tr th:only-of-type {\n",
       "        vertical-align: middle;\n",
       "    }\n",
       "\n",
       "    .dataframe tbody tr th {\n",
       "        vertical-align: top;\n",
       "    }\n",
       "\n",
       "    .dataframe thead th {\n",
       "        text-align: right;\n",
       "    }\n",
       "</style>\n",
       "<table border=\"1\" class=\"dataframe\">\n",
       "  <thead>\n",
       "    <tr style=\"text-align: right;\">\n",
       "      <th></th>\n",
       "      <th>date</th>\n",
       "      <th>code</th>\n",
       "      <th>open</th>\n",
       "      <th>high</th>\n",
       "      <th>low</th>\n",
       "      <th>close</th>\n",
       "      <th>preclose</th>\n",
       "      <th>volume</th>\n",
       "      <th>amount</th>\n",
       "      <th>adjustflag</th>\n",
       "      <th>turn</th>\n",
       "      <th>tradestatus</th>\n",
       "      <th>pctChg</th>\n",
       "      <th>isST</th>\n",
       "    </tr>\n",
       "  </thead>\n",
       "  <tbody>\n",
       "    <tr>\n",
       "      <td>0</td>\n",
       "      <td>2016-01-04</td>\n",
       "      <td>sh.000002</td>\n",
       "      <td>3701.5840</td>\n",
       "      <td>3703.7780</td>\n",
       "      <td>3449.4990</td>\n",
       "      <td>3450.0310</td>\n",
       "      <td>3704.2950</td>\n",
       "      <td>18281590784</td>\n",
       "      <td>2.396183e+11</td>\n",
       "      <td>3</td>\n",
       "      <td>0.006706</td>\n",
       "      <td>1</td>\n",
       "      <td>-6.864000</td>\n",
       "      <td>NaN</td>\n",
       "    </tr>\n",
       "    <tr>\n",
       "      <td>1</td>\n",
       "      <td>2016-01-05</td>\n",
       "      <td>sh.000002</td>\n",
       "      <td>3345.6250</td>\n",
       "      <td>3483.1210</td>\n",
       "      <td>3338.1000</td>\n",
       "      <td>3440.7850</td>\n",
       "      <td>3450.0310</td>\n",
       "      <td>26481264384</td>\n",
       "      <td>3.267413e+11</td>\n",
       "      <td>3</td>\n",
       "      <td>0.009714</td>\n",
       "      <td>1</td>\n",
       "      <td>-0.268000</td>\n",
       "      <td>NaN</td>\n",
       "    </tr>\n",
       "    <tr>\n",
       "      <td>2</td>\n",
       "      <td>2016-01-06</td>\n",
       "      <td>sh.000002</td>\n",
       "      <td>3444.4410</td>\n",
       "      <td>3519.7290</td>\n",
       "      <td>3442.2000</td>\n",
       "      <td>3518.5410</td>\n",
       "      <td>3440.7850</td>\n",
       "      <td>23725938688</td>\n",
       "      <td>2.840042e+11</td>\n",
       "      <td>3</td>\n",
       "      <td>0.008703</td>\n",
       "      <td>1</td>\n",
       "      <td>2.259800</td>\n",
       "      <td>NaN</td>\n",
       "    </tr>\n",
       "    <tr>\n",
       "      <td>3</td>\n",
       "      <td>2016-01-07</td>\n",
       "      <td>sh.000002</td>\n",
       "      <td>3463.8910</td>\n",
       "      <td>3463.8910</td>\n",
       "      <td>3261.1640</td>\n",
       "      <td>3270.7060</td>\n",
       "      <td>3518.5410</td>\n",
       "      <td>7008106496</td>\n",
       "      <td>7.959070e+10</td>\n",
       "      <td>3</td>\n",
       "      <td>0.002568</td>\n",
       "      <td>1</td>\n",
       "      <td>-7.043700</td>\n",
       "      <td>NaN</td>\n",
       "    </tr>\n",
       "    <tr>\n",
       "      <td>4</td>\n",
       "      <td>2016-01-08</td>\n",
       "      <td>sh.000002</td>\n",
       "      <td>3343.4420</td>\n",
       "      <td>3386.2810</td>\n",
       "      <td>3199.2530</td>\n",
       "      <td>3334.9340</td>\n",
       "      <td>3270.7060</td>\n",
       "      <td>28444573440</td>\n",
       "      <td>3.225776e+11</td>\n",
       "      <td>3</td>\n",
       "      <td>0.010407</td>\n",
       "      <td>1</td>\n",
       "      <td>1.963700</td>\n",
       "      <td>NaN</td>\n",
       "    </tr>\n",
       "    <tr>\n",
       "      <td>...</td>\n",
       "      <td>...</td>\n",
       "      <td>...</td>\n",
       "      <td>...</td>\n",
       "      <td>...</td>\n",
       "      <td>...</td>\n",
       "      <td>...</td>\n",
       "      <td>...</td>\n",
       "      <td>...</td>\n",
       "      <td>...</td>\n",
       "      <td>...</td>\n",
       "      <td>...</td>\n",
       "      <td>...</td>\n",
       "      <td>...</td>\n",
       "      <td>...</td>\n",
       "    </tr>\n",
       "    <tr>\n",
       "      <td>1270</td>\n",
       "      <td>2021-03-24</td>\n",
       "      <td>sh.000002</td>\n",
       "      <td>3557.6378</td>\n",
       "      <td>3579.8457</td>\n",
       "      <td>3524.1162</td>\n",
       "      <td>3529.2287</td>\n",
       "      <td>3575.8745</td>\n",
       "      <td>31719592200</td>\n",
       "      <td>3.446149e+11</td>\n",
       "      <td>3</td>\n",
       "      <td>0.868887</td>\n",
       "      <td>1</td>\n",
       "      <td>-1.304459</td>\n",
       "      <td>0.0</td>\n",
       "    </tr>\n",
       "    <tr>\n",
       "      <td>1271</td>\n",
       "      <td>2021-03-25</td>\n",
       "      <td>sh.000002</td>\n",
       "      <td>3516.6426</td>\n",
       "      <td>3545.1126</td>\n",
       "      <td>3506.0301</td>\n",
       "      <td>3525.5589</td>\n",
       "      <td>3529.2287</td>\n",
       "      <td>27048898200</td>\n",
       "      <td>2.900720e+11</td>\n",
       "      <td>3</td>\n",
       "      <td>0.740458</td>\n",
       "      <td>1</td>\n",
       "      <td>-0.103983</td>\n",
       "      <td>0.0</td>\n",
       "    </tr>\n",
       "    <tr>\n",
       "      <td>1272</td>\n",
       "      <td>2021-03-26</td>\n",
       "      <td>sh.000002</td>\n",
       "      <td>3535.7696</td>\n",
       "      <td>3588.1333</td>\n",
       "      <td>3535.7696</td>\n",
       "      <td>3582.9947</td>\n",
       "      <td>3525.5589</td>\n",
       "      <td>27445241900</td>\n",
       "      <td>3.221991e+11</td>\n",
       "      <td>3</td>\n",
       "      <td>0.751164</td>\n",
       "      <td>1</td>\n",
       "      <td>1.629126</td>\n",
       "      <td>0.0</td>\n",
       "    </tr>\n",
       "    <tr>\n",
       "      <td>1273</td>\n",
       "      <td>2021-03-29</td>\n",
       "      <td>sh.000002</td>\n",
       "      <td>3594.8633</td>\n",
       "      <td>3616.0434</td>\n",
       "      <td>3574.1316</td>\n",
       "      <td>3600.7726</td>\n",
       "      <td>3582.9947</td>\n",
       "      <td>28462673600</td>\n",
       "      <td>3.277246e+11</td>\n",
       "      <td>3</td>\n",
       "      <td>0.779036</td>\n",
       "      <td>1</td>\n",
       "      <td>0.496174</td>\n",
       "      <td>0.0</td>\n",
       "    </tr>\n",
       "    <tr>\n",
       "      <td>1274</td>\n",
       "      <td>2021-03-30</td>\n",
       "      <td>sh.000002</td>\n",
       "      <td>3597.8677</td>\n",
       "      <td>3624.2238</td>\n",
       "      <td>3588.2044</td>\n",
       "      <td>3623.2062</td>\n",
       "      <td>3600.7726</td>\n",
       "      <td>28517877400</td>\n",
       "      <td>3.314199e+11</td>\n",
       "      <td>3</td>\n",
       "      <td>0.780504</td>\n",
       "      <td>1</td>\n",
       "      <td>0.623022</td>\n",
       "      <td>0.0</td>\n",
       "    </tr>\n",
       "  </tbody>\n",
       "</table>\n",
       "<p>1275 rows × 14 columns</p>\n",
       "</div>"
      ],
      "text/plain": [
       "            date       code       open       high        low      close  \\\n",
       "0     2016-01-04  sh.000002  3701.5840  3703.7780  3449.4990  3450.0310   \n",
       "1     2016-01-05  sh.000002  3345.6250  3483.1210  3338.1000  3440.7850   \n",
       "2     2016-01-06  sh.000002  3444.4410  3519.7290  3442.2000  3518.5410   \n",
       "3     2016-01-07  sh.000002  3463.8910  3463.8910  3261.1640  3270.7060   \n",
       "4     2016-01-08  sh.000002  3343.4420  3386.2810  3199.2530  3334.9340   \n",
       "...          ...        ...        ...        ...        ...        ...   \n",
       "1270  2021-03-24  sh.000002  3557.6378  3579.8457  3524.1162  3529.2287   \n",
       "1271  2021-03-25  sh.000002  3516.6426  3545.1126  3506.0301  3525.5589   \n",
       "1272  2021-03-26  sh.000002  3535.7696  3588.1333  3535.7696  3582.9947   \n",
       "1273  2021-03-29  sh.000002  3594.8633  3616.0434  3574.1316  3600.7726   \n",
       "1274  2021-03-30  sh.000002  3597.8677  3624.2238  3588.2044  3623.2062   \n",
       "\n",
       "       preclose       volume        amount  adjustflag      turn  tradestatus  \\\n",
       "0     3704.2950  18281590784  2.396183e+11           3  0.006706            1   \n",
       "1     3450.0310  26481264384  3.267413e+11           3  0.009714            1   \n",
       "2     3440.7850  23725938688  2.840042e+11           3  0.008703            1   \n",
       "3     3518.5410   7008106496  7.959070e+10           3  0.002568            1   \n",
       "4     3270.7060  28444573440  3.225776e+11           3  0.010407            1   \n",
       "...         ...          ...           ...         ...       ...          ...   \n",
       "1270  3575.8745  31719592200  3.446149e+11           3  0.868887            1   \n",
       "1271  3529.2287  27048898200  2.900720e+11           3  0.740458            1   \n",
       "1272  3525.5589  27445241900  3.221991e+11           3  0.751164            1   \n",
       "1273  3582.9947  28462673600  3.277246e+11           3  0.779036            1   \n",
       "1274  3600.7726  28517877400  3.314199e+11           3  0.780504            1   \n",
       "\n",
       "        pctChg  isST  \n",
       "0    -6.864000   NaN  \n",
       "1    -0.268000   NaN  \n",
       "2     2.259800   NaN  \n",
       "3    -7.043700   NaN  \n",
       "4     1.963700   NaN  \n",
       "...        ...   ...  \n",
       "1270 -1.304459   0.0  \n",
       "1271 -0.103983   0.0  \n",
       "1272  1.629126   0.0  \n",
       "1273  0.496174   0.0  \n",
       "1274  0.623022   0.0  \n",
       "\n",
       "[1275 rows x 14 columns]"
      ]
     },
     "execution_count": 4,
     "metadata": {},
     "output_type": "execute_result"
    }
   ],
   "source": [
    "sh02 = pd.read_csv('history_sh.000002_stock_k_data.csv')\n",
    "sh02"
   ]
  },
  {
   "cell_type": "code",
   "execution_count": null,
   "metadata": {},
   "outputs": [],
   "source": []
  },
  {
   "cell_type": "code",
   "execution_count": 5,
   "metadata": {
    "ExecuteTime": {
     "end_time": "2021-05-28T12:49:31.413835Z",
     "start_time": "2021-05-28T12:49:31.407883Z"
    }
   },
   "outputs": [],
   "source": [
    "sh02.drop(['code','preclose','amount','adjustflag','turn','tradestatus','pctChg','isST'], axis=1, inplace=True)"
   ]
  },
  {
   "cell_type": "code",
   "execution_count": 6,
   "metadata": {
    "ExecuteTime": {
     "end_time": "2021-05-28T12:49:33.062288Z",
     "start_time": "2021-05-28T12:49:33.049324Z"
    }
   },
   "outputs": [
    {
     "data": {
      "text/html": [
       "<div>\n",
       "<style scoped>\n",
       "    .dataframe tbody tr th:only-of-type {\n",
       "        vertical-align: middle;\n",
       "    }\n",
       "\n",
       "    .dataframe tbody tr th {\n",
       "        vertical-align: top;\n",
       "    }\n",
       "\n",
       "    .dataframe thead th {\n",
       "        text-align: right;\n",
       "    }\n",
       "</style>\n",
       "<table border=\"1\" class=\"dataframe\">\n",
       "  <thead>\n",
       "    <tr style=\"text-align: right;\">\n",
       "      <th></th>\n",
       "      <th>date</th>\n",
       "      <th>open</th>\n",
       "      <th>high</th>\n",
       "      <th>low</th>\n",
       "      <th>close</th>\n",
       "      <th>volume</th>\n",
       "    </tr>\n",
       "  </thead>\n",
       "  <tbody>\n",
       "    <tr>\n",
       "      <td>0</td>\n",
       "      <td>2016-01-04</td>\n",
       "      <td>3701.584</td>\n",
       "      <td>3703.778</td>\n",
       "      <td>3449.499</td>\n",
       "      <td>3450.031</td>\n",
       "      <td>18281590784</td>\n",
       "    </tr>\n",
       "    <tr>\n",
       "      <td>1</td>\n",
       "      <td>2016-01-05</td>\n",
       "      <td>3345.625</td>\n",
       "      <td>3483.121</td>\n",
       "      <td>3338.100</td>\n",
       "      <td>3440.785</td>\n",
       "      <td>26481264384</td>\n",
       "    </tr>\n",
       "    <tr>\n",
       "      <td>2</td>\n",
       "      <td>2016-01-06</td>\n",
       "      <td>3444.441</td>\n",
       "      <td>3519.729</td>\n",
       "      <td>3442.200</td>\n",
       "      <td>3518.541</td>\n",
       "      <td>23725938688</td>\n",
       "    </tr>\n",
       "    <tr>\n",
       "      <td>3</td>\n",
       "      <td>2016-01-07</td>\n",
       "      <td>3463.891</td>\n",
       "      <td>3463.891</td>\n",
       "      <td>3261.164</td>\n",
       "      <td>3270.706</td>\n",
       "      <td>7008106496</td>\n",
       "    </tr>\n",
       "    <tr>\n",
       "      <td>4</td>\n",
       "      <td>2016-01-08</td>\n",
       "      <td>3343.442</td>\n",
       "      <td>3386.281</td>\n",
       "      <td>3199.253</td>\n",
       "      <td>3334.934</td>\n",
       "      <td>28444573440</td>\n",
       "    </tr>\n",
       "  </tbody>\n",
       "</table>\n",
       "</div>"
      ],
      "text/plain": [
       "         date      open      high       low     close       volume\n",
       "0  2016-01-04  3701.584  3703.778  3449.499  3450.031  18281590784\n",
       "1  2016-01-05  3345.625  3483.121  3338.100  3440.785  26481264384\n",
       "2  2016-01-06  3444.441  3519.729  3442.200  3518.541  23725938688\n",
       "3  2016-01-07  3463.891  3463.891  3261.164  3270.706   7008106496\n",
       "4  2016-01-08  3343.442  3386.281  3199.253  3334.934  28444573440"
      ]
     },
     "execution_count": 6,
     "metadata": {},
     "output_type": "execute_result"
    }
   ],
   "source": [
    "sh02.head()"
   ]
  },
  {
   "cell_type": "code",
   "execution_count": 7,
   "metadata": {
    "ExecuteTime": {
     "end_time": "2021-05-28T12:49:35.479499Z",
     "start_time": "2021-05-28T12:49:35.458553Z"
    }
   },
   "outputs": [],
   "source": [
    "class GetData:\n",
    "    def __init__(self):\n",
    "        self.data = sh02.set_index('date')\n",
    "        \n",
    "    def getData(self):\n",
    "        self.close_min = self.data['close'].min()\n",
    "        self.close_max = self.data[\"close\"].max()\n",
    "        self.data = self.data.apply(lambda x: (x - min(x)) / (max(x) - min(x)))\n",
    "        return self.data\n",
    "    \n",
    "    def process_data(self, n):\n",
    "        self.getData()\n",
    "        feature = [\n",
    "            self.data.iloc[i: i + n].values.tolist()\n",
    "            for i in range(len(self.data) - n + 2)\n",
    "            if i + n < len(self.data)\n",
    "        ]\n",
    "        label = [\n",
    "            self.data.close.values[i + n]\n",
    "            for i in range(len(self.data) - n + 2)\n",
    "            if i + n < len(self.data)\n",
    "        ]\n",
    "        num = int(len(feature) * 0.9)\n",
    "        train_x = feature[:num]\n",
    "        test_x = feature[num:]\n",
    "        train_y = label[:num]\n",
    "        test_y = label[num:]\n",
    "        return train_x, test_x, train_y, test_y"
   ]
  },
  {
   "cell_type": "code",
   "execution_count": 8,
   "metadata": {
    "ExecuteTime": {
     "end_time": "2021-05-28T12:49:37.724277Z",
     "start_time": "2021-05-28T12:49:37.714303Z"
    }
   },
   "outputs": [],
   "source": [
    "class Model(nn.Module):\n",
    "    def __init__(self, n):\n",
    "        super(Model, self).__init__()\n",
    "        self.lstm_layer = nn.LSTM(input_size=n, hidden_size=128, batch_first=True)\n",
    "        self.linear_layer = nn.Linear(in_features=128, out_features=1, bias=True)\n",
    "    def forward(self, x):\n",
    "        out1, (h_n, h_c) = self.lstm_layer(x)\n",
    "        a, b, c = h_n.shape\n",
    "        out2 = self.linear_layer(h_n.reshape(a*b, c))\n",
    "        return out2"
   ]
  },
  {
   "cell_type": "code",
   "execution_count": 9,
   "metadata": {
    "ExecuteTime": {
     "end_time": "2021-05-28T12:49:39.581691Z",
     "start_time": "2021-05-28T12:49:39.576703Z"
    }
   },
   "outputs": [],
   "source": [
    "GD = GetData()"
   ]
  },
  {
   "cell_type": "code",
   "execution_count": 10,
   "metadata": {
    "ExecuteTime": {
     "end_time": "2021-05-28T12:49:41.220864Z",
     "start_time": "2021-05-28T12:49:41.080574Z"
    }
   },
   "outputs": [],
   "source": [
    "train_x, test_x, train_y, test_y = GD.process_data(5)"
   ]
  },
  {
   "cell_type": "code",
   "execution_count": 11,
   "metadata": {
    "ExecuteTime": {
     "end_time": "2021-05-28T12:49:42.834558Z",
     "start_time": "2021-05-28T12:49:42.803622Z"
    }
   },
   "outputs": [
    {
     "name": "stdout",
     "output_type": "stream",
     "text": [
      "1143\n",
      "5\n",
      "127\n",
      "5\n",
      "1143\n",
      "127\n"
     ]
    }
   ],
   "source": [
    "print(len(train_x))\n",
    "print(len(train_x[0]))\n",
    "print(len(test_x))\n",
    "print(len(test_x[0]))\n",
    "print(len(train_y))\n",
    "print(len(test_y))"
   ]
  },
  {
   "cell_type": "markdown",
   "metadata": {},
   "source": [
    "# 训练与测试\n",
    "1. 计算损失loss\n",
    "2. 损失 backward\n",
    "3. 优化器 step\n",
    "（不要忘记优化器清零梯度）"
   ]
  },
  {
   "cell_type": "code",
   "execution_count": 12,
   "metadata": {
    "ExecuteTime": {
     "end_time": "2021-05-28T12:49:45.094957Z",
     "start_time": "2021-05-28T12:49:45.075020Z"
    }
   },
   "outputs": [],
   "source": [
    "def train_model(epoch, train_dataLoader, test_dataLoader):\n",
    "    # 训练模型\n",
    "    best_model = None\n",
    "    train_loss = 0\n",
    "    test_loss = 0\n",
    "    best_loss = 100\n",
    "    epoch_cnt = 0\n",
    "    for _ in range(epoch):\n",
    "        total_train_loss = 0\n",
    "        total_train_num = 0\n",
    "        total_test_loss = 0\n",
    "        total_test_num = 0\n",
    "        for x, y in tqdm(train_dataLoader,\n",
    "                         desc='Epoch: {}| Train Loss: {}| Test Loss: {}'.format(_, train_loss, test_loss)):\n",
    "            x_num = len(x)\n",
    "            p = model(x)\n",
    "            # print(len(p[0]))\n",
    "            loss = loss_func(p, y)\n",
    "            optimizer.zero_grad()\n",
    "            loss.backward()\n",
    "            optimizer.step()\n",
    "            total_train_loss += loss.item()\n",
    "            total_train_num += x_num\n",
    "        train_loss = total_train_loss / total_train_num\n",
    "        for x, y in test_dataLoader:\n",
    "            x_num = len(x)\n",
    "            p = model(x)\n",
    "            loss = loss_func(p, y)\n",
    "            optimizer.zero_grad()\n",
    "            loss.backward()\n",
    "            optimizer.step()\n",
    "            total_test_loss += loss.item()\n",
    "            total_test_num += x_num\n",
    "        test_loss = total_test_loss / total_test_num\n",
    "        \n",
    "        # early stop\n",
    "        if best_loss > test_loss:\n",
    "            best_loss = test_loss\n",
    "            best_model = copy(model)\n",
    "            torch.save(best_model.state_dict(), 'lstm_.pth')\n",
    "            epoch_cnt = 0\n",
    "        else:\n",
    "            epoch_cnt += 1\n",
    "            \n",
    "        if epoch_cnt > early_stop:\n",
    "            torch.save(best_model.state_dict(), 'lstm_.pth')\n",
    "            print(\"保存模型\")\n",
    "            print(best_model.state_dict())\n",
    "            break"
   ]
  },
  {
   "cell_type": "code",
   "execution_count": 13,
   "metadata": {
    "ExecuteTime": {
     "end_time": "2021-05-28T12:49:47.678450Z",
     "start_time": "2021-05-28T12:49:47.671469Z"
    }
   },
   "outputs": [],
   "source": [
    "def test_model(test_dataLoader_):\n",
    "    pred = []\n",
    "    label = []\n",
    "    model_ = Model(5)\n",
    "    model_.load_state_dict(torch.load(\"lstm_.pth\"))\n",
    "    model_.eval()\n",
    "    total_test_loss = 0\n",
    "    total_test_num = 0\n",
    "    for x, y in test_dataLoader_:\n",
    "        x_num = len(x)\n",
    "        p = model_(x)\n",
    "#         print('##', len(p), len(y))\n",
    "        loss = loss_func(p, y)\n",
    "        total_test_loss += loss.item()\n",
    "        total_test_num += x_num\n",
    "        pred.extend(p.data.squeeze(1).tolist())\n",
    "        label.extend(y.tolist())\n",
    "    test_loss = total_test_loss / total_test_num\n",
    "    # print('##', len(pred), len(label))\n",
    "    return pred, label, test_loss"
   ]
  },
  {
   "cell_type": "code",
   "execution_count": 15,
   "metadata": {
    "ExecuteTime": {
     "end_time": "2021-05-28T12:50:19.833703Z",
     "start_time": "2021-05-28T12:50:19.821764Z"
    }
   },
   "outputs": [],
   "source": [
    "def plot_img(data, pred):\n",
    "    # plt.figure(figsize=(18, 9))\n",
    "    plt.plot(range(len(pred)), pred, color='green')\n",
    "    # plt.plot(range(len(data)), data)\n",
    "    plt.plot(range(len(data)), data, color='b')\n",
    "    for i in range(0, len(pred)-3, 5):\n",
    "        price = [data[i]+pred[j]-pred[i] for j in range(i, i+3)]\n",
    "        plt.plot(range(i, i+3), price, color='r')\n",
    "    plt.xlabel('Date', fontsize=18)\n",
    "    plt.ylabel('Close', fontsize=18)\n",
    "    plt.show()"
   ]
  },
  {
   "cell_type": "code",
   "execution_count": 16,
   "metadata": {
    "ExecuteTime": {
     "end_time": "2021-05-28T12:50:39.643047Z",
     "start_time": "2021-05-28T12:50:24.813837Z"
    }
   },
   "outputs": [
    {
     "name": "stderr",
     "output_type": "stream",
     "text": [
      "Epoch: 0| Train Loss: 0| Test Loss: 0: 100%|█████████████████████████████████████████████████████████████████████████████████████████████████| 58/58 [00:00<00:00, 89.61it/s]\n",
      "Epoch: 1| Train Loss: 0.0014671050791778583| Test Loss: 0.0007775252736283569: 100%|█████████████████████████████████████████████████████████| 58/58 [00:00<00:00, 85.65it/s]\n",
      "Epoch: 2| Train Loss: 0.0011685795928021586| Test Loss: 0.000986375405973806: 100%|██████████████████████████████████████████████████████████| 58/58 [00:00<00:00, 93.95it/s]\n",
      "Epoch: 3| Train Loss: 0.0006984393593096618| Test Loss: 0.00045842365141752665: 100%|████████████████████████████████████████████████████████| 58/58 [00:00<00:00, 90.58it/s]\n",
      "Epoch: 4| Train Loss: 0.0003824867561238729| Test Loss: 0.0003376210678559471: 100%|█████████████████████████████████████████████████████████| 58/58 [00:00<00:00, 93.50it/s]\n",
      "Epoch: 5| Train Loss: 0.000343311160065646| Test Loss: 0.00031237408709455664: 100%|█████████████████████████████████████████████████████████| 58/58 [00:00<00:00, 95.34it/s]\n",
      "Epoch: 6| Train Loss: 0.00034455677561831847| Test Loss: 0.000299164495526219: 100%|█████████████████████████████████████████████████████████| 58/58 [00:00<00:00, 89.47it/s]\n",
      "Epoch: 7| Train Loss: 0.0003455239985698764| Test Loss: 0.00028978319064985343: 100%|████████████████████████████████████████████████████████| 58/58 [00:00<00:00, 93.80it/s]\n",
      "Epoch: 8| Train Loss: 0.0003453484483895137| Test Loss: 0.00028503380393184077: 100%|████████████████████████████████████████████████████████| 58/58 [00:00<00:00, 90.30it/s]\n",
      "Epoch: 9| Train Loss: 0.0003447966042181684| Test Loss: 0.00028535250050023083: 100%|████████████████████████████████████████████████████████| 58/58 [00:00<00:00, 91.87it/s]\n",
      "Epoch: 10| Train Loss: 0.00034463697691404846| Test Loss: 0.00028815758267901543: 100%|██████████████████████████████████████████████████████| 58/58 [00:00<00:00, 97.90it/s]\n",
      "Epoch: 11| Train Loss: 0.00034407644528750583| Test Loss: 0.00028954247768059023: 100%|██████████████████████████████████████████████████████| 58/58 [00:00<00:00, 90.30it/s]\n",
      "Epoch: 12| Train Loss: 0.0003420290331338302| Test Loss: 0.00028835980067630924: 100%|███████████████████████████████████████████████████████| 58/58 [00:00<00:00, 91.30it/s]\n",
      "Epoch: 13| Train Loss: 0.0003387366431909479| Test Loss: 0.0002857945588102022: 100%|████████████████████████████████████████████████████████| 58/58 [00:00<00:00, 92.16it/s]\n",
      "Epoch: 14| Train Loss: 0.0003350817986759125| Test Loss: 0.0002828492621678536: 100%|████████████████████████████████████████████████████████| 58/58 [00:00<00:00, 88.92it/s]\n",
      "Epoch: 15| Train Loss: 0.0003315597172290387| Test Loss: 0.00027990842964060195: 100%|███████████████████████████████████████████████████████| 58/58 [00:00<00:00, 89.33it/s]\n",
      "Epoch: 16| Train Loss: 0.0003282950838358807| Test Loss: 0.00027707977565078753: 100%|███████████████████████████████████████████████████████| 58/58 [00:00<00:00, 96.28it/s]\n",
      "Epoch: 17| Train Loss: 0.0003252827252460153| Test Loss: 0.0002743856446069526: 100%|████████████████████████████████████████████████████████| 58/58 [00:00<00:00, 92.75it/s]\n",
      "Epoch: 18| Train Loss: 0.0003224924532248462| Test Loss: 0.00027182495393826973: 100%|███████████████████████████████████████████████████████| 58/58 [00:00<00:00, 92.16it/s]\n",
      "Epoch: 19| Train Loss: 0.00031989663777211297| Test Loss: 0.0002693919048783934: 100%|███████████████████████████████████████████████████████| 58/58 [00:00<00:00, 94.10it/s]\n"
     ]
    },
    {
     "data": {
      "image/png": "[encoded data removed]",
      "text/plain": [
       "<Figure size 432x288 with 1 Axes>"
      ]
     },
     "metadata": {},
     "output_type": "display_data"
    }
   ],
   "source": [
    "if __name__ == '__main__':\n",
    "    # 参数\n",
    "    days_num = 5\n",
    "    epoch = 20\n",
    "    fea = 5\n",
    "    batch_size = 20\n",
    "    early_stop = 5\n",
    "    \n",
    "    # 初始化模型\n",
    "    model = Model(fea)\n",
    "    \n",
    "    # 数据处理部分\n",
    "    GD = GetData()\n",
    "    x_train, x_test, y_train, y_test = GD.process_data(days_num)\n",
    "    # print(x_train)\n",
    "    x_train = torch.tensor(x_train).float()\n",
    "    x_test = torch.tensor(x_test).float()\n",
    "    y_train = torch.tensor(y_train).float()\n",
    "    y_test = torch.tensor(y_test).float()\n",
    "    train_data = TensorDataset(x_train, y_train)\n",
    "    train_dataLoader = DataLoader(train_data, batch_size=batch_size)\n",
    "    test_data = TensorDataset(x_test, y_test)\n",
    "    test_dataLoader = DataLoader(test_data, batch_size=batch_size)\n",
    "    \n",
    "    # 损失函数和优化器\n",
    "    loss_func = nn.MSELoss()\n",
    "    optimizer = optim.Adam(model.parameters(), lr=0.001)\n",
    "    train_model(epoch, train_dataLoader, test_dataLoader)\n",
    "    p, y, test_loss = test_model(test_dataLoader)\n",
    "    \n",
    "    # 画图\n",
    "    pred = [ele * (GD.close_max - GD.close_min) + GD.close_min for ele in p]\n",
    "    data = [ele * (GD.close_max - GD.close_min) + GD.close_min for ele in y]\n",
    "    plot_img(data, pred)"
   ]
  },
  {
   "cell_type": "code",
   "execution_count": null,
   "metadata": {},
   "outputs": [],
   "source": []
  },
  {
   "cell_type": "code",
   "execution_count": null,
   "metadata": {},
   "outputs": [],
   "source": []
  },
  {
   "cell_type": "code",
   "execution_count": null,
   "metadata": {},
   "outputs": [],
   "source": []
  },
  {
   "cell_type": "code",
   "execution_count": null,
   "metadata": {},
   "outputs": [],
   "source": []
  },
  {
   "cell_type": "code",
   "execution_count": null,
   "metadata": {},
   "outputs": [],
   "source": []
  },
  {
   "cell_type": "code",
   "execution_count": null,
   "metadata": {},
   "outputs": [],
   "source": []
  },
  {
   "cell_type": "code",
   "execution_count": null,
   "metadata": {},
   "outputs": [],
   "source": []
  }
 ],
 "metadata": {
  "kernelspec": {
   "display_name": "Python 3",
   "language": "python",
   "name": "python3"
  },
  "language_info": {
   "codemirror_mode": {
    "name": "ipython",
    "version": 3
   },
   "file_extension": ".py",
   "mimetype": "text/x-python",
   "name": "python",
   "nbconvert_exporter": "python",
   "pygments_lexer": "ipython3",
   "version": "3.7.4"
  }
 },
 "nbformat": 4,
 "nbformat_minor": 2
}

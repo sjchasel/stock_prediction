{
 "cells": [
  {
   "cell_type": "code",
   "execution_count": 9,
   "metadata": {
    "ExecuteTime": {
     "end_time": "2021-06-09T14:03:13.575620Z",
     "start_time": "2021-06-09T14:03:13.555671Z"
    }
   },
   "outputs": [],
   "source": [
    "import pandas as pd"
   ]
  },
  {
   "cell_type": "code",
   "execution_count": 10,
   "metadata": {
    "ExecuteTime": {
     "end_time": "2021-06-09T14:03:15.546642Z",
     "start_time": "2021-06-09T14:03:15.517732Z"
    }
   },
   "outputs": [],
   "source": [
    "class GetData:\n",
    "    def __init__(self, batch_size=20, n=5):\n",
    "        path = '../数据预处理/钢铁.csv'\n",
    "        sh02 = pd.read_csv(path)\n",
    "        self.data = sh02\n",
    "        self.batch_size = batch_size\n",
    "        self.n = n\n",
    "        \n",
    "    def getData(self):\n",
    "        self.data.drop(labels=['Unnamed: 0','code'],axis=1,inplace=True)\n",
    "        self.data = self.data.fillna(0)\n",
    "        self.data = self.data.set_index('date')\n",
    "        self.close_min = self.data['close'].min()\n",
    "        self.close_max = self.data[\"close\"].max()\n",
    "        self.data = self.data.apply(lambda x: (x - min(x)) / (max(x) - min(x)))\n",
    "        self.data = self.data.fillna(0)\n",
    "        return self.data\n",
    "    \n",
    "    def process_data(self):\n",
    "        n = self.n\n",
    "        self.getData()\n",
    "#         feature = []\n",
    "#         label = []\n",
    "#         for i in range(len(self.data) - n + 2):\n",
    "#             if i + n < len(self.data):\n",
    "#                 feature.append(self.data.iloc[i: i + n].values.tolist())\n",
    "#                 label.append(self.data.close.values[i + n])\n",
    "        feature = [\n",
    "            self.data.iloc[i: i + n].values.tolist()\n",
    "            for i in range(len(self.data) - n + 2)\n",
    "            if i + n < len(self.data)\n",
    "        ]\n",
    "        label = [\n",
    "            self.data.close.values[i + n]\n",
    "            for i in range(len(self.data) - n + 2)\n",
    "            if i + n < len(self.data)\n",
    "        ]\n",
    "        num = int(len(feature) * 0.9)\n",
    "        train_x = feature[:num]\n",
    "        test_x = feature[num:]\n",
    "        train_y = label[:num]\n",
    "        test_y = label[num:]\n",
    "        return train_x, test_x, train_y, test_y\n",
    "    \n",
    "    def get_dataloader(self):\n",
    "        batch_size = self.batch_size\n",
    "        train_x, test_x, train_y, test_y = self.process_data()\n",
    "        x_train = torch.tensor(train_x).float()\n",
    "        x_test = torch.tensor(test_x).float()\n",
    "        y_train = torch.tensor(train_y).float()\n",
    "        y_test = torch.tensor(test_y).float()\n",
    "        train_data = TensorDataset(x_train, y_train)\n",
    "        train_dataLoader = DataLoader(train_data, batch_size=batch_size)\n",
    "        test_data = TensorDataset(x_test, y_test)\n",
    "        test_dataLoader = DataLoader(test_data, batch_size=batch_size)\n",
    "        return train_data, test_data"
   ]
  },
  {
   "cell_type": "code",
   "execution_count": 12,
   "metadata": {
    "ExecuteTime": {
     "end_time": "2021-06-09T14:04:04.034803Z",
     "start_time": "2021-06-09T14:04:03.099302Z"
    }
   },
   "outputs": [],
   "source": []
  },
  {
   "cell_type": "code",
   "execution_count": 19,
   "metadata": {
    "ExecuteTime": {
     "end_time": "2021-06-09T14:12:00.890023Z",
     "start_time": "2021-06-09T14:12:00.539767Z"
    }
   },
   "outputs": [],
   "source": [
    "data = pd.read_csv('../数据预处理/钢铁.csv')\n",
    "data.drop(labels=['Unnamed: 0'],axis=1,inplace=True)\n",
    "data = data.fillna(0)\n",
    "data = data.set_index('date')\n",
    "i = list(data['code'].unique())[0]\n",
    "data = data[data['code']==i]\n",
    "data.drop(labels=['code'],axis=1,inplace=True)\n"
   ]
  },
  {
   "cell_type": "code",
   "execution_count": 38,
   "metadata": {
    "ExecuteTime": {
     "end_time": "2021-06-09T14:24:00.453994Z",
     "start_time": "2021-06-09T14:24:00.427064Z"
    }
   },
   "outputs": [],
   "source": [
    "class GetData:\n",
    "    def __init__(self, batch_size=20, n=5):\n",
    "        \"\"\"\n",
    "        简单地读取数据\n",
    "        \"\"\"\n",
    "        path = '../数据预处理/钢铁.csv'\n",
    "        sh02 = pd.read_csv(path)\n",
    "        self.data = sh02\n",
    "        self.batch_size = batch_size\n",
    "        self.n = n\n",
    "        self.features = []\n",
    "        self.labels = []\n",
    "        \n",
    "    def lll(self):\n",
    "        self.data.drop(labels=['Unnamed: 0'],axis=1,inplace=True)\n",
    "        self.data = self.data.fillna(0)\n",
    "        self.data = self.data.set_index('date')\n",
    "        self.indnums = len(list(self.data['code'].unique()))\n",
    "        for i in list(self.data['code'].unique()):\n",
    "            data = self.data[self.data['code']==i]\n",
    "            data.drop(labels=['code'],axis=1,inplace=True)\n",
    "            self.split(data)\n",
    "            \n",
    "    def split(self, data):\n",
    "        n = self.n\n",
    "        feature = [\n",
    "            data.iloc[i: i + n].values.tolist()\n",
    "            for i in range(len(data) - n + 2)\n",
    "            if i + n < len(data)\n",
    "        ]\n",
    "        label = [\n",
    "            data.close.values[i + n]\n",
    "            for i in range(len(data) - n + 2)\n",
    "            if i + n < len(data)\n",
    "        ]\n",
    "        #print(len(label))\n",
    "        self.features += feature\n",
    "        self.labels += label\n",
    "        \n",
    "    def split_all(self):\n",
    "        self.lll()\n",
    "        num = int(self.indnums * 0.9)\n",
    "        train_x = self.features[:num*725]\n",
    "        test_x = self.features[num*725:]\n",
    "        train_y = self.labels[:num*725]\n",
    "        test_y = self.labels[num*725:]\n",
    "        return train_x, test_x, train_y, test_y"
   ]
  },
  {
   "cell_type": "code",
   "execution_count": 39,
   "metadata": {
    "ExecuteTime": {
     "end_time": "2021-06-09T14:24:11.292949Z",
     "start_time": "2021-06-09T14:24:02.215064Z"
    }
   },
   "outputs": [],
   "source": [
    "gd = GetData()\n",
    "train_x, test_x, train_y, test_y = gd.split_all()"
   ]
  },
  {
   "cell_type": "code",
   "execution_count": 41,
   "metadata": {
    "ExecuteTime": {
     "end_time": "2021-06-09T14:24:13.994032Z",
     "start_time": "2021-06-09T14:24:13.984055Z"
    }
   },
   "outputs": [
    {
     "data": {
      "text/plain": [
       "23200"
      ]
     },
     "execution_count": 41,
     "metadata": {},
     "output_type": "execute_result"
    }
   ],
   "source": [
    "len(train_x)"
   ]
  },
  {
   "cell_type": "code",
   "execution_count": 43,
   "metadata": {
    "ExecuteTime": {
     "end_time": "2021-06-09T14:24:23.423392Z",
     "start_time": "2021-06-09T14:24:23.414416Z"
    }
   },
   "outputs": [
    {
     "data": {
      "text/plain": [
       "1709"
      ]
     },
     "execution_count": 43,
     "metadata": {},
     "output_type": "execute_result"
    }
   ],
   "source": [
    "len(test_x)"
   ]
  },
  {
   "cell_type": "code",
   "execution_count": 44,
   "metadata": {
    "ExecuteTime": {
     "end_time": "2021-06-09T14:24:29.380480Z",
     "start_time": "2021-06-09T14:24:29.366484Z"
    }
   },
   "outputs": [
    {
     "data": {
      "text/plain": [
       "1709"
      ]
     },
     "execution_count": 44,
     "metadata": {},
     "output_type": "execute_result"
    }
   ],
   "source": [
    "len(test_y)"
   ]
  },
  {
   "cell_type": "code",
   "execution_count": 45,
   "metadata": {
    "ExecuteTime": {
     "end_time": "2021-06-09T14:24:36.527086Z",
     "start_time": "2021-06-09T14:24:36.518153Z"
    }
   },
   "outputs": [
    {
     "data": {
      "text/plain": [
       "23200"
      ]
     },
     "execution_count": 45,
     "metadata": {},
     "output_type": "execute_result"
    }
   ],
   "source": [
    "len(train_y)"
   ]
  },
  {
   "cell_type": "code",
   "execution_count": null,
   "metadata": {},
   "outputs": [],
   "source": []
  }
 ],
 "metadata": {
  "kernelspec": {
   "display_name": "Python 3",
   "language": "python",
   "name": "python3"
  },
  "language_info": {
   "codemirror_mode": {
    "name": "ipython",
    "version": 3
   },
   "file_extension": ".py",
   "mimetype": "text/x-python",
   "name": "python",
   "nbconvert_exporter": "python",
   "pygments_lexer": "ipython3",
   "version": "3.7.4"
  }
 },
 "nbformat": 4,
 "nbformat_minor": 2
}

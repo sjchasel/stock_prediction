{
 "cells": [
  {
   "cell_type": "code",
   "execution_count": 1,
   "metadata": {
    "ExecuteTime": {
     "end_time": "2021-04-18T06:34:32.020775Z",
     "start_time": "2021-04-18T06:34:29.805711Z"
    }
   },
   "outputs": [],
   "source": [
    "import pandas as pd\n",
    "import numpy as np\n",
    "import matplotlib.pyplot as plt"
   ]
  },
  {
   "cell_type": "code",
   "execution_count": 2,
   "metadata": {
    "ExecuteTime": {
     "end_time": "2021-04-18T06:35:08.502819Z",
     "start_time": "2021-04-18T06:35:08.192958Z"
    }
   },
   "outputs": [],
   "source": [
    "data = pd.read_excel('C:/Users/12968/Desktop/数据科学实战-stock prediction/数据/全部A股代码和名字.xlsx')"
   ]
  },
  {
   "cell_type": "code",
   "execution_count": 3,
   "metadata": {
    "ExecuteTime": {
     "end_time": "2021-04-18T06:35:11.108940Z",
     "start_time": "2021-04-18T06:35:11.080015Z"
    }
   },
   "outputs": [
    {
     "data": {
      "text/html": [
       "<div>\n",
       "<style scoped>\n",
       "    .dataframe tbody tr th:only-of-type {\n",
       "        vertical-align: middle;\n",
       "    }\n",
       "\n",
       "    .dataframe tbody tr th {\n",
       "        vertical-align: top;\n",
       "    }\n",
       "\n",
       "    .dataframe thead th {\n",
       "        text-align: right;\n",
       "    }\n",
       "</style>\n",
       "<table border=\"1\" class=\"dataframe\">\n",
       "  <thead>\n",
       "    <tr style=\"text-align: right;\">\n",
       "      <th></th>\n",
       "      <th>Stkcd</th>\n",
       "      <th>Stknme</th>\n",
       "      <th>Nindnme</th>\n",
       "    </tr>\n",
       "  </thead>\n",
       "  <tbody>\n",
       "    <tr>\n",
       "      <th>0</th>\n",
       "      <td>1</td>\n",
       "      <td>平安银行</td>\n",
       "      <td>银行业</td>\n",
       "    </tr>\n",
       "    <tr>\n",
       "      <th>1</th>\n",
       "      <td>2</td>\n",
       "      <td>万科A</td>\n",
       "      <td>房地产业</td>\n",
       "    </tr>\n",
       "    <tr>\n",
       "      <th>2</th>\n",
       "      <td>3</td>\n",
       "      <td>PT 金田A</td>\n",
       "      <td>综合类</td>\n",
       "    </tr>\n",
       "    <tr>\n",
       "      <th>3</th>\n",
       "      <td>4</td>\n",
       "      <td>国华网安</td>\n",
       "      <td>计算机应用服务业</td>\n",
       "    </tr>\n",
       "    <tr>\n",
       "      <th>4</th>\n",
       "      <td>5</td>\n",
       "      <td>世纪星源</td>\n",
       "      <td>其他社会服务业</td>\n",
       "    </tr>\n",
       "    <tr>\n",
       "      <th>...</th>\n",
       "      <td>...</td>\n",
       "      <td>...</td>\n",
       "      <td>...</td>\n",
       "    </tr>\n",
       "    <tr>\n",
       "      <th>4364</th>\n",
       "      <td>688777</td>\n",
       "      <td>中控技术</td>\n",
       "      <td>计算机应用服务业</td>\n",
       "    </tr>\n",
       "    <tr>\n",
       "      <th>4365</th>\n",
       "      <td>688788</td>\n",
       "      <td>科思科技</td>\n",
       "      <td>信息技术业</td>\n",
       "    </tr>\n",
       "    <tr>\n",
       "      <th>4366</th>\n",
       "      <td>688819</td>\n",
       "      <td>天能股份</td>\n",
       "      <td>电器机械及器材制造业</td>\n",
       "    </tr>\n",
       "    <tr>\n",
       "      <th>4367</th>\n",
       "      <td>688981</td>\n",
       "      <td>中芯国际</td>\n",
       "      <td>信息技术业</td>\n",
       "    </tr>\n",
       "    <tr>\n",
       "      <th>4368</th>\n",
       "      <td>689009</td>\n",
       "      <td>九号公司</td>\n",
       "      <td>信息技术业</td>\n",
       "    </tr>\n",
       "  </tbody>\n",
       "</table>\n",
       "<p>4369 rows × 3 columns</p>\n",
       "</div>"
      ],
      "text/plain": [
       "       Stkcd  Stknme     Nindnme\n",
       "0          1    平安银行         银行业\n",
       "1          2     万科A        房地产业\n",
       "2          3  PT 金田A         综合类\n",
       "3          4    国华网安    计算机应用服务业\n",
       "4          5    世纪星源     其他社会服务业\n",
       "...      ...     ...         ...\n",
       "4364  688777    中控技术    计算机应用服务业\n",
       "4365  688788    科思科技       信息技术业\n",
       "4366  688819    天能股份  电器机械及器材制造业\n",
       "4367  688981    中芯国际       信息技术业\n",
       "4368  689009    九号公司       信息技术业\n",
       "\n",
       "[4369 rows x 3 columns]"
      ]
     },
     "execution_count": 3,
     "metadata": {},
     "output_type": "execute_result"
    }
   ],
   "source": [
    "data"
   ]
  },
  {
   "cell_type": "code",
   "execution_count": 13,
   "metadata": {
    "ExecuteTime": {
     "end_time": "2021-04-18T06:42:58.352483Z",
     "start_time": "2021-04-18T06:42:56.050517Z"
    }
   },
   "outputs": [],
   "source": [
    "for i in range(4368):\n",
    "    data.iloc[i, 0] = str(data.iloc[i, 0]).zfill(6)\n",
    "data.to_excel('C:/Users/12968/Desktop/数据科学实战-stock prediction/数据/全部A股代码名字和行业.xlsx')"
   ]
  },
  {
   "cell_type": "code",
   "execution_count": 30,
   "metadata": {
    "ExecuteTime": {
     "end_time": "2021-04-18T07:36:09.381334Z",
     "start_time": "2021-04-18T07:36:09.259402Z"
    }
   },
   "outputs": [],
   "source": [
    "import requests\n",
    "from lxml import etree\n",
    "from lxml import html\n",
    "url = 'http://stock.finance.sina.com.cn/stock/go.php/vReport_List/kind/search/index.phtml?t1=3&industry=sw2_110100&symbol=&pubdate=2021-04-18'\n",
    "data = requests.get(url).text\n",
    "s=etree.HTML(data)\n",
    "for i in range(104):\n",
    "    i += 1\n",
    "    #code = s.xpath(\"//*[@id='industry']/option[\"+str(i)+\"]/@value\")\n",
    "    #ind = s.xpath(\"//*[@id='industry']/option[\"+str(i)+\"]/text()\")\n",
    "    code = s.xpath(\"/html/body/div/div[2]/div[2]/div/form/span[2]/select/option[1]/text()\")\n",
    "    # print(code)\n",
    "# //*[@id=\"industry\"]/option[1]\n",
    "# //*[@id=\"industry\"]/option[104]"
   ]
  },
  {
   "cell_type": "code",
   "execution_count": 34,
   "metadata": {
    "ExecuteTime": {
     "end_time": "2021-04-18T07:40:05.922973Z",
     "start_time": "2021-04-18T07:40:05.856389Z"
    }
   },
   "outputs": [
    {
     "ename": "WebDriverException",
     "evalue": "Message: 'chromedriver' executable needs to be in PATH. Please see https://sites.google.com/a/chromium.org/chromedriver/home\n",
     "traceback": [
      "\u001b[1;31m---------------------------------------------------------------------------\u001b[0m",
      "\u001b[1;31mFileNotFoundError\u001b[0m                         Traceback (most recent call last)",
      "\u001b[1;32mD:\\lib\\site-packages\\selenium\\webdriver\\common\\service.py\u001b[0m in \u001b[0;36mstart\u001b[1;34m(self)\u001b[0m\n\u001b[0;32m     75\u001b[0m                                             \u001b[0mstderr\u001b[0m\u001b[1;33m=\u001b[0m\u001b[0mself\u001b[0m\u001b[1;33m.\u001b[0m\u001b[0mlog_file\u001b[0m\u001b[1;33m,\u001b[0m\u001b[1;33m\u001b[0m\u001b[1;33m\u001b[0m\u001b[0m\n\u001b[1;32m---> 76\u001b[1;33m                                             stdin=PIPE)\n\u001b[0m\u001b[0;32m     77\u001b[0m         \u001b[1;32mexcept\u001b[0m \u001b[0mTypeError\u001b[0m\u001b[1;33m:\u001b[0m\u001b[1;33m\u001b[0m\u001b[1;33m\u001b[0m\u001b[0m\n",
      "\u001b[1;32md:\\lib\\subprocess.py\u001b[0m in \u001b[0;36m__init__\u001b[1;34m(self, args, bufsize, executable, stdin, stdout, stderr, preexec_fn, close_fds, shell, cwd, env, universal_newlines, startupinfo, creationflags, restore_signals, start_new_session, pass_fds, encoding, errors, text)\u001b[0m\n\u001b[0;32m    774\u001b[0m                                 \u001b[0merrread\u001b[0m\u001b[1;33m,\u001b[0m \u001b[0merrwrite\u001b[0m\u001b[1;33m,\u001b[0m\u001b[1;33m\u001b[0m\u001b[1;33m\u001b[0m\u001b[0m\n\u001b[1;32m--> 775\u001b[1;33m                                 restore_signals, start_new_session)\n\u001b[0m\u001b[0;32m    776\u001b[0m         \u001b[1;32mexcept\u001b[0m\u001b[1;33m:\u001b[0m\u001b[1;33m\u001b[0m\u001b[1;33m\u001b[0m\u001b[0m\n",
      "\u001b[1;32md:\\lib\\subprocess.py\u001b[0m in \u001b[0;36m_execute_child\u001b[1;34m(self, args, executable, preexec_fn, close_fds, pass_fds, cwd, env, startupinfo, creationflags, shell, p2cread, p2cwrite, c2pread, c2pwrite, errread, errwrite, unused_restore_signals, unused_start_new_session)\u001b[0m\n\u001b[0;32m   1177\u001b[0m                                          \u001b[0mos\u001b[0m\u001b[1;33m.\u001b[0m\u001b[0mfspath\u001b[0m\u001b[1;33m(\u001b[0m\u001b[0mcwd\u001b[0m\u001b[1;33m)\u001b[0m \u001b[1;32mif\u001b[0m \u001b[0mcwd\u001b[0m \u001b[1;32mis\u001b[0m \u001b[1;32mnot\u001b[0m \u001b[1;32mNone\u001b[0m \u001b[1;32melse\u001b[0m \u001b[1;32mNone\u001b[0m\u001b[1;33m,\u001b[0m\u001b[1;33m\u001b[0m\u001b[1;33m\u001b[0m\u001b[0m\n\u001b[1;32m-> 1178\u001b[1;33m                                          startupinfo)\n\u001b[0m\u001b[0;32m   1179\u001b[0m             \u001b[1;32mfinally\u001b[0m\u001b[1;33m:\u001b[0m\u001b[1;33m\u001b[0m\u001b[1;33m\u001b[0m\u001b[0m\n",
      "\u001b[1;31mFileNotFoundError\u001b[0m: [WinError 2] 系统找不到指定的文件。",
      "\nDuring handling of the above exception, another exception occurred:\n",
      "\u001b[1;31mWebDriverException\u001b[0m                        Traceback (most recent call last)",
      "\u001b[1;32m<ipython-input-34-844587efe4f6>\u001b[0m in \u001b[0;36m<module>\u001b[1;34m\u001b[0m\n\u001b[0;32m      2\u001b[0m \u001b[1;32mfrom\u001b[0m \u001b[0mselenium\u001b[0m \u001b[1;32mimport\u001b[0m \u001b[0mwebdriver\u001b[0m\u001b[1;33m\u001b[0m\u001b[1;33m\u001b[0m\u001b[0m\n\u001b[0;32m      3\u001b[0m \u001b[0murl\u001b[0m\u001b[1;33m=\u001b[0m\u001b[1;34m\"http://stock.finance.sina.com.cn/stock/go.php/vReport_List/kind/search/index.phtml?t1=3&industry=sw2_110100&symbol=&pubdate=2021-04-18\"\u001b[0m\u001b[1;33m\u001b[0m\u001b[1;33m\u001b[0m\u001b[0m\n\u001b[1;32m----> 4\u001b[1;33m \u001b[0mdriver\u001b[0m \u001b[1;33m=\u001b[0m \u001b[0mwebdriver\u001b[0m\u001b[1;33m.\u001b[0m\u001b[0mChrome\u001b[0m\u001b[1;33m(\u001b[0m\u001b[1;33m)\u001b[0m\u001b[1;33m\u001b[0m\u001b[1;33m\u001b[0m\u001b[0m\n\u001b[0m\u001b[0;32m      5\u001b[0m \u001b[0mdriver\u001b[0m\u001b[1;33m.\u001b[0m\u001b[0mget\u001b[0m\u001b[1;33m(\u001b[0m\u001b[0murl\u001b[0m\u001b[1;33m)\u001b[0m     \u001b[1;31m# 打开有alert弹框的HTML页面\u001b[0m\u001b[1;33m\u001b[0m\u001b[1;33m\u001b[0m\u001b[0m\n\u001b[0;32m      6\u001b[0m \u001b[0mdriver\u001b[0m\u001b[1;33m.\u001b[0m\u001b[0mimplicitly_wait\u001b[0m\u001b[1;33m(\u001b[0m\u001b[1;36m10\u001b[0m\u001b[1;33m)\u001b[0m\u001b[1;33m\u001b[0m\u001b[1;33m\u001b[0m\u001b[0m\n",
      "\u001b[1;32mD:\\lib\\site-packages\\selenium\\webdriver\\chrome\\webdriver.py\u001b[0m in \u001b[0;36m__init__\u001b[1;34m(self, executable_path, port, options, service_args, desired_capabilities, service_log_path, chrome_options, keep_alive)\u001b[0m\n\u001b[0;32m     71\u001b[0m             \u001b[0mservice_args\u001b[0m\u001b[1;33m=\u001b[0m\u001b[0mservice_args\u001b[0m\u001b[1;33m,\u001b[0m\u001b[1;33m\u001b[0m\u001b[1;33m\u001b[0m\u001b[0m\n\u001b[0;32m     72\u001b[0m             log_path=service_log_path)\n\u001b[1;32m---> 73\u001b[1;33m         \u001b[0mself\u001b[0m\u001b[1;33m.\u001b[0m\u001b[0mservice\u001b[0m\u001b[1;33m.\u001b[0m\u001b[0mstart\u001b[0m\u001b[1;33m(\u001b[0m\u001b[1;33m)\u001b[0m\u001b[1;33m\u001b[0m\u001b[1;33m\u001b[0m\u001b[0m\n\u001b[0m\u001b[0;32m     74\u001b[0m \u001b[1;33m\u001b[0m\u001b[0m\n\u001b[0;32m     75\u001b[0m         \u001b[1;32mtry\u001b[0m\u001b[1;33m:\u001b[0m\u001b[1;33m\u001b[0m\u001b[1;33m\u001b[0m\u001b[0m\n",
      "\u001b[1;32mD:\\lib\\site-packages\\selenium\\webdriver\\common\\service.py\u001b[0m in \u001b[0;36mstart\u001b[1;34m(self)\u001b[0m\n\u001b[0;32m     81\u001b[0m                 raise WebDriverException(\n\u001b[0;32m     82\u001b[0m                     \"'%s' executable needs to be in PATH. %s\" % (\n\u001b[1;32m---> 83\u001b[1;33m                         os.path.basename(self.path), self.start_error_message)\n\u001b[0m\u001b[0;32m     84\u001b[0m                 )\n\u001b[0;32m     85\u001b[0m             \u001b[1;32melif\u001b[0m \u001b[0merr\u001b[0m\u001b[1;33m.\u001b[0m\u001b[0merrno\u001b[0m \u001b[1;33m==\u001b[0m \u001b[0merrno\u001b[0m\u001b[1;33m.\u001b[0m\u001b[0mEACCES\u001b[0m\u001b[1;33m:\u001b[0m\u001b[1;33m\u001b[0m\u001b[1;33m\u001b[0m\u001b[0m\n",
      "\u001b[1;31mWebDriverException\u001b[0m: Message: 'chromedriver' executable needs to be in PATH. Please see https://sites.google.com/a/chromium.org/chromedriver/home\n"
     ],
     "output_type": "error"
    }
   ],
   "source": [
    "from selenium.webdriver.support.ui import Select\n",
    "from selenium import webdriver\n",
    "url=\"http://stock.finance.sina.com.cn/stock/go.php/vReport_List/kind/search/index.phtml?t1=3&industry=sw2_110100&symbol=&pubdate=2021-04-18\"\n",
    "driver = webdriver.Chrome()\n",
    "driver.get(url)     # 打开有alert弹框的HTML页面\n",
    "driver.implicitly_wait(10)\n",
    "\n",
    "# 获取下拉框的产品种类和索引\n",
    "select_product = driver.find_element_by_name(\"industry\")\n",
    "options = select_product.find_elements_by_tag_name(\"option\")\n",
    "for option in options:\n",
    "    if option.text == \"请选择\":\n",
    "        continue\n",
    "    print(option.get_attribute(\"value\"),option.text)\n",
    "    # 下拉框的一个实例化\n",
    "    s = Select(select_product)\n",
    "    # 显示的值选择\n",
    "    s.select_by_index(options.index(option))  # 索引\n",
    "    # s.select_by_value(option.get_attribute(\"value\"))  # 值\n",
    "    # s.select_by_visible_text(option.text)  #  可见文本\n",
    "    print(\"******************************\")\n",
    "\n"
   ]
  },
  {
   "cell_type": "code",
   "execution_count": 36,
   "metadata": {
    "ExecuteTime": {
     "end_time": "2021-04-18T08:55:30.020202Z",
     "start_time": "2021-04-18T08:55:30.014218Z"
    }
   },
   "outputs": [],
   "source": [
    "string = '<select name=\"industry\" id=\"industry\"><option value=\"sw2_110100\">种植业</option><option value=\"sw2_110200\">渔业</option><option value=\"sw2_110300\">林业</option><option value=\"sw2_110400\">饲料</option><option value=\"sw2_110500\">农产品加工</option><option value=\"sw2_110600\">农业综合</option><option value=\"sw2_110700\">畜禽养殖</option><option value=\"sw2_110800\">动物保健</option><option value=\"sw2_210100\">石油开采</option><option value=\"sw2_210200\">煤炭开采</option><option value=\"sw2_210300\">其他采掘</option><option value=\"sw2_210400\">采掘服务</option><option value=\"sw2_220100\">石油化工</option><option value=\"sw2_220200\">化学原料</option><option value=\"sw2_220300\">化学制品</option><option value=\"sw2_220400\">化学纤维</option><option value=\"sw2_220500\">塑料</option><option value=\"sw2_220600\">橡胶</option><option value=\"sw2_230100\">钢铁</option><option value=\"sw2_240200\">金属非金属新材料</option><option value=\"sw2_240300\">工业金属</option><option value=\"sw2_240400\">黄金</option><option value=\"sw2_240500\">稀有金属</option><option value=\"sw2_270100\">半导体</option><option value=\"sw2_270200\">元件</option><option value=\"sw2_270300\">光学光电子</option><option value=\"sw2_270400\">其他电子</option><option value=\"sw2_270500\">电子制造</option><option value=\"sw2_280100\">汽车整车</option><option value=\"sw2_280200\">汽车零部件</option><option value=\"sw2_280300\">汽车服务</option><option value=\"sw2_280400\">其他交运设备</option><option value=\"sw2_330100\">白色家电</option><option value=\"sw2_330200\">视听器材</option><option value=\"sw2_340300\">饮料制造</option><option value=\"sw2_340400\">食品加工</option><option value=\"sw2_350100\">纺织制造</option><option value=\"sw2_350200\">服装家纺</option><option value=\"sw2_360100\">造纸</option><option value=\"sw2_360200\">包装印刷</option><option value=\"sw2_360300\">家用轻工</option><option value=\"sw2_360400\">其他轻工制造</option><option value=\"sw2_370100\">化学制药</option><option value=\"sw2_370200\">中药</option><option value=\"sw2_370300\">生物制品</option><option value=\"sw2_370400\">医药商业</option><option value=\"sw2_370500\">医疗器械</option><option value=\"sw2_370600\">医疗服务</option><option value=\"sw2_410100\">电力</option><option value=\"sw2_410200\">水务</option><option value=\"sw2_410300\">燃气</option><option value=\"sw2_410400\">环保工程及服务</option><option value=\"sw2_420100\">港口</option><option value=\"sw2_420200\">高速公路</option><option value=\"sw2_420300\">公交</option><option value=\"sw2_420400\">航空运输</option><option value=\"sw2_420500\">机场</option><option value=\"sw2_420600\">航运</option><option value=\"sw2_420700\">铁路运输</option><option value=\"sw2_420800\">物流</option><option value=\"sw2_430100\">房地产开发</option><option value=\"sw2_430200\">园区开发</option><option value=\"sw2_450200\">贸易</option><option value=\"sw2_450300\">一般零售</option><option value=\"sw2_450400\">专业零售</option><option value=\"sw2_450500\">商业物业经营</option><option value=\"sw2_460100\">景点</option><option value=\"sw2_460200\">酒店</option><option value=\"sw2_460300\">旅游综合</option><option value=\"sw2_460400\">餐饮</option><option value=\"sw2_460500\">其他休闲服务</option><option value=\"sw2_480100\">银行</option><option value=\"sw2_490100\">证券</option><option value=\"sw2_490200\">保险</option><option value=\"sw2_490300\">多元金融</option><option value=\"sw2_510100\">综合</option><option value=\"sw2_610100\">水泥制造</option><option value=\"sw2_610200\">玻璃制造</option><option value=\"sw2_610300\">其他建材</option><option value=\"sw2_620100\">房屋建设</option><option value=\"sw2_620200\">装修装饰</option><option value=\"sw2_620300\">基础建设</option><option value=\"sw2_620400\">专业工程</option><option value=\"sw2_620500\">园林工程</option><option value=\"sw2_630100\">电机</option><option value=\"sw2_630200\">电气自动化设备</option><option value=\"sw2_630300\">电源设备</option><option value=\"sw2_630400\">高低压设备</option><option value=\"sw2_640100\">通用机械</option><option value=\"sw2_640200\">专用设备</option><option value=\"sw2_640300\">仪器仪表</option><option value=\"sw2_640400\">金属制品</option><option value=\"sw2_640500\">运输设备</option><option value=\"sw2_650100\">航天装备</option><option value=\"sw2_650200\">航空装备</option><option value=\"sw2_650300\">地面兵装</option><option value=\"sw2_650400\">船舶制造</option><option value=\"sw2_710100\">计算机设备</option><option value=\"sw2_710200\">计算机应用</option><option value=\"sw2_720100\">文化传媒</option><option value=\"sw2_720200\">营销传播</option><option value=\"sw2_720300\">互联网传媒</option><option value=\"sw2_730100\">通信运营</option><option value=\"sw2_730200\">通信设备</option></select>'"
   ]
  },
  {
   "cell_type": "code",
   "execution_count": 37,
   "metadata": {
    "ExecuteTime": {
     "end_time": "2021-04-18T08:55:33.949622Z",
     "start_time": "2021-04-18T08:55:33.937695Z"
    }
   },
   "outputs": [
    {
     "data": {
      "text/plain": [
       "'<select name=\"industry\" id=\"industry\"><option value=\"sw2_110100\">种植业</option><option value=\"sw2_110200\">渔业</option><option value=\"sw2_110300\">林业</option><option value=\"sw2_110400\">饲料</option><option value=\"sw2_110500\">农产品加工</option><option value=\"sw2_110600\">农业综合</option><option value=\"sw2_110700\">畜禽养殖</option><option value=\"sw2_110800\">动物保健</option><option value=\"sw2_210100\">石油开采</option><option value=\"sw2_210200\">煤炭开采</option><option value=\"sw2_210300\">其他采掘</option><option value=\"sw2_210400\">采掘服务</option><option value=\"sw2_220100\">石油化工</option><option value=\"sw2_220200\">化学原料</option><option value=\"sw2_220300\">化学制品</option><option value=\"sw2_220400\">化学纤维</option><option value=\"sw2_220500\">塑料</option><option value=\"sw2_220600\">橡胶</option><option value=\"sw2_230100\">钢铁</option><option value=\"sw2_240200\">金属非金属新材料</option><option value=\"sw2_240300\">工业金属</option><option value=\"sw2_240400\">黄金</option><option value=\"sw2_240500\">稀有金属</option><option value=\"sw2_270100\">半导体</option><option value=\"sw2_270200\">元件</option><option value=\"sw2_270300\">光学光电子</option><option value=\"sw2_270400\">其他电子</option><option value=\"sw2_270500\">电子制造</option><option value=\"sw2_280100\">汽车整车</option><option value=\"sw2_280200\">汽车零部件</option><option value=\"sw2_280300\">汽车服务</option><option value=\"sw2_280400\">其他交运设备</option><option value=\"sw2_330100\">白色家电</option><option value=\"sw2_330200\">视听器材</option><option value=\"sw2_340300\">饮料制造</option><option value=\"sw2_340400\">食品加工</option><option value=\"sw2_350100\">纺织制造</option><option value=\"sw2_350200\">服装家纺</option><option value=\"sw2_360100\">造纸</option><option value=\"sw2_360200\">包装印刷</option><option value=\"sw2_360300\">家用轻工</option><option value=\"sw2_360400\">其他轻工制造</option><option value=\"sw2_370100\">化学制药</option><option value=\"sw2_370200\">中药</option><option value=\"sw2_370300\">生物制品</option><option value=\"sw2_370400\">医药商业</option><option value=\"sw2_370500\">医疗器械</option><option value=\"sw2_370600\">医疗服务</option><option value=\"sw2_410100\">电力</option><option value=\"sw2_410200\">水务</option><option value=\"sw2_410300\">燃气</option><option value=\"sw2_410400\">环保工程及服务</option><option value=\"sw2_420100\">港口</option><option value=\"sw2_420200\">高速公路</option><option value=\"sw2_420300\">公交</option><option value=\"sw2_420400\">航空运输</option><option value=\"sw2_420500\">机场</option><option value=\"sw2_420600\">航运</option><option value=\"sw2_420700\">铁路运输</option><option value=\"sw2_420800\">物流</option><option value=\"sw2_430100\">房地产开发</option><option value=\"sw2_430200\">园区开发</option><option value=\"sw2_450200\">贸易</option><option value=\"sw2_450300\">一般零售</option><option value=\"sw2_450400\">专业零售</option><option value=\"sw2_450500\">商业物业经营</option><option value=\"sw2_460100\">景点</option><option value=\"sw2_460200\">酒店</option><option value=\"sw2_460300\">旅游综合</option><option value=\"sw2_460400\">餐饮</option><option value=\"sw2_460500\">其他休闲服务</option><option value=\"sw2_480100\">银行</option><option value=\"sw2_490100\">证券</option><option value=\"sw2_490200\">保险</option><option value=\"sw2_490300\">多元金融</option><option value=\"sw2_510100\">综合</option><option value=\"sw2_610100\">水泥制造</option><option value=\"sw2_610200\">玻璃制造</option><option value=\"sw2_610300\">其他建材</option><option value=\"sw2_620100\">房屋建设</option><option value=\"sw2_620200\">装修装饰</option><option value=\"sw2_620300\">基础建设</option><option value=\"sw2_620400\">专业工程</option><option value=\"sw2_620500\">园林工程</option><option value=\"sw2_630100\">电机</option><option value=\"sw2_630200\">电气自动化设备</option><option value=\"sw2_630300\">电源设备</option><option value=\"sw2_630400\">高低压设备</option><option value=\"sw2_640100\">通用机械</option><option value=\"sw2_640200\">专用设备</option><option value=\"sw2_640300\">仪器仪表</option><option value=\"sw2_640400\">金属制品</option><option value=\"sw2_640500\">运输设备</option><option value=\"sw2_650100\">航天装备</option><option value=\"sw2_650200\">航空装备</option><option value=\"sw2_650300\">地面兵装</option><option value=\"sw2_650400\">船舶制造</option><option value=\"sw2_710100\">计算机设备</option><option value=\"sw2_710200\">计算机应用</option><option value=\"sw2_720100\">文化传媒</option><option value=\"sw2_720200\">营销传播</option><option value=\"sw2_720300\">互联网传媒</option><option value=\"sw2_730100\">通信运营</option><option value=\"sw2_730200\">通信设备</option></select>'"
      ]
     },
     "execution_count": 37,
     "metadata": {},
     "output_type": "execute_result"
    }
   ],
   "source": [
    "string"
   ]
  },
  {
   "cell_type": "code",
   "execution_count": 39,
   "metadata": {
    "ExecuteTime": {
     "end_time": "2021-04-18T08:56:22.008323Z",
     "start_time": "2021-04-18T08:56:21.993367Z"
    }
   },
   "outputs": [
    {
     "data": {
      "text/plain": [
       "['sw2_110100',\n",
       " 'sw2_110200',\n",
       " 'sw2_110300',\n",
       " 'sw2_110400',\n",
       " 'sw2_110500',\n",
       " 'sw2_110600',\n",
       " 'sw2_110700',\n",
       " 'sw2_110800',\n",
       " 'sw2_210100',\n",
       " 'sw2_210200',\n",
       " 'sw2_210300',\n",
       " 'sw2_210400',\n",
       " 'sw2_220100',\n",
       " 'sw2_220200',\n",
       " 'sw2_220300',\n",
       " 'sw2_220400',\n",
       " 'sw2_220500',\n",
       " 'sw2_220600',\n",
       " 'sw2_230100',\n",
       " 'sw2_240200',\n",
       " 'sw2_240300',\n",
       " 'sw2_240400',\n",
       " 'sw2_240500',\n",
       " 'sw2_270100',\n",
       " 'sw2_270200',\n",
       " 'sw2_270300',\n",
       " 'sw2_270400',\n",
       " 'sw2_270500',\n",
       " 'sw2_280100',\n",
       " 'sw2_280200',\n",
       " 'sw2_280300',\n",
       " 'sw2_280400',\n",
       " 'sw2_330100',\n",
       " 'sw2_330200',\n",
       " 'sw2_340300',\n",
       " 'sw2_340400',\n",
       " 'sw2_350100',\n",
       " 'sw2_350200',\n",
       " 'sw2_360100',\n",
       " 'sw2_360200',\n",
       " 'sw2_360300',\n",
       " 'sw2_360400',\n",
       " 'sw2_370100',\n",
       " 'sw2_370200',\n",
       " 'sw2_370300',\n",
       " 'sw2_370400',\n",
       " 'sw2_370500',\n",
       " 'sw2_370600',\n",
       " 'sw2_410100',\n",
       " 'sw2_410200',\n",
       " 'sw2_410300',\n",
       " 'sw2_410400',\n",
       " 'sw2_420100',\n",
       " 'sw2_420200',\n",
       " 'sw2_420300',\n",
       " 'sw2_420400',\n",
       " 'sw2_420500',\n",
       " 'sw2_420600',\n",
       " 'sw2_420700',\n",
       " 'sw2_420800',\n",
       " 'sw2_430100',\n",
       " 'sw2_430200',\n",
       " 'sw2_450200',\n",
       " 'sw2_450300',\n",
       " 'sw2_450400',\n",
       " 'sw2_450500',\n",
       " 'sw2_460100',\n",
       " 'sw2_460200',\n",
       " 'sw2_460300',\n",
       " 'sw2_460400',\n",
       " 'sw2_460500',\n",
       " 'sw2_480100',\n",
       " 'sw2_490100',\n",
       " 'sw2_490200',\n",
       " 'sw2_490300',\n",
       " 'sw2_510100',\n",
       " 'sw2_610100',\n",
       " 'sw2_610200',\n",
       " 'sw2_610300',\n",
       " 'sw2_620100',\n",
       " 'sw2_620200',\n",
       " 'sw2_620300',\n",
       " 'sw2_620400',\n",
       " 'sw2_620500',\n",
       " 'sw2_630100',\n",
       " 'sw2_630200',\n",
       " 'sw2_630300',\n",
       " 'sw2_630400',\n",
       " 'sw2_640100',\n",
       " 'sw2_640200',\n",
       " 'sw2_640300',\n",
       " 'sw2_640400',\n",
       " 'sw2_640500',\n",
       " 'sw2_650100',\n",
       " 'sw2_650200',\n",
       " 'sw2_650300',\n",
       " 'sw2_650400',\n",
       " 'sw2_710100',\n",
       " 'sw2_710200',\n",
       " 'sw2_720100',\n",
       " 'sw2_720200',\n",
       " 'sw2_720300',\n",
       " 'sw2_730100',\n",
       " 'sw2_730200']"
      ]
     },
     "execution_count": 39,
     "metadata": {},
     "output_type": "execute_result"
    }
   ],
   "source": [
    "string.split('\"')\n",
    "code = []\n",
    "for i in string.split('\"'):\n",
    "    if 'sw' in i:\n",
    "        code.append(i)\n",
    "code"
   ]
  },
  {
   "cell_type": "code",
   "execution_count": 43,
   "metadata": {
    "ExecuteTime": {
     "end_time": "2021-04-18T08:58:21.982154Z",
     "start_time": "2021-04-18T08:58:21.962208Z"
    }
   },
   "outputs": [
    {
     "data": {
      "text/plain": [
       "['种植业',\n",
       " '渔业',\n",
       " '林业',\n",
       " '饲料',\n",
       " '农产品加工',\n",
       " '农业综合',\n",
       " '畜禽养殖',\n",
       " '动物保健',\n",
       " '石油开采',\n",
       " '煤炭开采',\n",
       " '其他采掘',\n",
       " '采掘服务',\n",
       " '石油化工',\n",
       " '化学原料',\n",
       " '化学制品',\n",
       " '化学纤维',\n",
       " '塑料',\n",
       " '橡胶',\n",
       " '钢铁',\n",
       " '金属非金属新材料',\n",
       " '工业金属',\n",
       " '黄金',\n",
       " '稀有金属',\n",
       " '半导体',\n",
       " '元件',\n",
       " '光学光电子',\n",
       " '其他电子',\n",
       " '电子制造',\n",
       " '汽车整车',\n",
       " '汽车零部件',\n",
       " '汽车服务',\n",
       " '其他交运设备',\n",
       " '白色家电',\n",
       " '视听器材',\n",
       " '饮料制造',\n",
       " '食品加工',\n",
       " '纺织制造',\n",
       " '服装家纺',\n",
       " '造纸',\n",
       " '包装印刷',\n",
       " '家用轻工',\n",
       " '其他轻工制造',\n",
       " '化学制药',\n",
       " '中药',\n",
       " '生物制品',\n",
       " '医药商业',\n",
       " '医疗器械',\n",
       " '医疗服务',\n",
       " '电力',\n",
       " '水务',\n",
       " '燃气',\n",
       " '环保工程及服务',\n",
       " '港口',\n",
       " '高速公路',\n",
       " '公交',\n",
       " '航空运输',\n",
       " '机场',\n",
       " '航运',\n",
       " '铁路运输',\n",
       " '物流',\n",
       " '房地产开发',\n",
       " '园区开发',\n",
       " '贸易',\n",
       " '一般零售',\n",
       " '专业零售',\n",
       " '商业物业经营',\n",
       " '景点',\n",
       " '酒店',\n",
       " '旅游综合',\n",
       " '餐饮',\n",
       " '其他休闲服务',\n",
       " '银行',\n",
       " '证券',\n",
       " '保险',\n",
       " '多元金融',\n",
       " '综合',\n",
       " '水泥制造',\n",
       " '玻璃制造',\n",
       " '其他建材',\n",
       " '房屋建设',\n",
       " '装修装饰',\n",
       " '基础建设',\n",
       " '专业工程',\n",
       " '园林工程',\n",
       " '电机',\n",
       " '电气自动化设备',\n",
       " '电源设备',\n",
       " '高低压设备',\n",
       " '通用机械',\n",
       " '专用设备',\n",
       " '仪器仪表',\n",
       " '金属制品',\n",
       " '运输设备',\n",
       " '航天装备',\n",
       " '航空装备',\n",
       " '地面兵装',\n",
       " '船舶制造',\n",
       " '计算机设备',\n",
       " '计算机应用',\n",
       " '文化传媒',\n",
       " '营销传播',\n",
       " '互联网传媒',\n",
       " '通信运营',\n",
       " '通信设备']"
      ]
     },
     "execution_count": 43,
     "metadata": {},
     "output_type": "execute_result"
    }
   ],
   "source": [
    "string.split('>')\n",
    "ind = []\n",
    "for i in string.split('>'):\n",
    "    if \"</option\" in i:\n",
    "        stt = i[:-8]\n",
    "        ind.append(stt)\n",
    "ind"
   ]
  },
  {
   "cell_type": "code",
   "execution_count": 44,
   "metadata": {
    "ExecuteTime": {
     "end_time": "2021-04-18T09:00:20.405839Z",
     "start_time": "2021-04-18T09:00:20.377880Z"
    }
   },
   "outputs": [],
   "source": [
    "import pandas as pd\n",
    "df = pd.DataFrame({'industry':ind, 'ind_code':code})\n",
    "df.to_csv(\"C:/Users/12968/Desktop/数据科学实战-stock prediction/数据/industry_code.csv\")"
   ]
  },
  {
   "cell_type": "code",
   "execution_count": 6,
   "metadata": {
    "ExecuteTime": {
     "end_time": "2021-04-19T07:18:59.681179Z",
     "start_time": "2021-04-19T07:18:59.404999Z"
    }
   },
   "outputs": [],
   "source": [
    "import pandas as pd\n",
    "agu = pd.read_excel('C:/Users/12968/Desktop/数据科学实战-stock prediction/数据/全部A股代码名字和行业.xlsx')\n",
    "ind_code = pd.read_csv('C:/Users/12968/Desktop/数据科学实战-stock prediction/数据/industry_code.csv')"
   ]
  },
  {
   "cell_type": "code",
   "execution_count": 10,
   "metadata": {
    "ExecuteTime": {
     "end_time": "2021-04-19T07:19:42.652361Z",
     "start_time": "2021-04-19T07:19:40.194875Z"
    }
   },
   "outputs": [
    {
     "data": {
      "text/plain": [
       "{'000001': '平安银行',\n",
       " '000002': '万科A',\n",
       " '000003': 'PT 金田A',\n",
       " '000004': '国华网安',\n",
       " '000005': '世纪星源',\n",
       " '000006': '深振业A',\n",
       " '000007': '全新好',\n",
       " '000008': '神州高铁',\n",
       " '000009': '中国宝安',\n",
       " '000010': '美丽生态',\n",
       " '000011': '深物业A',\n",
       " '000012': '南玻A',\n",
       " '000013': '*ST 石化A',\n",
       " '000014': '沙河股份',\n",
       " '000015': 'PT 中浩A',\n",
       " '000016': '深康佳A',\n",
       " '000017': '*ST 中华A',\n",
       " '000018': '神城A退',\n",
       " '000019': '深粮控股',\n",
       " '000020': '深华发A',\n",
       " '000021': '深科技',\n",
       " '000022': '深赤湾A',\n",
       " '000023': '深天地A',\n",
       " '000024': '招商地产',\n",
       " '000025': '特力A',\n",
       " '000026': '飞亚达',\n",
       " '000027': '深圳能源',\n",
       " '000028': '国药一致',\n",
       " '000029': '深深房A',\n",
       " '000030': '富奥股份',\n",
       " '000031': '大悦城',\n",
       " '000032': '深桑达A',\n",
       " '000033': '新都退',\n",
       " '000034': '神州数码',\n",
       " '000035': '中国天楹',\n",
       " '000036': '华联控股',\n",
       " '000037': '深南电A',\n",
       " '000038': '深大通',\n",
       " '000039': '中集集团',\n",
       " '000040': '东旭蓝天',\n",
       " '000042': '中洲控股',\n",
       " '000043': '中航善达',\n",
       " '000045': '深纺织A',\n",
       " '000046': '泛海控股',\n",
       " '000047': 'ST 中侨',\n",
       " '000048': '京基智农',\n",
       " '000049': '德赛电池',\n",
       " '000050': '深天马A',\n",
       " '000055': '方大集团',\n",
       " '000056': '皇庭国际',\n",
       " '000058': '深赛格',\n",
       " '000059': '华锦股份',\n",
       " '000060': '中金岭南',\n",
       " '000061': '农产品',\n",
       " '000062': '深圳华强',\n",
       " '000063': '中兴通讯',\n",
       " '000065': '北方国际',\n",
       " '000066': '中国长城',\n",
       " '000068': '华控赛格',\n",
       " '000069': '华侨城A',\n",
       " '000070': '特发信息',\n",
       " '000078': '海王生物',\n",
       " '000088': '盐田港',\n",
       " '000089': '深圳机场',\n",
       " '000090': '天健集团',\n",
       " '000096': '广聚能源',\n",
       " '000099': '中信海直',\n",
       " '000100': 'TCL科技',\n",
       " '000150': '宜华健康',\n",
       " '000151': '中成股份',\n",
       " '000153': '丰原药业',\n",
       " '000155': '川能动力',\n",
       " '000156': '华数传媒',\n",
       " '000157': '中联重科',\n",
       " '000158': '常山北明',\n",
       " '000159': '国际实业',\n",
       " '000166': '申万宏源',\n",
       " '000301': '东方盛虹',\n",
       " '000333': '美的集团',\n",
       " '000338': '潍柴动力',\n",
       " '000400': '许继电气',\n",
       " '000401': '冀东水泥',\n",
       " '000402': '金融街',\n",
       " '000403': '双林生物',\n",
       " '000404': '长虹华意',\n",
       " '000405': 'ST 鑫光',\n",
       " '000406': '石油大明',\n",
       " '000407': '胜利股份',\n",
       " '000408': '*ST 藏格',\n",
       " '000409': 'ST 地矿',\n",
       " '000410': '*ST 沈机',\n",
       " '000411': '英特集团',\n",
       " '000412': 'ST 五环',\n",
       " '000413': '东旭光电',\n",
       " '000415': '渤海租赁',\n",
       " '000416': '民生控股',\n",
       " '000417': '合肥百货',\n",
       " '000418': '小天鹅A',\n",
       " '000419': '通程控股',\n",
       " '000420': '吉林化纤',\n",
       " '000421': '南京公用',\n",
       " '000422': 'ST 宜化',\n",
       " '000423': '东阿阿胶',\n",
       " '000425': '徐工机械',\n",
       " '000426': '兴业矿业',\n",
       " '000428': '华天酒店',\n",
       " '000429': '粤高速A',\n",
       " '000430': '张家界',\n",
       " '000488': '晨鸣纸业',\n",
       " '000498': '山东路桥',\n",
       " '000501': '鄂武商A',\n",
       " '000502': '绿景控股',\n",
       " '000503': '国新健康',\n",
       " '000504': 'ST 生物',\n",
       " '000505': '京粮控股',\n",
       " '000506': '中润资源',\n",
       " '000507': '珠海港',\n",
       " '000508': '琼民源A',\n",
       " '000509': '*ST 华塑',\n",
       " '000510': '新金路',\n",
       " '000511': '烯碳退',\n",
       " '000513': '丽珠集团',\n",
       " '000514': '渝开发',\n",
       " '000515': '攀渝钛业',\n",
       " '000516': '国际医学',\n",
       " '000517': '荣安地产',\n",
       " '000518': '四环生物',\n",
       " '000519': '中兵红箭',\n",
       " '000520': '长航凤凰',\n",
       " '000521': '长虹美菱',\n",
       " '000522': '白云山A',\n",
       " '000523': '广州浪奇',\n",
       " '000524': '岭南控股',\n",
       " '000525': '红太阳',\n",
       " '000526': '紫光学大',\n",
       " '000527': '美的电器',\n",
       " '000528': '柳工',\n",
       " '000529': '广弘控股',\n",
       " '000530': '冰山冷热',\n",
       " '000531': '穗恒运A',\n",
       " '000532': '华金资本',\n",
       " '000533': '顺钠股份',\n",
       " '000534': '万泽股份',\n",
       " '000535': '*ST 猴王',\n",
       " '000536': '*ST 华映',\n",
       " '000537': '广宇发展',\n",
       " '000538': '云南白药',\n",
       " '000539': '粤电力A',\n",
       " '000540': '中天金融',\n",
       " '000541': '佛山照明',\n",
       " '000542': 'TCL通讯',\n",
       " '000543': '皖能电力',\n",
       " '000544': '中原环保',\n",
       " '000545': '金浦钛业',\n",
       " '000546': '金圆股份',\n",
       " '000547': '航天发展',\n",
       " '000548': '湖南投资',\n",
       " '000549': 'S 湘火炬',\n",
       " '000550': '江铃汽车',\n",
       " '000551': '创元科技',\n",
       " '000552': '靖远煤电',\n",
       " '000553': '安道麦A',\n",
       " '000554': '泰山石油',\n",
       " '000555': '神州信息',\n",
       " '000556': 'PT 南洋',\n",
       " '000557': '西部创业',\n",
       " '000558': '莱茵体育',\n",
       " '000559': '万向钱潮',\n",
       " '000560': '我爱我家',\n",
       " '000561': '烽火电子',\n",
       " '000562': '宏源证券',\n",
       " '000563': '陕国投A',\n",
       " '000564': '*ST 大集',\n",
       " '000565': '渝三峡A',\n",
       " '000566': '海南海药',\n",
       " '000567': '海德股份',\n",
       " '000568': '泸州老窖',\n",
       " '000569': '长城股份',\n",
       " '000570': '苏常柴A',\n",
       " '000571': '*ST 大洲',\n",
       " '000572': 'ST 海马',\n",
       " '000573': '粤宏远A',\n",
       " '000576': '甘化科工',\n",
       " '000578': '盐湖集团',\n",
       " '000581': '威孚高科',\n",
       " '000582': '北部湾港',\n",
       " '000583': 'S*ST 托普',\n",
       " '000584': '哈工智能',\n",
       " '000585': '*ST 东电',\n",
       " '000586': '汇源通信',\n",
       " '000587': '*ST 金洲',\n",
       " '000588': 'PT 粤金曼',\n",
       " '000589': '贵州轮胎',\n",
       " '000590': '启迪药业',\n",
       " '000591': '太阳能',\n",
       " '000592': '平潭发展',\n",
       " '000593': '大通燃气',\n",
       " '000594': '国恒退',\n",
       " '000595': '*ST 宝实',\n",
       " '000596': '古井贡酒',\n",
       " '000597': '东北制药',\n",
       " '000598': '兴蓉环境',\n",
       " '000599': '青岛双星',\n",
       " '000600': '建投能源',\n",
       " '000601': '韶能股份',\n",
       " '000602': '金马集团',\n",
       " '000603': '盛达资源',\n",
       " '000605': '渤海股份',\n",
       " '000606': '顺利办',\n",
       " '000607': '华媒控股',\n",
       " '000608': '阳光股份',\n",
       " '000609': '中迪投资',\n",
       " '000610': '西安旅游',\n",
       " '000611': 'ST 天首',\n",
       " '000612': '焦作万方',\n",
       " '000613': '大东海A',\n",
       " '000615': '奥园美谷',\n",
       " '000616': '海航投资',\n",
       " '000617': '中油资本',\n",
       " '000618': '吉林化工',\n",
       " '000619': '海螺型材',\n",
       " '000620': '新华联',\n",
       " '000621': '*ST 比特',\n",
       " '000622': '恒立实业',\n",
       " '000623': '吉林敖东',\n",
       " '000625': '长安汽车',\n",
       " '000626': '远大控股',\n",
       " '000627': '天茂集团',\n",
       " '000628': '高新发展',\n",
       " '000629': '攀钢钒钛',\n",
       " '000630': '铜陵有色',\n",
       " '000631': '顺发恒业',\n",
       " '000632': '三木集团',\n",
       " '000633': '合金投资',\n",
       " '000635': '英力特',\n",
       " '000636': '风华高科',\n",
       " '000637': '茂化实华',\n",
       " '000638': '万方发展',\n",
       " '000639': '西王食品',\n",
       " '000650': '仁和药业',\n",
       " '000651': '格力电器',\n",
       " '000652': '泰达股份',\n",
       " '000653': 'ST 九州',\n",
       " '000655': '金岭矿业',\n",
       " '000656': '金科股份',\n",
       " '000657': '中钨高新',\n",
       " '000658': 'ST 海洋',\n",
       " '000659': '珠海中富',\n",
       " '000660': '*ST 南华',\n",
       " '000661': '长春高新',\n",
       " '000662': '天夏退',\n",
       " '000663': '*ST 永林',\n",
       " '000665': '湖北广电',\n",
       " '000666': '经纬纺机',\n",
       " '000667': '美好置业',\n",
       " '000668': '荣丰控股',\n",
       " '000669': '*ST 金鸿',\n",
       " '000670': '*ST 盈方',\n",
       " '000671': '阳光城',\n",
       " '000672': '上峰水泥',\n",
       " '000673': '*ST 当代',\n",
       " '000675': 'ST 银山',\n",
       " '000676': '智度股份',\n",
       " '000677': '恒天海龙',\n",
       " '000678': '襄阳轴承',\n",
       " '000679': '*ST 友谊',\n",
       " '000680': '山推股份',\n",
       " '000681': '视觉中国',\n",
       " '000682': '东方电子',\n",
       " '000683': '远兴能源',\n",
       " '000685': '中山公用',\n",
       " '000686': '东北证券',\n",
       " '000687': '*ST 华讯',\n",
       " '000688': '国城矿业',\n",
       " '000689': 'ST 宏业',\n",
       " '000690': '宝新能源',\n",
       " '000691': '亚太实业',\n",
       " '000692': '惠天热电',\n",
       " '000693': '华泽退',\n",
       " '000695': '滨海能源',\n",
       " '000697': '炼石航空',\n",
       " '000698': '沈阳化工',\n",
       " '000699': 'S*ST 佳纸',\n",
       " '000700': '模塑科技',\n",
       " '000701': '厦门信达',\n",
       " '000702': '正虹科技',\n",
       " '000703': '恒逸石化',\n",
       " '000705': '浙江震元',\n",
       " '000707': '*ST 双环',\n",
       " '000708': '中信特钢',\n",
       " '000709': '河钢股份',\n",
       " '000710': '贝瑞基因',\n",
       " '000711': '京蓝科技',\n",
       " '000712': '锦龙股份',\n",
       " '000713': '丰乐种业',\n",
       " '000715': '中兴商业',\n",
       " '000716': '黑芝麻',\n",
       " '000717': '韶钢松山',\n",
       " '000718': '苏宁环球',\n",
       " '000719': '中原传媒',\n",
       " '000720': '新能泰山',\n",
       " '000721': '西安饮食',\n",
       " '000722': '湖南发展',\n",
       " '000723': '美锦能源',\n",
       " '000725': '京东方A',\n",
       " '000726': '鲁泰A',\n",
       " '000727': '*ST 东科',\n",
       " '000728': '国元证券',\n",
       " '000729': '燕京啤酒',\n",
       " '000730': '*ST 环保',\n",
       " '000731': '四川美丰',\n",
       " '000732': '泰禾集团',\n",
       " '000733': '振华科技',\n",
       " '000735': '罗牛山',\n",
       " '000736': '中交地产',\n",
       " '000737': 'ST 南风',\n",
       " '000738': '航发控制',\n",
       " '000739': '普洛药业',\n",
       " '000748': '长城信息',\n",
       " '000750': '国海证券',\n",
       " '000751': '锌业股份',\n",
       " '000752': '*ST 西发',\n",
       " '000753': '漳州发展',\n",
       " '000755': '山西路桥',\n",
       " '000756': '新华制药',\n",
       " '000757': '浩物股份',\n",
       " '000758': '中色股份',\n",
       " '000759': '中百集团',\n",
       " '000760': '*ST 斯太',\n",
       " '000761': '本钢板材',\n",
       " '000762': '西藏矿业',\n",
       " '000763': '锦州石化',\n",
       " '000765': '*ST 华信',\n",
       " '000766': '通化金马',\n",
       " '000767': '晋控电力',\n",
       " '000768': '中航西飞',\n",
       " '000769': '*ST 大菲',\n",
       " '000776': '广发证券',\n",
       " '000777': '中核科技',\n",
       " '000778': '新兴铸管',\n",
       " '000779': '甘咨询',\n",
       " '000780': '*ST 平能',\n",
       " '000782': '美达股份',\n",
       " '000783': '长江证券',\n",
       " '000785': '居然之家',\n",
       " '000786': '北新建材',\n",
       " '000787': '*ST 创智',\n",
       " '000788': '北大医药',\n",
       " '000789': '万年青',\n",
       " '000790': '华神科技',\n",
       " '000791': '甘肃电投',\n",
       " '000792': '*ST 盐湖',\n",
       " '000793': '华闻集团',\n",
       " '000795': '英洛华',\n",
       " '000796': '凯撒旅业',\n",
       " '000797': '中国武夷',\n",
       " '000798': '中水渔业',\n",
       " '000799': '酒鬼酒',\n",
       " '000800': '一汽解放',\n",
       " '000801': '四川九洲',\n",
       " '000802': '北京文化',\n",
       " '000803': '北清环能',\n",
       " '000805': '*ST 炎黄',\n",
       " '000806': '*ST 银河',\n",
       " '000807': '云铝股份',\n",
       " '000809': '铁岭新城',\n",
       " '000810': '创维数字',\n",
       " '000811': '冰轮环境',\n",
       " '000812': '陕西金叶',\n",
       " '000813': '德展健康',\n",
       " '000815': '美利云',\n",
       " '000816': '智慧农业',\n",
       " '000817': '辽河油田',\n",
       " '000818': '航锦科技',\n",
       " '000819': '岳阳兴长',\n",
       " '000820': '*ST 节能',\n",
       " '000821': '京山轻机',\n",
       " '000822': '山东海化',\n",
       " '000823': '超声电子',\n",
       " '000825': '太钢不锈',\n",
       " '000826': '启迪环境',\n",
       " '000827': '*ST 长兴',\n",
       " '000828': '东莞控股',\n",
       " '000829': '天音控股',\n",
       " '000830': '鲁西化工',\n",
       " '000831': '五矿稀土',\n",
       " '000832': '*ST 龙涤',\n",
       " '000833': '粤桂股份',\n",
       " '000835': '*ST 长动',\n",
       " '000836': '富通信息',\n",
       " '000837': '*ST 秦机',\n",
       " '000838': '财信发展',\n",
       " '000839': '中信国安',\n",
       " '000848': '承德露露',\n",
       " '000850': '华茂股份',\n",
       " '000851': '高鸿股份',\n",
       " '000852': '石化机械',\n",
       " '000856': '冀东装备',\n",
       " '000858': '五粮液',\n",
       " '000859': '国风塑业',\n",
       " '000860': '顺鑫农业',\n",
       " '000861': '海印股份',\n",
       " '000862': '银星能源',\n",
       " '000863': '三湘印象',\n",
       " '000866': '扬子石化',\n",
       " '000868': 'ST 安凯',\n",
       " '000869': '张裕A',\n",
       " '000875': '吉电股份',\n",
       " '000876': '新希望',\n",
       " '000877': '天山股份',\n",
       " '000878': '云南铜业',\n",
       " '000880': '潍柴重机',\n",
       " '000881': '中广核技',\n",
       " '000882': '华联股份',\n",
       " '000883': '湖北能源',\n",
       " '000885': '城发环境',\n",
       " '000886': '海南高速',\n",
       " '000887': '中鼎股份',\n",
       " '000888': '峨眉山A',\n",
       " '000889': '中嘉博创',\n",
       " '000890': '*ST 胜尔',\n",
       " '000892': '欢瑞世纪',\n",
       " '000893': '亚钾国际',\n",
       " '000895': '双汇发展',\n",
       " '000897': '津滨发展',\n",
       " '000898': '鞍钢股份',\n",
       " '000899': '赣能股份',\n",
       " '000900': '现代投资',\n",
       " '000901': '航天科技',\n",
       " '000902': '新洋丰',\n",
       " '000903': '云内动力',\n",
       " '000905': '厦门港务',\n",
       " '000906': '浙商中拓',\n",
       " '000908': '景峰医药',\n",
       " '000909': '数源科技',\n",
       " '000910': '大亚圣象',\n",
       " '000911': '南宁糖业',\n",
       " '000912': '泸天化',\n",
       " '000913': '钱江摩托',\n",
       " '000915': '山大华特',\n",
       " '000916': '华北高速',\n",
       " '000917': '电广传媒',\n",
       " '000918': '嘉凯城',\n",
       " '000919': '金陵药业',\n",
       " '000920': '南方汇通',\n",
       " '000921': '海信家电',\n",
       " '000922': '佳电股份',\n",
       " '000923': '河钢资源',\n",
       " '000925': '众合科技',\n",
       " '000926': '福星股份',\n",
       " '000927': '中国铁物',\n",
       " '000928': '中钢国际',\n",
       " '000929': '兰州黄河',\n",
       " '000930': '中粮科技',\n",
       " '000931': '中关村',\n",
       " '000932': '华菱钢铁',\n",
       " '000933': '神火股份',\n",
       " '000935': '四川双马',\n",
       " '000936': '华西股份',\n",
       " '000937': '冀中能源',\n",
       " '000938': '紫光股份',\n",
       " '000939': '凯迪退',\n",
       " '000948': '南天信息',\n",
       " '000949': '新乡化纤',\n",
       " '000950': '重药控股',\n",
       " '000951': '中国重汽',\n",
       " '000952': '广济药业',\n",
       " '000953': '*ST 河化',\n",
       " '000955': '欣龙控股',\n",
       " '000956': '中原油气',\n",
       " '000957': '中通客车',\n",
       " '000958': '东方能源',\n",
       " '000959': '首钢股份',\n",
       " '000960': '锡业股份',\n",
       " '000961': '中南建设',\n",
       " '000962': '东方钽业',\n",
       " '000963': '华东医药',\n",
       " '000965': '天保基建',\n",
       " '000966': '长源电力',\n",
       " '000967': '盈峰环境',\n",
       " '000968': '蓝焰控股',\n",
       " '000969': '安泰科技',\n",
       " '000970': '中科三环',\n",
       " '000971': '*ST 高升',\n",
       " '000972': 'ST 中基',\n",
       " '000973': '佛塑科技',\n",
       " '000975': '银泰黄金',\n",
       " '000976': '华铁股份',\n",
       " '000977': '浪潮信息',\n",
       " '000978': '桂林旅游',\n",
       " '000979': '中弘退',\n",
       " '000980': '*ST 众泰',\n",
       " '000981': '*ST 银亿',\n",
       " '000982': '*ST 中绒',\n",
       " '000983': '山西焦煤',\n",
       " '000985': '大庆华科',\n",
       " '000987': '越秀金控',\n",
       " '000988': '华工科技',\n",
       " '000989': '九芝堂',\n",
       " '000990': '诚志股份',\n",
       " '000993': '闽东电力',\n",
       " '000995': '皇台酒业',\n",
       " '000996': '中国中期',\n",
       " '000997': '新大陆',\n",
       " '000998': '隆平高科',\n",
       " '000999': '华润三九',\n",
       " '001696': '宗申动力',\n",
       " '001872': '招商港口',\n",
       " '001896': '豫能控股',\n",
       " '001914': '招商积余',\n",
       " '001965': '招商公路',\n",
       " '001979': '招商蛇口',\n",
       " '002001': '新和成',\n",
       " '002002': '鸿达兴业',\n",
       " '002003': '伟星股份',\n",
       " '002004': '华邦健康',\n",
       " '002005': 'ST 德豪',\n",
       " '002006': '精功科技',\n",
       " '002007': '华兰生物',\n",
       " '002008': '大族激光',\n",
       " '002009': '天奇股份',\n",
       " '002010': '传化智联',\n",
       " '002011': '盾安环境',\n",
       " '002012': '凯恩股份',\n",
       " '002013': '中航机电',\n",
       " '002014': '永新股份',\n",
       " '002015': '协鑫能科',\n",
       " '002016': '世荣兆业',\n",
       " '002017': '东信和平',\n",
       " '002018': '华信退',\n",
       " '002019': '亿帆医药',\n",
       " '002020': '京新药业',\n",
       " '002021': 'ST 中捷',\n",
       " '002022': '科华生物',\n",
       " '002023': '海特高新',\n",
       " '002024': '苏宁易购',\n",
       " '002025': '航天电器',\n",
       " '002026': '山东威达',\n",
       " '002027': '分众传媒',\n",
       " '002028': '思源电气',\n",
       " '002029': '七匹狼',\n",
       " '002030': '达安基因',\n",
       " '002031': '巨轮智能',\n",
       " '002032': '苏泊尔',\n",
       " '002033': '丽江股份',\n",
       " '002034': '旺能环境',\n",
       " '002035': '华帝股份',\n",
       " '002036': '联创电子',\n",
       " '002037': '保利联合',\n",
       " '002038': '双鹭药业',\n",
       " '002039': '黔源电力',\n",
       " '002040': '南京港',\n",
       " '002041': '登海种业',\n",
       " '002042': '华孚时尚',\n",
       " '002043': '兔宝宝',\n",
       " '002044': '美年健康',\n",
       " '002045': '国光电器',\n",
       " '002046': '国机精工',\n",
       " '002047': '宝鹰股份',\n",
       " '002048': '宁波华翔',\n",
       " '002049': '紫光国微',\n",
       " '002050': '三花智控',\n",
       " '002051': '中工国际',\n",
       " '002052': '*ST 同洲',\n",
       " '002053': '云南能投',\n",
       " '002054': '德美化工',\n",
       " '002055': '得润电子',\n",
       " '002056': '横店东磁',\n",
       " '002057': '中钢天源',\n",
       " '002058': '威尔泰',\n",
       " '002059': '云南旅游',\n",
       " '002060': '粤水电',\n",
       " '002061': '浙江交科',\n",
       " '002062': '宏润建设',\n",
       " '002063': '远光软件',\n",
       " '002064': '华峰化学',\n",
       " '002065': '东华软件',\n",
       " '002066': '瑞泰科技',\n",
       " '002067': '景兴纸业',\n",
       " '002068': '黑猫股份',\n",
       " '002069': '獐子岛',\n",
       " '002070': '众和退',\n",
       " '002071': '长城退',\n",
       " '002072': '*ST 凯瑞',\n",
       " '002073': '软控股份',\n",
       " '002074': '国轩高科',\n",
       " '002075': '沙钢股份',\n",
       " '002076': '*ST 雪莱',\n",
       " '002077': '*ST 大港',\n",
       " '002078': '太阳纸业',\n",
       " '002079': '苏州固锝',\n",
       " '002080': '中材科技',\n",
       " '002081': '金螳螂',\n",
       " '002082': '万邦德',\n",
       " '002083': '孚日股份',\n",
       " '002084': '海鸥住工',\n",
       " '002085': '万丰奥威',\n",
       " '002086': '*ST 东洋',\n",
       " '002087': '新野纺织',\n",
       " '002088': '鲁阳节能',\n",
       " '002089': 'ST 新海',\n",
       " '002090': '金智科技',\n",
       " '002091': '江苏国泰',\n",
       " '002092': '中泰化学',\n",
       " '002093': '国脉科技',\n",
       " '002094': '青岛金王',\n",
       " '002095': '生意宝',\n",
       " '002096': '南岭民爆',\n",
       " '002097': '山河智能',\n",
       " '002098': '浔兴股份',\n",
       " '002099': '海翔药业',\n",
       " '002100': '天康生物',\n",
       " '002101': '广东鸿图',\n",
       " '002102': 'ST 冠福',\n",
       " '002103': '广博股份',\n",
       " '002104': '恒宝股份',\n",
       " '002105': '信隆健康',\n",
       " '002106': '莱宝高科',\n",
       " '002107': '沃华医药',\n",
       " '002108': '沧州明珠',\n",
       " '002109': '兴化股份',\n",
       " '002110': '三钢闽光',\n",
       " '002111': '威海广泰',\n",
       " '002112': '三变科技',\n",
       " '002113': '*ST 天润',\n",
       " '002114': '罗平锌电',\n",
       " '002115': '三维通信',\n",
       " '002116': '中国海诚',\n",
       " '002117': '东港股份',\n",
       " '002118': '紫鑫药业',\n",
       " '002119': '康强电子',\n",
       " '002120': '韵达股份',\n",
       " '002121': '*ST 科陆',\n",
       " '002122': '*ST 天马',\n",
       " '002123': '梦网科技',\n",
       " '002124': '天邦股份',\n",
       " '002125': '湘潭电化',\n",
       " '002126': '银轮股份',\n",
       " '002127': '南极电商',\n",
       " '002128': '露天煤业',\n",
       " '002129': '中环股份',\n",
       " '002130': '沃尔核材',\n",
       " '002131': '利欧股份',\n",
       " '002132': '恒星科技',\n",
       " '002133': '广宇集团',\n",
       " '002134': '天津普林',\n",
       " '002135': '东南网架',\n",
       " '002136': '安纳达',\n",
       " '002137': '实益达',\n",
       " '002138': '顺络电子',\n",
       " '002139': '拓邦股份',\n",
       " '002140': '东华科技',\n",
       " '002141': '贤丰控股',\n",
       " '002142': '宁波银行',\n",
       " '002143': '印纪退',\n",
       " '002144': '宏达高科',\n",
       " '002145': '中核钛白',\n",
       " '002146': '荣盛发展',\n",
       " '002147': '*ST 新光',\n",
       " '002148': '北纬科技',\n",
       " '002149': '西部材料',\n",
       " '002150': '通润装备',\n",
       " '002151': '北斗星通',\n",
       " '002152': '广电运通',\n",
       " '002153': '石基信息',\n",
       " '002154': '报喜鸟',\n",
       " '002155': '湖南黄金',\n",
       " '002156': '通富微电',\n",
       " '002157': '正邦科技',\n",
       " '002158': '汉钟精机',\n",
       " '002159': '三特索道',\n",
       " '002160': '常铝股份',\n",
       " '002161': '远望谷',\n",
       " '002162': '悦心健康',\n",
       " '002163': '海南发展',\n",
       " '002164': '宁波东力',\n",
       " '002165': '红宝丽',\n",
       " '002166': '莱茵生物',\n",
       " '002167': '东方锆业',\n",
       " '002168': 'ST 惠程',\n",
       " '002169': '智光电气',\n",
       " '002170': '芭田股份',\n",
       " '002171': '楚江新材',\n",
       " '002172': '澳洋健康',\n",
       " '002173': '创新医疗',\n",
       " '002174': '游族网络',\n",
       " '002175': 'ST 东网',\n",
       " '002176': '*ST 江特',\n",
       " '002177': '御银股份',\n",
       " '002178': '延华智能',\n",
       " '002179': '中航光电',\n",
       " '002180': '纳思达',\n",
       " '002181': '粤传媒',\n",
       " '002182': '云海金属',\n",
       " '002183': '怡亚通',\n",
       " '002184': '海得控制',\n",
       " '002185': '华天科技',\n",
       " '002186': '全聚德',\n",
       " '002187': '广百股份',\n",
       " '002188': '*ST 巴士',\n",
       " '002189': '中光学',\n",
       " '002190': '成飞集成',\n",
       " '002191': '劲嘉股份',\n",
       " '002192': '融捷股份',\n",
       " '002193': '如意集团',\n",
       " '002194': '武汉凡谷',\n",
       " '002195': '二三四五',\n",
       " '002196': '方正电机',\n",
       " '002197': '证通电子',\n",
       " '002198': '嘉应制药',\n",
       " '002199': '东晶电子',\n",
       " '002200': 'ST 云投',\n",
       " '002201': '九鼎新材',\n",
       " '002202': '金风科技',\n",
       " '002203': '海亮股份',\n",
       " '002204': '大连重工',\n",
       " '002205': '国统股份',\n",
       " '002206': '海利得',\n",
       " '002207': '准油股份',\n",
       " '002208': '合肥城建',\n",
       " '002209': '达意隆',\n",
       " '002210': '*ST 飞马',\n",
       " '002211': '宏达新材',\n",
       " '002212': '天融信',\n",
       " '002213': '大为股份',\n",
       " '002214': '大立科技',\n",
       " '002215': '诺普信',\n",
       " '002216': '三全食品',\n",
       " '002217': '合力泰',\n",
       " '002218': '拓日新能',\n",
       " '002219': '*ST 恒康',\n",
       " '002220': '天宝退',\n",
       " '002221': '东华能源',\n",
       " '002222': '福晶科技',\n",
       " '002223': '鱼跃医疗',\n",
       " '002224': '三力士',\n",
       " '002225': '濮耐股份',\n",
       " '002226': '江南化工',\n",
       " '002227': '奥特迅',\n",
       " '002228': '合兴包装',\n",
       " '002229': '鸿博股份',\n",
       " '002230': '科大讯飞',\n",
       " '002231': '奥维通信',\n",
       " '002232': '启明信息',\n",
       " '002233': '塔牌集团',\n",
       " '002234': '民和股份',\n",
       " '002235': '安妮股份',\n",
       " '002236': '大华股份',\n",
       " '002237': '恒邦股份',\n",
       " '002238': '天威视讯',\n",
       " '002239': '奥特佳',\n",
       " '002240': '盛新锂能',\n",
       " '002241': '歌尔股份',\n",
       " '002242': '九阳股份',\n",
       " '002243': '力合科创',\n",
       " '002244': '滨江集团',\n",
       " '002245': '蔚蓝锂芯',\n",
       " '002246': '北化股份',\n",
       " '002247': '*ST 聚力',\n",
       " '002248': '华东数控',\n",
       " '002249': '大洋电机',\n",
       " '002250': '联化科技',\n",
       " '002251': '步步高',\n",
       " '002252': '上海莱士',\n",
       " '002253': '川大智胜',\n",
       " '002254': '泰和新材',\n",
       " '002255': '*ST 海陆',\n",
       " '002256': '*ST 兆新',\n",
       " '002258': '利尔化学',\n",
       " '002259': '*ST 升达',\n",
       " '002260': '*ST 德奥',\n",
       " '002261': '拓维信息',\n",
       " '002262': '恩华药业',\n",
       " '002263': '大东南',\n",
       " '002264': '新华都',\n",
       " '002265': '西仪股份',\n",
       " '002266': '浙富控股',\n",
       " '002267': '陕天然气',\n",
       " '002268': '卫士通',\n",
       " '002269': '美邦服饰',\n",
       " '002270': '华明装备',\n",
       " '002271': '东方雨虹',\n",
       " '002272': '川润股份',\n",
       " '002273': '水晶光电',\n",
       " '002274': '华昌化工',\n",
       " '002275': '桂林三金',\n",
       " '002276': '万马股份',\n",
       " '002277': '友阿股份',\n",
       " '002278': '神开股份',\n",
       " '002279': '久其软件',\n",
       " '002280': '*ST 联络',\n",
       " '002281': '光迅科技',\n",
       " '002282': '博深股份',\n",
       " '002283': '天润工业',\n",
       " '002284': '亚太股份',\n",
       " '002285': '世联行',\n",
       " '002286': '保龄宝',\n",
       " '002287': '奇正藏药',\n",
       " '002288': '超华科技',\n",
       " '002289': 'ST 宇顺',\n",
       " '002290': 'ST 禾盛',\n",
       " '002291': '星期六',\n",
       " '002292': '奥飞娱乐',\n",
       " '002293': '罗莱生活',\n",
       " '002294': '信立泰',\n",
       " '002295': '精艺股份',\n",
       " '002296': '辉煌科技',\n",
       " '002297': '博云新材',\n",
       " '002298': '中电兴发',\n",
       " '002299': '圣农发展',\n",
       " '002300': '太阳电缆',\n",
       " '002301': '齐心集团',\n",
       " '002302': '西部建设',\n",
       " '002303': '美盈森',\n",
       " '002304': '洋河股份',\n",
       " '002305': '南国置业',\n",
       " '002306': 'ST 云网',\n",
       " '002307': '北新路桥',\n",
       " '002308': '威创股份',\n",
       " '002309': '中利集团',\n",
       " '002310': '东方园林',\n",
       " '002311': '海大集团',\n",
       " '002312': '三泰控股',\n",
       " '002313': '日海智能',\n",
       " '002314': '南山控股',\n",
       " '002315': '焦点科技',\n",
       " '002316': '亚联发展',\n",
       " '002317': '众生药业',\n",
       " '002318': '久立特材',\n",
       " '002319': '乐通股份',\n",
       " '002320': '海峡股份',\n",
       " '002321': '华英农业',\n",
       " '002322': '理工环科',\n",
       " '002323': '*ST 雅博',\n",
       " '002324': '普利特',\n",
       " '002325': '洪涛股份',\n",
       " '002326': '永太科技',\n",
       " '002327': '富安娜',\n",
       " '002328': '新朋股份',\n",
       " '002329': '皇氏集团',\n",
       " '002330': '得利斯',\n",
       " '002331': '皖通科技',\n",
       " '002332': '仙琚制药',\n",
       " '002333': 'ST 罗普',\n",
       " '002334': '英威腾',\n",
       " '002335': '科华数据',\n",
       " '002336': 'ST 人乐',\n",
       " '002337': '赛象科技',\n",
       " '002338': '奥普光电',\n",
       " '002339': '积成电子',\n",
       " '002340': '格林美',\n",
       " '002341': '新纶科技',\n",
       " '002342': '巨力索具',\n",
       " '002343': '慈文传媒',\n",
       " '002344': '海宁皮城',\n",
       " '002345': '潮宏基',\n",
       " '002346': '柘中股份',\n",
       " '002347': '泰尔股份',\n",
       " '002348': '高乐股份',\n",
       " '002349': '精华制药',\n",
       " '002350': '北京科锐',\n",
       " '002351': '漫步者',\n",
       " '002352': '顺丰控股',\n",
       " '002353': '杰瑞股份',\n",
       " '002354': '*ST 天娱',\n",
       " '002355': '兴民智通',\n",
       " '002356': '*ST 赫美',\n",
       " '002357': '富临运业',\n",
       " '002358': '森源电气',\n",
       " '002359': '*ST 北讯',\n",
       " '002360': '同德化工',\n",
       " '002361': '神剑股份',\n",
       " '002362': '汉王科技',\n",
       " '002363': '隆基机械',\n",
       " '002364': '中恒电气',\n",
       " '002365': '永安药业',\n",
       " '002366': '台海核电',\n",
       " '002367': '康力电梯',\n",
       " '002368': '太极股份',\n",
       " '002369': '卓翼科技',\n",
       " '002370': '亚太药业',\n",
       " '002371': '北方华创',\n",
       " '002372': '伟星新材',\n",
       " '002373': '千方科技',\n",
       " '002374': '中锐股份',\n",
       " '002375': '亚厦股份',\n",
       " '002376': '新北洋',\n",
       " '002377': '国创高新',\n",
       " '002378': '章源钨业',\n",
       " '002379': '宏创控股',\n",
       " '002380': '科远智慧',\n",
       " '002381': '双箭股份',\n",
       " '002382': '蓝帆医疗',\n",
       " '002383': '合众思壮',\n",
       " '002384': '东山精密',\n",
       " '002385': '大北农',\n",
       " '002386': '天原股份',\n",
       " '002387': '维信诺',\n",
       " '002388': '新亚制程',\n",
       " '002389': '航天彩虹',\n",
       " '002390': '信邦制药',\n",
       " '002391': '长青股份',\n",
       " '002392': '北京利尔',\n",
       " '002393': '力生制药',\n",
       " '002394': '联发股份',\n",
       " '002395': '双象股份',\n",
       " '002396': '星网锐捷',\n",
       " '002397': '梦洁股份',\n",
       " '002398': '垒知集团',\n",
       " '002399': '海普瑞',\n",
       " '002400': '省广集团',\n",
       " '002401': '中远海科',\n",
       " '002402': '和而泰',\n",
       " '002403': '爱仕达',\n",
       " '002404': '嘉欣丝绸',\n",
       " '002405': '四维图新',\n",
       " '002406': '远东传动',\n",
       " '002407': '多氟多',\n",
       " '002408': '齐翔腾达',\n",
       " '002409': '雅克科技',\n",
       " '002410': '广联达',\n",
       " '002411': '延安必康',\n",
       " '002412': '汉森制药',\n",
       " '002413': '雷科防务',\n",
       " '002414': '高德红外',\n",
       " '002415': '海康威视',\n",
       " '002416': '爱施德',\n",
       " '002417': '深南股份',\n",
       " '002418': '*ST 康盛',\n",
       " '002419': '天虹股份',\n",
       " '002420': '毅昌股份',\n",
       " '002421': '达实智能',\n",
       " '002422': '科伦药业',\n",
       " '002423': '中粮资本',\n",
       " '002424': '贵州百灵',\n",
       " '002425': '凯撒文化',\n",
       " '002426': '*ST 胜利',\n",
       " '002427': 'ST 尤夫',\n",
       " '002428': '云南锗业',\n",
       " '002429': '兆驰股份',\n",
       " '002430': '杭氧股份',\n",
       " '002431': '棕榈股份',\n",
       " '002432': '九安医疗',\n",
       " '002433': '太安堂',\n",
       " '002434': '万里扬',\n",
       " '002435': '长江健康',\n",
       " '002436': '兴森科技',\n",
       " '002437': '誉衡药业',\n",
       " '002438': '江苏神通',\n",
       " '002439': '启明星辰',\n",
       " '002440': '闰土股份',\n",
       " '002441': '众业达',\n",
       " '002442': '龙星化工',\n",
       " '002443': '金洲管道',\n",
       " '002444': '巨星科技',\n",
       " '002445': '*ST 中南',\n",
       " '002446': '盛路通信',\n",
       " '002447': '*ST 晨鑫',\n",
       " '002448': '中原内配',\n",
       " '002449': '国星光电',\n",
       " '002450': '*ST 康得',\n",
       " '002451': '摩恩电气',\n",
       " '002452': '长高集团',\n",
       " '002453': '华软科技',\n",
       " '002454': '松芝股份',\n",
       " '002455': '百川股份',\n",
       " '002456': '欧菲光',\n",
       " '002457': '青龙管业',\n",
       " '002458': '益生股份',\n",
       " '002459': '晶澳科技',\n",
       " '002460': '赣锋锂业',\n",
       " '002461': '珠江啤酒',\n",
       " '002462': '嘉事堂',\n",
       " '002463': '沪电股份',\n",
       " '002464': '众应互联',\n",
       " '002465': '海格通信',\n",
       " '002466': '天齐锂业',\n",
       " '002467': '二六三',\n",
       " '002468': '申通快递',\n",
       " '002469': '三维工程',\n",
       " '002470': '*ST 金正',\n",
       " '002471': '中超控股',\n",
       " '002472': '双环传动',\n",
       " '002473': 'ST 圣莱',\n",
       " '002474': '榕基软件',\n",
       " '002475': '立讯精密',\n",
       " '002476': '宝莫股份',\n",
       " '002477': '雏鹰退',\n",
       " '002478': '常宝股份',\n",
       " '002479': '富春环保',\n",
       " '002480': '新筑股份',\n",
       " '002481': '双塔食品',\n",
       " '002482': '广田集团',\n",
       " '002483': '润邦股份',\n",
       " '002484': '江海股份',\n",
       " '002485': '希努尔',\n",
       " '002486': '嘉麟杰',\n",
       " '002487': '大金重工',\n",
       " '002488': '金固股份',\n",
       " '002489': '浙江永强',\n",
       " ...}"
      ]
     },
     "execution_count": 10,
     "metadata": {},
     "output_type": "execute_result"
    }
   ],
   "source": [
    "agu_dic = {}\n",
    "for i in range(4369):\n",
    "    agu.iloc[i, 1] = str(agu.iloc[i, 1]).zfill(6)\n",
    "    agu_dic[str(agu.iloc[i, 1])] = agu.iloc[i, 2]\n",
    "agu_dic"
   ]
  },
  {
   "cell_type": "code",
   "execution_count": 11,
   "metadata": {
    "ExecuteTime": {
     "end_time": "2021-04-19T07:20:57.757351Z",
     "start_time": "2021-04-19T07:20:57.738403Z"
    }
   },
   "outputs": [
    {
     "data": {
      "text/plain": [
       "['sw2_110100',\n",
       " 'sw2_110200',\n",
       " 'sw2_110300',\n",
       " 'sw2_110400',\n",
       " 'sw2_110500',\n",
       " 'sw2_110600',\n",
       " 'sw2_110700',\n",
       " 'sw2_110800',\n",
       " 'sw2_210100',\n",
       " 'sw2_210200',\n",
       " 'sw2_210300',\n",
       " 'sw2_210400',\n",
       " 'sw2_220100',\n",
       " 'sw2_220200',\n",
       " 'sw2_220300',\n",
       " 'sw2_220400',\n",
       " 'sw2_220500',\n",
       " 'sw2_220600',\n",
       " 'sw2_230100',\n",
       " 'sw2_240200',\n",
       " 'sw2_240300',\n",
       " 'sw2_240400',\n",
       " 'sw2_240500',\n",
       " 'sw2_270100',\n",
       " 'sw2_270200',\n",
       " 'sw2_270300',\n",
       " 'sw2_270400',\n",
       " 'sw2_270500',\n",
       " 'sw2_280100',\n",
       " 'sw2_280200',\n",
       " 'sw2_280300',\n",
       " 'sw2_280400',\n",
       " 'sw2_330100',\n",
       " 'sw2_330200',\n",
       " 'sw2_340300',\n",
       " 'sw2_340400',\n",
       " 'sw2_350100',\n",
       " 'sw2_350200',\n",
       " 'sw2_360100',\n",
       " 'sw2_360200',\n",
       " 'sw2_360300',\n",
       " 'sw2_360400',\n",
       " 'sw2_370100',\n",
       " 'sw2_370200',\n",
       " 'sw2_370300',\n",
       " 'sw2_370400',\n",
       " 'sw2_370500',\n",
       " 'sw2_370600',\n",
       " 'sw2_410100',\n",
       " 'sw2_410200',\n",
       " 'sw2_410300',\n",
       " 'sw2_410400',\n",
       " 'sw2_420100',\n",
       " 'sw2_420200',\n",
       " 'sw2_420300',\n",
       " 'sw2_420400',\n",
       " 'sw2_420500',\n",
       " 'sw2_420600',\n",
       " 'sw2_420700',\n",
       " 'sw2_420800',\n",
       " 'sw2_430100',\n",
       " 'sw2_430200',\n",
       " 'sw2_450200',\n",
       " 'sw2_450300',\n",
       " 'sw2_450400',\n",
       " 'sw2_450500',\n",
       " 'sw2_460100',\n",
       " 'sw2_460200',\n",
       " 'sw2_460300',\n",
       " 'sw2_460400',\n",
       " 'sw2_460500',\n",
       " 'sw2_480100',\n",
       " 'sw2_490100',\n",
       " 'sw2_490200',\n",
       " 'sw2_490300',\n",
       " 'sw2_510100',\n",
       " 'sw2_610100',\n",
       " 'sw2_610200',\n",
       " 'sw2_610300',\n",
       " 'sw2_620100',\n",
       " 'sw2_620200',\n",
       " 'sw2_620300',\n",
       " 'sw2_620400',\n",
       " 'sw2_620500',\n",
       " 'sw2_630100',\n",
       " 'sw2_630200',\n",
       " 'sw2_630300',\n",
       " 'sw2_630400',\n",
       " 'sw2_640100',\n",
       " 'sw2_640200',\n",
       " 'sw2_640300',\n",
       " 'sw2_640400',\n",
       " 'sw2_640500',\n",
       " 'sw2_650100',\n",
       " 'sw2_650200',\n",
       " 'sw2_650300',\n",
       " 'sw2_650400',\n",
       " 'sw2_710100',\n",
       " 'sw2_710200',\n",
       " 'sw2_720100',\n",
       " 'sw2_720200',\n",
       " 'sw2_720300',\n",
       " 'sw2_730100',\n",
       " 'sw2_730200']"
      ]
     },
     "execution_count": 11,
     "metadata": {},
     "output_type": "execute_result"
    }
   ],
   "source": [
    "code_ind = {}\n",
    "for i in range(104):\n",
    "    code_ind[]\n",
    "ind_code = list(ind_code['ind_code'])\n",
    "ind_code"
   ]
  },
  {
   "cell_type": "code",
   "execution_count": 12,
   "metadata": {
    "ExecuteTime": {
     "end_time": "2021-04-19T07:26:28.403906Z",
     "start_time": "2021-04-19T07:26:28.387946Z"
    }
   },
   "outputs": [
    {
     "data": {
      "text/plain": [
       "4369"
      ]
     },
     "execution_count": 12,
     "metadata": {},
     "output_type": "execute_result"
    }
   ],
   "source": [
    "len(agu)"
   ]
  },
  {
   "cell_type": "code",
   "execution_count": 23,
   "metadata": {
    "ExecuteTime": {
     "end_time": "2021-04-19T07:28:49.717926Z",
     "start_time": "2021-04-19T07:28:49.691994Z"
    }
   },
   "outputs": [
    {
     "data": {
      "text/plain": [
       "'sw2_450400'"
      ]
     },
     "execution_count": 23,
     "metadata": {},
     "output_type": "execute_result"
    }
   ],
   "source": [
    "ind_code = pd.read_csv('C:/Users/12968/Desktop/数据科学实战-stock prediction/数据/industry_code.csv')\n",
    "list(ind_code[ind_code['industry']=='专业零售']['ind_code'])[0]"
   ]
  },
  {
   "cell_type": "code",
   "execution_count": 24,
   "metadata": {
    "ExecuteTime": {
     "end_time": "2021-04-19T07:28:51.962110Z",
     "start_time": "2021-04-19T07:28:51.692831Z"
    }
   },
   "outputs": [],
   "source": [
    "agu = pd.read_excel('C:/Users/12968/Desktop/数据科学实战-stock prediction/数据/全部A股代码名字和行业.xlsx')"
   ]
  },
  {
   "cell_type": "code",
   "execution_count": 29,
   "metadata": {
    "ExecuteTime": {
     "end_time": "2021-04-19T07:31:02.710278Z",
     "start_time": "2021-04-19T07:31:00.733905Z"
    }
   },
   "outputs": [
    {
     "data": {
      "text/plain": [
       "'平安银行'"
      ]
     },
     "execution_count": 29,
     "metadata": {},
     "output_type": "execute_result"
    }
   ],
   "source": [
    "agu\n",
    "for i in range(len(agu)):\n",
    "    agu.iloc[i, 1] = str(agu.iloc[i, 1]).zfill(6)\n",
    "list(agu[agu['Stkcd']=='000001']['Stknme'])[0]"
   ]
  },
  {
   "cell_type": "code",
   "execution_count": 1,
   "metadata": {
    "ExecuteTime": {
     "end_time": "2021-04-19T12:45:03.244371Z",
     "start_time": "2021-04-19T12:45:01.468698Z"
    }
   },
   "outputs": [],
   "source": [
    "import requests\n",
    "from lxml import etree\n",
    "from lxml import html\n",
    "url = 'http://stock.finance.sina.com.cn/stock/go.php/vReport_List/kind/search/index.phtml?t1=3&industry=sw2_110100&symbol=&pubdate=2021-04-18'\n",
    "data = requests.get(url).text\n",
    "s=etree.HTML(data)"
   ]
  },
  {
   "cell_type": "code",
   "execution_count": 9,
   "metadata": {
    "ExecuteTime": {
     "end_time": "2021-04-19T12:46:44.038155Z",
     "start_time": "2021-04-19T12:46:44.025192Z"
    }
   },
   "outputs": [
    {
     "data": {
      "text/plain": [
       "[<Element table at 0x29082790908>]"
      ]
     },
     "execution_count": 9,
     "metadata": {},
     "output_type": "execute_result"
    }
   ],
   "source": [
    "s.xpath(\"/html/body/div/div[3]/table\")"
   ]
  },
  {
   "cell_type": "code",
   "execution_count": 11,
   "metadata": {
    "ExecuteTime": {
     "end_time": "2021-04-19T12:49:10.957839Z",
     "start_time": "2021-04-19T12:49:07.224741Z"
    }
   },
   "outputs": [],
   "source": [
    "import pandas as pd\n",
    "for table in pd.read_html(url):\n",
    "    table.to_csv(\"C:/Users/12968/Desktop/数据科学实战-stock prediction/table.csv\", mode='a',encoding='utf-8',header=0,index=False)\n"
   ]
  },
  {
   "cell_type": "code",
   "execution_count": 25,
   "metadata": {
    "ExecuteTime": {
     "end_time": "2021-04-19T13:01:00.270147Z",
     "start_time": "2021-04-19T13:00:59.838276Z"
    }
   },
   "outputs": [
    {
     "data": {
      "text/html": [
       "<div>\n",
       "<style scoped>\n",
       "    .dataframe tbody tr th:only-of-type {\n",
       "        vertical-align: middle;\n",
       "    }\n",
       "\n",
       "    .dataframe tbody tr th {\n",
       "        vertical-align: top;\n",
       "    }\n",
       "\n",
       "    .dataframe thead th {\n",
       "        text-align: right;\n",
       "    }\n",
       "</style>\n",
       "<table border=\"1\" class=\"dataframe\">\n",
       "  <thead>\n",
       "    <tr style=\"text-align: right;\">\n",
       "      <th></th>\n",
       "      <th>序号</th>\n",
       "      <th>标题</th>\n",
       "      <th>报告类型</th>\n",
       "      <th>发布日期</th>\n",
       "      <th>机构</th>\n",
       "      <th>研究员</th>\n",
       "    </tr>\n",
       "  </thead>\n",
       "  <tbody>\n",
       "    <tr>\n",
       "      <td>0</td>\n",
       "      <td>NaN</td>\n",
       "      <td>NaN</td>\n",
       "      <td>NaN</td>\n",
       "      <td>NaN</td>\n",
       "      <td>NaN</td>\n",
       "      <td>NaN</td>\n",
       "    </tr>\n",
       "    <tr>\n",
       "      <td>1</td>\n",
       "      <td>1.0</td>\n",
       "      <td>北大荒(600598)：稳步增长 未来或延伸下游打造产业链</td>\n",
       "      <td>公司</td>\n",
       "      <td>2021-03-30</td>\n",
       "      <td>西南证券股份有限公司</td>\n",
       "      <td>徐卿</td>\n",
       "    </tr>\n",
       "    <tr>\n",
       "      <td>2</td>\n",
       "      <td>2.0</td>\n",
       "      <td>种植行业点评报告：“新疆棉遭抵制事件”点评</td>\n",
       "      <td>行业</td>\n",
       "      <td>2021-03-30</td>\n",
       "      <td>中泰证券股份有限公司</td>\n",
       "      <td>范劲松</td>\n",
       "    </tr>\n",
       "    <tr>\n",
       "      <td>3</td>\n",
       "      <td>3.0</td>\n",
       "      <td>北大荒(600598)：当季费用支出拖累业绩 主业稳健增长</td>\n",
       "      <td>公司</td>\n",
       "      <td>2021-03-30</td>\n",
       "      <td>中国国际金融股份有限公司</td>\n",
       "      <td>孙扬</td>\n",
       "    </tr>\n",
       "  </tbody>\n",
       "</table>\n",
       "</div>"
      ],
      "text/plain": [
       "    序号                             标题 报告类型        发布日期            机构  研究员\n",
       "0  NaN                            NaN  NaN         NaN           NaN  NaN\n",
       "1  1.0  北大荒(600598)：稳步增长 未来或延伸下游打造产业链   公司  2021-03-30    西南证券股份有限公司   徐卿\n",
       "2  2.0          种植行业点评报告：“新疆棉遭抵制事件”点评   行业  2021-03-30    中泰证券股份有限公司  范劲松\n",
       "3  3.0  北大荒(600598)：当季费用支出拖累业绩 主业稳健增长   公司  2021-03-30  中国国际金融股份有限公司   孙扬"
      ]
     },
     "execution_count": 25,
     "metadata": {},
     "output_type": "execute_result"
    }
   ],
   "source": [
    "import pandas as pd\n",
    "url = 'http://stock.finance.sina.com.cn/stock/go.php/vReport_List/kind/search/index.phtml?t1=3&industry=sw2_110100&symbol=&pubdate=2021-04-19&p=7'\n",
    "table = pd.read_html(url)[0]\n",
    "table"
   ]
  },
  {
   "cell_type": "code",
   "execution_count": 27,
   "metadata": {
    "ExecuteTime": {
     "end_time": "2021-04-19T13:32:57.868569Z",
     "start_time": "2021-04-19T13:32:57.847629Z"
    }
   },
   "outputs": [
    {
     "data": {
      "text/plain": [
       "True"
      ]
     },
     "execution_count": 27,
     "metadata": {},
     "output_type": "execute_result"
    }
   ],
   "source": [
    "cate = '公司'\n",
    "li = ['公司','板块']\n",
    "cate in li"
   ]
  },
  {
   "cell_type": "code",
   "execution_count": 31,
   "metadata": {
    "ExecuteTime": {
     "end_time": "2021-04-19T13:36:03.319075Z",
     "start_time": "2021-04-19T13:36:03.298100Z"
    }
   },
   "outputs": [
    {
     "name": "stdout",
     "output_type": "stream",
     "text": [
      "1\n"
     ]
    },
    {
     "data": {
      "text/plain": [
       "True"
      ]
     },
     "execution_count": 31,
     "metadata": {},
     "output_type": "execute_result"
    }
   ],
   "source": [
    "class Iitem():\n",
    "    def __init__(self):\n",
    "        print(1)\n",
    "\n",
    "item = Iitem()\n",
    "type(item) == Iitem"
   ]
  },
  {
   "cell_type": "code",
   "execution_count": 36,
   "metadata": {
    "ExecuteTime": {
     "end_time": "2021-04-19T13:40:27.592819Z",
     "start_time": "2021-04-19T13:40:27.587829Z"
    }
   },
   "outputs": [
    {
     "data": {
      "text/plain": [
       "'600598'"
      ]
     },
     "execution_count": 36,
     "metadata": {},
     "output_type": "execute_result"
    }
   ],
   "source": [
    "st = '北大荒(600598)：稳步增长 未来或延伸下游打造产业链'\n",
    "st.split('(')[0]\n",
    "st.split('(')[1].split(')')[0]"
   ]
  },
  {
   "cell_type": "code",
   "execution_count": 22,
   "metadata": {
    "ExecuteTime": {
     "end_time": "2021-04-19T14:23:05.409427Z",
     "start_time": "2021-04-19T14:23:05.389477Z"
    }
   },
   "outputs": [
    {
     "data": {
      "text/plain": [
       "'http://stock.finance.sina.com.cn/stock/go.php/vReport_List/kind/search/index.phtml?t13&industrysw2_110100&symbol&pubdate2021-04-19&p'"
      ]
     },
     "execution_count": 22,
     "metadata": {},
     "output_type": "execute_result"
    }
   ],
   "source": [
    "st = 'http://stock.finance.sina.com.cn/stock/go.php/vReport_List/kind/search/index.phtml?t1=3&industry=sw2_110100&symbol=&pubdate=2021-04-19&p=7'\n",
    "''.join(st.split('=')[:-1])"
   ]
  },
  {
   "cell_type": "code",
   "execution_count": 37,
   "metadata": {
    "ExecuteTime": {
     "end_time": "2021-04-19T14:44:22.500672Z",
     "start_time": "2021-04-19T14:44:22.277270Z"
    }
   },
   "outputs": [
    {
     "data": {
      "text/plain": [
       "'949'"
      ]
     },
     "execution_count": 37,
     "metadata": {},
     "output_type": "execute_result"
    }
   ],
   "source": [
    "import requests\n",
    "from lxml import etree\n",
    "from lxml import html\n",
    "url = 'http://stock.finance.sina.com.cn/stock/go.php/vReport_List/kind/search/index.phtml?t1=3&industry=sw2_110100&symbol=&pubdate=2021-04-19&p=1'\n",
    "data = requests.get(url).text\n",
    "s=etree.HTML(data)\n",
    "s.xpath(\"/html/body/div/div[3]/div/table/tr/td/div/span[10]/a/@onclick\")[0].split(\"'\")[1]"
   ]
  },
  {
   "cell_type": "code",
   "execution_count": null,
   "metadata": {},
   "outputs": [],
   "source": []
  },
  {
   "cell_type": "code",
   "execution_count": null,
   "metadata": {},
   "outputs": [],
   "source": []
  },
  {
   "cell_type": "code",
   "execution_count": null,
   "metadata": {},
   "outputs": [],
   "source": []
  },
  {
   "cell_type": "code",
   "execution_count": null,
   "metadata": {},
   "outputs": [],
   "source": []
  },
  {
   "cell_type": "code",
   "execution_count": null,
   "metadata": {},
   "outputs": [],
   "source": []
  },
  {
   "cell_type": "code",
   "execution_count": null,
   "metadata": {},
   "outputs": [],
   "source": []
  },
  {
   "cell_type": "code",
   "execution_count": null,
   "metadata": {},
   "outputs": [],
   "source": []
  },
  {
   "cell_type": "code",
   "execution_count": null,
   "metadata": {},
   "outputs": [],
   "source": []
  },
  {
   "cell_type": "code",
   "execution_count": null,
   "metadata": {},
   "outputs": [],
   "source": []
  },
  {
   "cell_type": "code",
   "execution_count": null,
   "metadata": {},
   "outputs": [],
   "source": []
  },
  {
   "cell_type": "code",
   "execution_count": null,
   "metadata": {},
   "outputs": [],
   "source": []
  },
  {
   "cell_type": "code",
   "execution_count": null,
   "metadata": {},
   "outputs": [],
   "source": []
  },
  {
   "cell_type": "code",
   "execution_count": null,
   "metadata": {},
   "outputs": [],
   "source": []
  },
  {
   "cell_type": "code",
   "execution_count": null,
   "metadata": {},
   "outputs": [],
   "source": []
  },
  {
   "cell_type": "code",
   "execution_count": null,
   "metadata": {},
   "outputs": [],
   "source": []
  },
  {
   "cell_type": "code",
   "execution_count": null,
   "metadata": {},
   "outputs": [],
   "source": []
  },
  {
   "cell_type": "code",
   "execution_count": null,
   "metadata": {},
   "outputs": [],
   "source": []
  },
  {
   "cell_type": "code",
   "execution_count": null,
   "metadata": {},
   "outputs": [],
   "source": []
  },
  {
   "cell_type": "code",
   "execution_count": 18,
   "metadata": {
    "ExecuteTime": {
     "end_time": "2021-04-19T14:15:49.845530Z",
     "start_time": "2021-04-19T14:15:49.492375Z"
    }
   },
   "outputs": [
    {
     "data": {
      "text/plain": [
       "'949'"
      ]
     },
     "execution_count": 18,
     "metadata": {},
     "output_type": "execute_result"
    }
   ],
   "source": [
    "import requests\n",
    "from lxml import etree\n",
    "from lxml import html\n",
    "url = 'http://stock.finance.sina.com.cn/stock/go.php/vReport_List/kind/search/index.phtml?t1=3&industry=sw2_110100&symbol=&pubdate=2021-04-18'\n",
    "data = requests.get(url).text\n",
    "s=etree.HTML(data)\n",
    "s.xpath(\"/html/body/div/div[3]/div/table/tr/td/div/span[10]/a/@onclick\")[0].split(\"'\")[1]"
   ]
  },
  {
   "cell_type": "code",
   "execution_count": 5,
   "metadata": {
    "ExecuteTime": {
     "end_time": "2021-04-20T07:19:05.183103Z",
     "start_time": "2021-04-20T07:19:04.435104Z"
    }
   },
   "outputs": [
    {
     "ename": "AttributeError",
     "evalue": "'list' object has no attribute 'extract'",
     "traceback": [
      "\u001b[1;31m---------------------------------------------------------------------------\u001b[0m",
      "\u001b[1;31mAttributeError\u001b[0m                            Traceback (most recent call last)",
      "\u001b[1;32m<ipython-input-5-b1f186abd233>\u001b[0m in \u001b[0;36m<module>\u001b[1;34m\u001b[0m\n\u001b[0;32m      5\u001b[0m \u001b[0mdata\u001b[0m \u001b[1;33m=\u001b[0m \u001b[0mrequests\u001b[0m\u001b[1;33m.\u001b[0m\u001b[0mget\u001b[0m\u001b[1;33m(\u001b[0m\u001b[0murl\u001b[0m\u001b[1;33m)\u001b[0m\u001b[1;33m.\u001b[0m\u001b[0mtext\u001b[0m\u001b[1;33m\u001b[0m\u001b[1;33m\u001b[0m\u001b[0m\n\u001b[0;32m      6\u001b[0m \u001b[0ms\u001b[0m\u001b[1;33m=\u001b[0m\u001b[0metree\u001b[0m\u001b[1;33m.\u001b[0m\u001b[0mHTML\u001b[0m\u001b[1;33m(\u001b[0m\u001b[0mdata\u001b[0m\u001b[1;33m)\u001b[0m\u001b[1;33m\u001b[0m\u001b[1;33m\u001b[0m\u001b[0m\n\u001b[1;32m----> 7\u001b[1;33m \u001b[0ms\u001b[0m\u001b[1;33m.\u001b[0m\u001b[0mxpath\u001b[0m\u001b[1;33m(\u001b[0m\u001b[1;34m'/html/body/div/div[3]/div[1]/div/div/div[2]/p//text()'\u001b[0m\u001b[1;33m)\u001b[0m\u001b[1;33m.\u001b[0m\u001b[0mextract\u001b[0m\u001b[1;33m(\u001b[0m\u001b[1;33m)\u001b[0m\u001b[1;33m\u001b[0m\u001b[1;33m\u001b[0m\u001b[0m\n\u001b[0m",
      "\u001b[1;31mAttributeError\u001b[0m: 'list' object has no attribute 'extract'"
     ],
     "output_type": "error"
    }
   ],
   "source": [
    "import requests\n",
    "from lxml import etree\n",
    "from lxml import html\n",
    "url = 'http://stock.finance.sina.com.cn/stock/go.php/vReport_Show/kind/search/rptid/597768670680/index.phtml'\n",
    "data = requests.get(url).text\n",
    "s=etree.HTML(data)\n",
    "s.xpath('/html/body/div/div[3]/div[1]/div/div/div[2]/p//text()')"
   ]
  },
  {
   "cell_type": "code",
   "execution_count": 12,
   "metadata": {
    "ExecuteTime": {
     "end_time": "2021-04-20T08:01:49.148929Z",
     "start_time": "2021-04-20T08:01:49.141950Z"
    }
   },
   "outputs": [
    {
     "data": {
      "text/plain": [
       "<re.Match object; span=(0, 39), match='国联水产(300094)公司研究：全产业链布局优势明显 水产消费品龙头持续扩张'>"
      ]
     },
     "execution_count": 12,
     "metadata": {},
     "output_type": "execute_result"
    }
   ],
   "source": [
    "import re\n",
    "string = '国联水产(300094)公司研究：全产业链布局优势明显 水产消费品龙头持续扩张'\n",
    "reg = '.{1,6}\\(\\d{6}\\).{1,}'\n",
    "re.match(reg,string)"
   ]
  },
  {
   "cell_type": "code",
   "execution_count": null,
   "metadata": {},
   "outputs": [],
   "source": []
  },
  {
   "cell_type": "code",
   "execution_count": null,
   "metadata": {},
   "outputs": [],
   "source": []
  },
  {
   "cell_type": "code",
   "execution_count": null,
   "metadata": {},
   "outputs": [],
   "source": []
  },
  {
   "cell_type": "code",
   "execution_count": null,
   "metadata": {},
   "outputs": [],
   "source": []
  },
  {
   "cell_type": "code",
   "execution_count": 15,
   "metadata": {
    "ExecuteTime": {
     "end_time": "2021-05-01T14:03:36.190628Z",
     "start_time": "2021-05-01T14:03:36.175669Z"
    }
   },
   "outputs": [],
   "source": [
    " urls = ['http://stock.finance.sina.com.cn/stock/go.php/vReport_List/kind/search/index.phtml?t1=3&industry=sw2_110100&symbol=&pubdate=2021-04-30&p=940',\n",
    " 'http://stock.finance.sina.com.cn/stock/go.php/vReport_List/kind/search/index.phtml?t1=3&industry=sw2_110200&symbol=&pubdate=2021-04-30&p=23',\n",
    " 'http://stock.finance.sina.com.cn/stock/go.php/vReport_List/kind/search/index.phtml?t1=3&industry=sw2_110300&symbol=&pubdate=2021-04-30&p=10',\n",
    " 'http://stock.finance.sina.com.cn/stock/go.php/vReport_List/kind/search/index.phtml?t1=3&industry=sw2_110400&symbol=&pubdate=2021-04-30&p=100',\n",
    " 'http://stock.finance.sina.com.cn/stock/go.php/vReport_List/kind/search/index.phtml?t1=3&industry=sw2_110500&symbol=&pubdate=2021-04-30&p=660','http://stock.finance.sina.com.cn/stock/go.php/vReport_List/kind/search/index.phtml?t1=3&industry=sw2_110600&symbol=&pubdate=2021-04-30&p=1',\n",
    " 'http://stock.finance.sina.com.cn/stock/go.php/vReport_List/kind/search/index.phtml?t1=3&industry=sw2_110700&symbol=&pubdate=2021-04-30&p=1',\n",
    " 'http://stock.finance.sina.com.cn/stock/go.php/vReport_List/kind/search/index.phtml?t1=3&industry=sw2_110800&symbol=&pubdate=2021-04-30&p=1',\n",
    " 'http://stock.finance.sina.com.cn/stock/go.php/vReport_List/kind/search/index.phtml?t1=3&industry=sw2_210100&symbol=&pubdate=2021-04-30&p=1',\n",
    " 'http://stock.finance.sina.com.cn/stock/go.php/vReport_List/kind/search/index.phtml?t1=3&industry=sw2_210200&symbol=&pubdate=2021-04-30&p=1',\n",
    " 'http://stock.finance.sina.com.cn/stock/go.php/vReport_List/kind/search/index.phtml?t1=3&industry=sw2_210300&symbol=&pubdate=2021-04-30&p=1',\n",
    " 'http://stock.finance.sina.com.cn/stock/go.php/vReport_List/kind/search/index.phtml?t1=3&industry=sw2_210400&symbol=&pubdate=2021-04-30&p=1',\n",
    " 'http://stock.finance.sina.com.cn/stock/go.php/vReport_List/kind/search/index.phtml?t1=3&industry=sw2_220100&symbol=&pubdate=2021-04-30&p=1',\n",
    " 'http://stock.finance.sina.com.cn/stock/go.php/vReport_List/kind/search/index.phtml?t1=3&industry=sw2_220200&symbol=&pubdate=2021-04-30&p=1',\n",
    " 'http://stock.finance.sina.com.cn/stock/go.php/vReport_List/kind/search/index.phtml?t1=3&industry=sw2_220300&symbol=&pubdate=2021-04-30&p=1',\n",
    " 'http://stock.finance.sina.com.cn/stock/go.php/vReport_List/kind/search/index.phtml?t1=3&industry=sw2_220400&symbol=&pubdate=2021-04-30&p=1',\n",
    " 'http://stock.finance.sina.com.cn/stock/go.php/vReport_List/kind/search/index.phtml?t1=3&industry=sw2_220500&symbol=&pubdate=2021-04-30&p=1',\n",
    " 'http://stock.finance.sina.com.cn/stock/go.php/vReport_List/kind/search/index.phtml?t1=3&industry=sw2_220600&symbol=&pubdate=2021-04-30&p=1',\n",
    " 'http://stock.finance.sina.com.cn/stock/go.php/vReport_List/kind/search/index.phtml?t1=3&industry=sw2_230100&symbol=&pubdate=2021-04-30&p=1',\n",
    " 'http://stock.finance.sina.com.cn/stock/go.php/vReport_List/kind/search/index.phtml?t1=3&industry=sw2_240200&symbol=&pubdate=2021-04-30&p=1',\n",
    " 'http://stock.finance.sina.com.cn/stock/go.php/vReport_List/kind/search/index.phtml?t1=3&industry=sw2_240300&symbol=&pubdate=2021-04-30&p=1',\n",
    " 'http://stock.finance.sina.com.cn/stock/go.php/vReport_List/kind/search/index.phtml?t1=3&industry=sw2_240400&symbol=&pubdate=2021-04-30&p=1',\n",
    " 'http://stock.finance.sina.com.cn/stock/go.php/vReport_List/kind/search/index.phtml?t1=3&industry=sw2_240500&symbol=&pubdate=2021-04-30&p=1',\n",
    " 'http://stock.finance.sina.com.cn/stock/go.php/vReport_List/kind/search/index.phtml?t1=3&industry=sw2_270100&symbol=&pubdate=2021-04-30&p=1',\n",
    " 'http://stock.finance.sina.com.cn/stock/go.php/vReport_List/kind/search/index.phtml?t1=3&industry=sw2_270200&symbol=&pubdate=2021-04-30&p=1',\n",
    " 'http://stock.finance.sina.com.cn/stock/go.php/vReport_List/kind/search/index.phtml?t1=3&industry=sw2_270300&symbol=&pubdate=2021-04-30&p=1',\n",
    " 'http://stock.finance.sina.com.cn/stock/go.php/vReport_List/kind/search/index.phtml?t1=3&industry=sw2_270400&symbol=&pubdate=2021-04-30&p=1',\n",
    " 'http://stock.finance.sina.com.cn/stock/go.php/vReport_List/kind/search/index.phtml?t1=3&industry=sw2_270500&symbol=&pubdate=2021-04-30&p=1',\n",
    " 'http://stock.finance.sina.com.cn/stock/go.php/vReport_List/kind/search/index.phtml?t1=3&industry=sw2_280100&symbol=&pubdate=2021-04-30&p=1',\n",
    " 'http://stock.finance.sina.com.cn/stock/go.php/vReport_List/kind/search/index.phtml?t1=3&industry=sw2_280200&symbol=&pubdate=2021-04-30&p=1',\n",
    " 'http://stock.finance.sina.com.cn/stock/go.php/vReport_List/kind/search/index.phtml?t1=3&industry=sw2_280300&symbol=&pubdate=2021-04-30&p=1',\n",
    " 'http://stock.finance.sina.com.cn/stock/go.php/vReport_List/kind/search/index.phtml?t1=3&industry=sw2_280400&symbol=&pubdate=2021-04-30&p=1',\n",
    " 'http://stock.finance.sina.com.cn/stock/go.php/vReport_List/kind/search/index.phtml?t1=3&industry=sw2_330100&symbol=&pubdate=2021-04-30&p=1',\n",
    " 'http://stock.finance.sina.com.cn/stock/go.php/vReport_List/kind/search/index.phtml?t1=3&industry=sw2_330200&symbol=&pubdate=2021-04-30&p=1',\n",
    " 'http://stock.finance.sina.com.cn/stock/go.php/vReport_List/kind/search/index.phtml?t1=3&industry=sw2_340300&symbol=&pubdate=2021-04-30&p=1',\n",
    " 'http://stock.finance.sina.com.cn/stock/go.php/vReport_List/kind/search/index.phtml?t1=3&industry=sw2_340400&symbol=&pubdate=2021-04-30&p=1',\n",
    " 'http://stock.finance.sina.com.cn/stock/go.php/vReport_List/kind/search/index.phtml?t1=3&industry=sw2_350100&symbol=&pubdate=2021-04-30&p=1',\n",
    " 'http://stock.finance.sina.com.cn/stock/go.php/vReport_List/kind/search/index.phtml?t1=3&industry=sw2_350200&symbol=&pubdate=2021-04-30&p=1',\n",
    " 'http://stock.finance.sina.com.cn/stock/go.php/vReport_List/kind/search/index.phtml?t1=3&industry=sw2_360100&symbol=&pubdate=2021-04-30&p=1',\n",
    " 'http://stock.finance.sina.com.cn/stock/go.php/vReport_List/kind/search/index.phtml?t1=3&industry=sw2_360200&symbol=&pubdate=2021-04-30&p=1',\n",
    " 'http://stock.finance.sina.com.cn/stock/go.php/vReport_List/kind/search/index.phtml?t1=3&industry=sw2_360300&symbol=&pubdate=2021-04-30&p=1',\n",
    " 'http://stock.finance.sina.com.cn/stock/go.php/vReport_List/kind/search/index.phtml?t1=3&industry=sw2_360400&symbol=&pubdate=2021-04-30&p=1',\n",
    " 'http://stock.finance.sina.com.cn/stock/go.php/vReport_List/kind/search/index.phtml?t1=3&industry=sw2_370100&symbol=&pubdate=2021-04-30&p=1',\n",
    " 'http://stock.finance.sina.com.cn/stock/go.php/vReport_List/kind/search/index.phtml?t1=3&industry=sw2_370200&symbol=&pubdate=2021-04-30&p=1',\n",
    " 'http://stock.finance.sina.com.cn/stock/go.php/vReport_List/kind/search/index.phtml?t1=3&industry=sw2_370300&symbol=&pubdate=2021-04-30&p=1',\n",
    " 'http://stock.finance.sina.com.cn/stock/go.php/vReport_List/kind/search/index.phtml?t1=3&industry=sw2_370400&symbol=&pubdate=2021-04-30&p=1',\n",
    " 'http://stock.finance.sina.com.cn/stock/go.php/vReport_List/kind/search/index.phtml?t1=3&industry=sw2_370500&symbol=&pubdate=2021-04-30&p=1',\n",
    " 'http://stock.finance.sina.com.cn/stock/go.php/vReport_List/kind/search/index.phtml?t1=3&industry=sw2_370600&symbol=&pubdate=2021-04-30&p=1',\n",
    " 'http://stock.finance.sina.com.cn/stock/go.php/vReport_List/kind/search/index.phtml?t1=3&industry=sw2_410100&symbol=&pubdate=2021-04-30&p=1',\n",
    " 'http://stock.finance.sina.com.cn/stock/go.php/vReport_List/kind/search/index.phtml?t1=3&industry=sw2_410200&symbol=&pubdate=2021-04-30&p=1',\n",
    " 'http://stock.finance.sina.com.cn/stock/go.php/vReport_List/kind/search/index.phtml?t1=3&industry=sw2_410300&symbol=&pubdate=2021-04-30&p=1',\n",
    " 'http://stock.finance.sina.com.cn/stock/go.php/vReport_List/kind/search/index.phtml?t1=3&industry=sw2_410400&symbol=&pubdate=2021-04-30&p=1',\n",
    " 'http://stock.finance.sina.com.cn/stock/go.php/vReport_List/kind/search/index.phtml?t1=3&industry=sw2_420100&symbol=&pubdate=2021-04-30&p=1',\n",
    " 'http://stock.finance.sina.com.cn/stock/go.php/vReport_List/kind/search/index.phtml?t1=3&industry=sw2_420200&symbol=&pubdate=2021-04-30&p=1',\n",
    " 'http://stock.finance.sina.com.cn/stock/go.php/vReport_List/kind/search/index.phtml?t1=3&industry=sw2_420300&symbol=&pubdate=2021-04-30&p=1',\n",
    " 'http://stock.finance.sina.com.cn/stock/go.php/vReport_List/kind/search/index.phtml?t1=3&industry=sw2_420400&symbol=&pubdate=2021-04-30&p=1',\n",
    " 'http://stock.finance.sina.com.cn/stock/go.php/vReport_List/kind/search/index.phtml?t1=3&industry=sw2_420500&symbol=&pubdate=2021-04-30&p=1',\n",
    " 'http://stock.finance.sina.com.cn/stock/go.php/vReport_List/kind/search/index.phtml?t1=3&industry=sw2_420600&symbol=&pubdate=2021-04-30&p=1',\n",
    " 'http://stock.finance.sina.com.cn/stock/go.php/vReport_List/kind/search/index.phtml?t1=3&industry=sw2_420700&symbol=&pubdate=2021-04-30&p=1',\n",
    " 'http://stock.finance.sina.com.cn/stock/go.php/vReport_List/kind/search/index.phtml?t1=3&industry=sw2_420800&symbol=&pubdate=2021-04-30&p=1',\n",
    " 'http://stock.finance.sina.com.cn/stock/go.php/vReport_List/kind/search/index.phtml?t1=3&industry=sw2_430100&symbol=&pubdate=2021-04-30&p=1',\n",
    " 'http://stock.finance.sina.com.cn/stock/go.php/vReport_List/kind/search/index.phtml?t1=3&industry=sw2_430200&symbol=&pubdate=2021-04-30&p=1',\n",
    " 'http://stock.finance.sina.com.cn/stock/go.php/vReport_List/kind/search/index.phtml?t1=3&industry=sw2_450200&symbol=&pubdate=2021-04-30&p=1',\n",
    " 'http://stock.finance.sina.com.cn/stock/go.php/vReport_List/kind/search/index.phtml?t1=3&industry=sw2_450300&symbol=&pubdate=2021-04-30&p=1',\n",
    " 'http://stock.finance.sina.com.cn/stock/go.php/vReport_List/kind/search/index.phtml?t1=3&industry=sw2_450400&symbol=&pubdate=2021-04-30&p=1',\n",
    " 'http://stock.finance.sina.com.cn/stock/go.php/vReport_List/kind/search/index.phtml?t1=3&industry=sw2_450500&symbol=&pubdate=2021-04-30&p=1',\n",
    " 'http://stock.finance.sina.com.cn/stock/go.php/vReport_List/kind/search/index.phtml?t1=3&industry=sw2_460100&symbol=&pubdate=2021-04-30&p=1',\n",
    " 'http://stock.finance.sina.com.cn/stock/go.php/vReport_List/kind/search/index.phtml?t1=3&industry=sw2_460200&symbol=&pubdate=2021-04-30&p=1',\n",
    " 'http://stock.finance.sina.com.cn/stock/go.php/vReport_List/kind/search/index.phtml?t1=3&industry=sw2_460300&symbol=&pubdate=2021-04-30&p=1',\n",
    " 'http://stock.finance.sina.com.cn/stock/go.php/vReport_List/kind/search/index.phtml?t1=3&industry=sw2_460400&symbol=&pubdate=2021-04-30&p=1',\n",
    " 'http://stock.finance.sina.com.cn/stock/go.php/vReport_List/kind/search/index.phtml?t1=3&industry=sw2_460500&symbol=&pubdate=2021-04-30&p=1',\n",
    " 'http://stock.finance.sina.com.cn/stock/go.php/vReport_List/kind/search/index.phtml?t1=3&industry=sw2_480100&symbol=&pubdate=2021-04-30&p=1',\n",
    " 'http://stock.finance.sina.com.cn/stock/go.php/vReport_List/kind/search/index.phtml?t1=3&industry=sw2_490100&symbol=&pubdate=2021-04-30&p=1',\n",
    " 'http://stock.finance.sina.com.cn/stock/go.php/vReport_List/kind/search/index.phtml?t1=3&industry=sw2_490200&symbol=&pubdate=2021-04-30&p=1',\n",
    " 'http://stock.finance.sina.com.cn/stock/go.php/vReport_List/kind/search/index.phtml?t1=3&industry=sw2_490300&symbol=&pubdate=2021-04-30&p=1',\n",
    " 'http://stock.finance.sina.com.cn/stock/go.php/vReport_List/kind/search/index.phtml?t1=3&industry=sw2_510100&symbol=&pubdate=2021-04-30&p=1',\n",
    " 'http://stock.finance.sina.com.cn/stock/go.php/vReport_List/kind/search/index.phtml?t1=3&industry=sw2_610100&symbol=&pubdate=2021-04-30&p=1',\n",
    " 'http://stock.finance.sina.com.cn/stock/go.php/vReport_List/kind/search/index.phtml?t1=3&industry=sw2_610200&symbol=&pubdate=2021-04-30&p=1',\n",
    " 'http://stock.finance.sina.com.cn/stock/go.php/vReport_List/kind/search/index.phtml?t1=3&industry=sw2_610300&symbol=&pubdate=2021-04-30&p=1',\n",
    " 'http://stock.finance.sina.com.cn/stock/go.php/vReport_List/kind/search/index.phtml?t1=3&industry=sw2_620100&symbol=&pubdate=2021-04-30&p=1',\n",
    " 'http://stock.finance.sina.com.cn/stock/go.php/vReport_List/kind/search/index.phtml?t1=3&industry=sw2_620200&symbol=&pubdate=2021-04-30&p=1',\n",
    " 'http://stock.finance.sina.com.cn/stock/go.php/vReport_List/kind/search/index.phtml?t1=3&industry=sw2_620300&symbol=&pubdate=2021-04-30&p=1',\n",
    " 'http://stock.finance.sina.com.cn/stock/go.php/vReport_List/kind/search/index.phtml?t1=3&industry=sw2_620400&symbol=&pubdate=2021-04-30&p=1',\n",
    " 'http://stock.finance.sina.com.cn/stock/go.php/vReport_List/kind/search/index.phtml?t1=3&industry=sw2_620500&symbol=&pubdate=2021-04-30&p=1',\n",
    " 'http://stock.finance.sina.com.cn/stock/go.php/vReport_List/kind/search/index.phtml?t1=3&industry=sw2_630100&symbol=&pubdate=2021-04-30&p=1',\n",
    " 'http://stock.finance.sina.com.cn/stock/go.php/vReport_List/kind/search/index.phtml?t1=3&industry=sw2_630200&symbol=&pubdate=2021-04-30&p=1',\n",
    " 'http://stock.finance.sina.com.cn/stock/go.php/vReport_List/kind/search/index.phtml?t1=3&industry=sw2_630300&symbol=&pubdate=2021-04-30&p=1',\n",
    " 'http://stock.finance.sina.com.cn/stock/go.php/vReport_List/kind/search/index.phtml?t1=3&industry=sw2_630400&symbol=&pubdate=2021-04-30&p=1',\n",
    " 'http://stock.finance.sina.com.cn/stock/go.php/vReport_List/kind/search/index.phtml?t1=3&industry=sw2_640100&symbol=&pubdate=2021-04-30&p=1',\n",
    " 'http://stock.finance.sina.com.cn/stock/go.php/vReport_List/kind/search/index.phtml?t1=3&industry=sw2_640200&symbol=&pubdate=2021-04-30&p=1',\n",
    " 'http://stock.finance.sina.com.cn/stock/go.php/vReport_List/kind/search/index.phtml?t1=3&industry=sw2_640300&symbol=&pubdate=2021-04-30&p=1',\n",
    " 'http://stock.finance.sina.com.cn/stock/go.php/vReport_List/kind/search/index.phtml?t1=3&industry=sw2_640400&symbol=&pubdate=2021-04-30&p=1',\n",
    " 'http://stock.finance.sina.com.cn/stock/go.php/vReport_List/kind/search/index.phtml?t1=3&industry=sw2_640500&symbol=&pubdate=2021-04-30&p=1',\n",
    " 'http://stock.finance.sina.com.cn/stock/go.php/vReport_List/kind/search/index.phtml?t1=3&industry=sw2_650100&symbol=&pubdate=2021-04-30&p=1',\n",
    " 'http://stock.finance.sina.com.cn/stock/go.php/vReport_List/kind/search/index.phtml?t1=3&industry=sw2_650200&symbol=&pubdate=2021-04-30&p=1',\n",
    " 'http://stock.finance.sina.com.cn/stock/go.php/vReport_List/kind/search/index.phtml?t1=3&industry=sw2_650300&symbol=&pubdate=2021-04-30&p=1',\n",
    " 'http://stock.finance.sina.com.cn/stock/go.php/vReport_List/kind/search/index.phtml?t1=3&industry=sw2_650400&symbol=&pubdate=2021-04-30&p=1',\n",
    " 'http://stock.finance.sina.com.cn/stock/go.php/vReport_List/kind/search/index.phtml?t1=3&industry=sw2_710100&symbol=&pubdate=2021-04-30&p=1',\n",
    " 'http://stock.finance.sina.com.cn/stock/go.php/vReport_List/kind/search/index.phtml?t1=3&industry=sw2_710200&symbol=&pubdate=2021-04-30&p=1',\n",
    " 'http://stock.finance.sina.com.cn/stock/go.php/vReport_List/kind/search/index.phtml?t1=3&industry=sw2_720100&symbol=&pubdate=2021-04-30&p=1',\n",
    " 'http://stock.finance.sina.com.cn/stock/go.php/vReport_List/kind/search/index.phtml?t1=3&industry=sw2_720200&symbol=&pubdate=2021-04-30&p=1',\n",
    " 'http://stock.finance.sina.com.cn/stock/go.php/vReport_List/kind/search/index.phtml?t1=3&industry=sw2_720300&symbol=&pubdate=2021-04-30&p=1',\n",
    " 'http://stock.finance.sina.com.cn/stock/go.php/vReport_List/kind/search/index.phtml?t1=3&industry=sw2_730100&symbol=&pubdate=2021-04-30&p=1',\n",
    " 'http://stock.finance.sina.com.cn/stock/go.php/vReport_List/kind/search/index.phtml?t1=3&industry=sw2_730200&symbol=&pubdate=2021-04-30&p=1']"
   ]
  },
  {
   "cell_type": "code",
   "execution_count": null,
   "metadata": {},
   "outputs": [],
   "source": []
  },
  {
   "cell_type": "code",
   "execution_count": 16,
   "metadata": {
    "ExecuteTime": {
     "end_time": "2021-05-01T14:03:43.353010Z",
     "start_time": "2021-05-01T14:03:38.846081Z"
    }
   },
   "outputs": [
    {
     "ename": "IndexError",
     "evalue": "list index out of range",
     "traceback": [
      "\u001b[1;31m---------------------------------------------------------------------------\u001b[0m",
      "\u001b[1;31mIndexError\u001b[0m                                Traceback (most recent call last)",
      "\u001b[1;32m<ipython-input-16-957b5db2cc27>\u001b[0m in \u001b[0;36m<module>\u001b[1;34m\u001b[0m\n\u001b[0;32m     14\u001b[0m     \u001b[1;32melse\u001b[0m\u001b[1;33m:\u001b[0m\u001b[1;33m\u001b[0m\u001b[1;33m\u001b[0m\u001b[0m\n\u001b[0;32m     15\u001b[0m         \u001b[0mk\u001b[0m \u001b[1;33m=\u001b[0m \u001b[0mstr\u001b[0m\u001b[1;33m(\u001b[0m\u001b[0mpage\u001b[0m \u001b[1;33m+\u001b[0m \u001b[1;36m9\u001b[0m\u001b[1;33m)\u001b[0m\u001b[1;33m\u001b[0m\u001b[1;33m\u001b[0m\u001b[0m\n\u001b[1;32m---> 16\u001b[1;33m         \u001b[0mpages_sum\u001b[0m \u001b[1;33m=\u001b[0m \u001b[0mint\u001b[0m\u001b[1;33m(\u001b[0m\u001b[0ms\u001b[0m\u001b[1;33m.\u001b[0m\u001b[0mxpath\u001b[0m\u001b[1;33m(\u001b[0m\u001b[1;34m\"/html/body/div/div[3]/div/table/tr/td/div/span[\"\u001b[0m \u001b[1;33m+\u001b[0m \u001b[0mk\u001b[0m \u001b[1;33m+\u001b[0m \u001b[1;34m\"]/a/@onclick\"\u001b[0m\u001b[1;33m)\u001b[0m\u001b[1;33m[\u001b[0m\u001b[1;36m0\u001b[0m\u001b[1;33m]\u001b[0m\u001b[1;33m.\u001b[0m\u001b[0msplit\u001b[0m\u001b[1;33m(\u001b[0m\u001b[1;34m\"'\"\u001b[0m\u001b[1;33m)\u001b[0m\u001b[1;33m[\u001b[0m\u001b[1;36m1\u001b[0m\u001b[1;33m]\u001b[0m\u001b[1;33m)\u001b[0m\u001b[1;33m\u001b[0m\u001b[1;33m\u001b[0m\u001b[0m\n\u001b[0m\u001b[0;32m     17\u001b[0m         \u001b[1;31m#print(pages_sum)\u001b[0m\u001b[1;33m\u001b[0m\u001b[1;33m\u001b[0m\u001b[1;33m\u001b[0m\u001b[0m\n\u001b[0;32m     18\u001b[0m         \u001b[0mpage_sums\u001b[0m\u001b[1;33m.\u001b[0m\u001b[0mappend\u001b[0m\u001b[1;33m(\u001b[0m\u001b[0mpages_sum\u001b[0m\u001b[1;33m)\u001b[0m\u001b[1;33m\u001b[0m\u001b[1;33m\u001b[0m\u001b[0m\n",
      "\u001b[1;31mIndexError\u001b[0m: list index out of range"
     ],
     "output_type": "error"
    }
   ],
   "source": [
    "import requests\n",
    "from lxml import etree\n",
    "from lxml import html\n",
    "url = 'http://stock.finance.sina.com.cn/stock/go.php/vReport_List/kind/search/index.phtml?t1=3&industry=sw2_110100&symbol=&pubdate=2021-04-18'\n",
    "page_sums = []\n",
    "for url in urls:\n",
    "    data = requests.get(url).text\n",
    "    s=etree.HTML(data)\n",
    "    page = int(url.split('=')[-1])  # 现在是第几页\n",
    "    if page >= 6:\n",
    "        pages_sum = int(s.xpath(\"/html/body/div/div[3]/div/table/tr/td/div/span[14]/a/@onclick\")[0].split(\"'\")[1])  # 总页数\n",
    "        #print(pages_sum)\n",
    "        page_sums.append(pages_sum)\n",
    "    else:\n",
    "        k = str(page + 9)\n",
    "        pages_sum = int(s.xpath(\"/html/body/div/div[3]/div/table/tr/td/div/span[\" + k + \"]/a/@onclick\")[0].split(\"'\")[1])\n",
    "        #print(pages_sum)\n",
    "        page_sums.append(pages_sum)"
   ]
  },
  {
   "cell_type": "code",
   "execution_count": 17,
   "metadata": {
    "ExecuteTime": {
     "end_time": "2021-05-01T14:03:47.326912Z",
     "start_time": "2021-05-01T14:03:47.307963Z"
    }
   },
   "outputs": [
    {
     "data": {
      "text/plain": [
       "41"
      ]
     },
     "execution_count": 17,
     "metadata": {},
     "output_type": "execute_result"
    }
   ],
   "source": [
    "len(page_sums)"
   ]
  },
  {
   "cell_type": "code",
   "execution_count": 9,
   "metadata": {
    "ExecuteTime": {
     "end_time": "2021-05-01T13:59:52.903884Z",
     "start_time": "2021-05-01T13:59:52.884937Z"
    }
   },
   "outputs": [
    {
     "data": {
      "text/plain": [
       "'http://stock.finance.sina.com.cn/stock/go.php/vReport_List/kind/search/index.phtml?t1=3&industry=sw2_360400&symbol=&pubdate=2021-04-30&p=1'"
      ]
     },
     "execution_count": 9,
     "metadata": {},
     "output_type": "execute_result"
    }
   ],
   "source": [
    "urls[41]"
   ]
  },
  {
   "cell_type": "code",
   "execution_count": 18,
   "metadata": {
    "ExecuteTime": {
     "end_time": "2021-05-01T14:04:02.188910Z",
     "start_time": "2021-05-01T14:03:54.985656Z"
    }
   },
   "outputs": [
    {
     "name": "stdout",
     "output_type": "stream",
     "text": [
      "364\n",
      "304\n",
      "188\n",
      "118\n",
      "207\n",
      "118\n",
      "381\n",
      "39\n",
      "51\n",
      "313\n",
      "78\n",
      "91\n",
      "10\n",
      "149\n",
      "83\n",
      "149\n",
      "69\n",
      "123\n",
      "878\n",
      "23\n",
      "19\n",
      "517\n",
      "85\n",
      "49\n",
      "119\n",
      "77\n",
      "200\n",
      "47\n",
      "11\n",
      "393\n",
      "268\n",
      "155\n",
      "72\n",
      "114\n",
      "158\n",
      "65\n",
      "143\n",
      "43\n",
      "85\n",
      "134\n",
      "100\n",
      "69\n",
      "30\n",
      "164\n",
      "340\n",
      "149\n",
      "235\n",
      "508\n",
      "61\n",
      "44\n",
      "55\n",
      "59\n",
      "131\n",
      "44\n",
      "37\n",
      "148\n",
      "725\n",
      "417\n",
      "97\n",
      "251\n",
      "67\n",
      "530\n"
     ]
    }
   ],
   "source": [
    "page_sums.append(3)\n",
    "urls = urls[42:]\n",
    "for url in urls:\n",
    "    data = requests.get(url).text\n",
    "    s=etree.HTML(data)\n",
    "    page = int(url.split('=')[-1])  # 现在是第几页\n",
    "    if page >= 6:\n",
    "        pages_sum = int(s.xpath(\"/html/body/div/div[3]/div/table/tr/td/div/span[14]/a/@onclick\")[0].split(\"'\")[1])  # 总页数\n",
    "        print(pages_sum)\n",
    "        page_sums.append(pages_sum)\n",
    "    else:\n",
    "        k = str(page + 9)\n",
    "        pages_sum = int(s.xpath(\"/html/body/div/div[3]/div/table/tr/td/div/span[\" + k + \"]/a/@onclick\")[0].split(\"'\")[1])\n",
    "        print(pages_sum)\n",
    "        page_sums.append(pages_sum)"
   ]
  },
  {
   "cell_type": "code",
   "execution_count": 21,
   "metadata": {
    "ExecuteTime": {
     "end_time": "2021-05-01T14:05:47.358308Z",
     "start_time": "2021-05-01T14:05:45.998729Z"
    }
   },
   "outputs": [],
   "source": [
    "import pandas as pd\n",
    "incode_page = pd.read_csv('C:/Users/12968/Desktop/数据科学实战-stock prediction/数据/indcode_pagesum.csv')\n",
    "incode_page['page_sum'] = page_sums"
   ]
  },
  {
   "cell_type": "code",
   "execution_count": 24,
   "metadata": {
    "ExecuteTime": {
     "end_time": "2021-05-01T14:06:20.949230Z",
     "start_time": "2021-05-01T14:06:20.929281Z"
    }
   },
   "outputs": [],
   "source": [
    "incode_page.to_csv('C:/Users/12968/Desktop/数据科学实战-stock prediction/数据/indcode_pagesum2.csv')"
   ]
  },
  {
   "cell_type": "code",
   "execution_count": null,
   "metadata": {},
   "outputs": [],
   "source": []
  },
  {
   "cell_type": "code",
   "execution_count": null,
   "metadata": {},
   "outputs": [],
   "source": []
  },
  {
   "cell_type": "code",
   "execution_count": null,
   "metadata": {},
   "outputs": [],
   "source": []
  },
  {
   "cell_type": "code",
   "execution_count": 10,
   "metadata": {
    "ExecuteTime": {
     "end_time": "2021-05-01T14:00:59.978610Z",
     "start_time": "2021-05-01T14:00:59.958667Z"
    }
   },
   "outputs": [
    {
     "data": {
      "text/plain": [
       "[4, 6, 7]"
      ]
     },
     "execution_count": 10,
     "metadata": {},
     "output_type": "execute_result"
    }
   ],
   "source": []
  },
  {
   "cell_type": "code",
   "execution_count": 19,
   "metadata": {
    "ExecuteTime": {
     "end_time": "2021-05-01T14:04:03.881802Z",
     "start_time": "2021-05-01T14:04:03.873860Z"
    }
   },
   "outputs": [
    {
     "data": {
      "text/plain": [
       "104"
      ]
     },
     "execution_count": 19,
     "metadata": {},
     "output_type": "execute_result"
    }
   ],
   "source": [
    "len(page_sums)"
   ]
  },
  {
   "cell_type": "code",
   "execution_count": 14,
   "metadata": {
    "ExecuteTime": {
     "end_time": "2021-05-01T14:02:57.136662Z",
     "start_time": "2021-05-01T14:02:57.131710Z"
    }
   },
   "outputs": [
    {
     "data": {
      "text/plain": [
       "104"
      ]
     },
     "execution_count": 14,
     "metadata": {},
     "output_type": "execute_result"
    }
   ],
   "source": [
    "len(urlss)"
   ]
  },
  {
   "cell_type": "code",
   "execution_count": null,
   "metadata": {},
   "outputs": [],
   "source": []
  },
  {
   "cell_type": "code",
   "execution_count": null,
   "metadata": {},
   "outputs": [],
   "source": []
  },
  {
   "cell_type": "code",
   "execution_count": null,
   "metadata": {},
   "outputs": [],
   "source": []
  },
  {
   "cell_type": "code",
   "execution_count": null,
   "metadata": {},
   "outputs": [],
   "source": []
  },
  {
   "cell_type": "code",
   "execution_count": null,
   "metadata": {},
   "outputs": [],
   "source": []
  },
  {
   "cell_type": "code",
   "execution_count": null,
   "metadata": {},
   "outputs": [],
   "source": []
  },
  {
   "cell_type": "code",
   "execution_count": null,
   "metadata": {},
   "outputs": [],
   "source": []
  },
  {
   "cell_type": "code",
   "execution_count": null,
   "metadata": {},
   "outputs": [],
   "source": []
  },
  {
   "cell_type": "code",
   "execution_count": null,
   "metadata": {},
   "outputs": [],
   "source": []
  },
  {
   "cell_type": "code",
   "execution_count": null,
   "metadata": {},
   "outputs": [],
   "source": []
  },
  {
   "cell_type": "code",
   "execution_count": null,
   "metadata": {},
   "outputs": [],
   "source": []
  },
  {
   "cell_type": "code",
   "execution_count": null,
   "metadata": {},
   "outputs": [],
   "source": []
  },
  {
   "cell_type": "code",
   "execution_count": null,
   "metadata": {},
   "outputs": [],
   "source": []
  },
  {
   "cell_type": "code",
   "execution_count": null,
   "metadata": {},
   "outputs": [],
   "source": []
  },
  {
   "cell_type": "code",
   "execution_count": null,
   "metadata": {},
   "outputs": [],
   "source": []
  },
  {
   "cell_type": "code",
   "execution_count": null,
   "metadata": {},
   "outputs": [],
   "source": []
  },
  {
   "cell_type": "code",
   "execution_count": null,
   "metadata": {},
   "outputs": [],
   "source": []
  },
  {
   "cell_type": "code",
   "execution_count": null,
   "metadata": {},
   "outputs": [],
   "source": []
  },
  {
   "cell_type": "code",
   "execution_count": null,
   "metadata": {},
   "outputs": [],
   "source": []
  },
  {
   "cell_type": "code",
   "execution_count": null,
   "metadata": {},
   "outputs": [],
   "source": []
  },
  {
   "cell_type": "code",
   "execution_count": null,
   "metadata": {},
   "outputs": [],
   "source": []
  },
  {
   "cell_type": "code",
   "execution_count": null,
   "metadata": {},
   "outputs": [],
   "source": []
  },
  {
   "cell_type": "code",
   "execution_count": null,
   "metadata": {},
   "outputs": [],
   "source": []
  },
  {
   "cell_type": "code",
   "execution_count": null,
   "metadata": {},
   "outputs": [],
   "source": []
  }
 ],
 "metadata": {
  "kernelspec": {
   "display_name": "Python 3",
   "language": "python",
   "name": "python3"
  },
  "language_info": {
   "codemirror_mode": {
    "name": "ipython",
    "version": 3
   },
   "file_extension": ".py",
   "mimetype": "text/x-python",
   "name": "python",
   "nbconvert_exporter": "python",
   "pygments_lexer": "ipython3",
   "version": "3.7.4"
  }
 },
 "nbformat": 4,
 "nbformat_minor": 4
}

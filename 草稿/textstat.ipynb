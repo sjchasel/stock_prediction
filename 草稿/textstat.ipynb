{
 "cells": [
  {
   "cell_type": "code",
   "execution_count": 2,
   "metadata": {},
   "outputs": [],
   "source": [
    "import textstat\n",
    "import jieba"
   ]
  },
  {
   "cell_type": "code",
   "execution_count": 3,
   "metadata": {},
   "outputs": [
    {
     "name": "stderr",
     "output_type": "stream",
     "text": [
      "Building prefix dict from the default dictionary ...\n",
      "Loading model from cache C:\\Users\\sunny\\AppData\\Local\\Temp\\jieba.cache\n",
      "Loading model cost 0.654 seconds.\n",
      "Prefix dict has been built successfully.\n"
     ]
    }
   ],
   "source": [
    "jieba.load_userdict(r'C:\\Users\\sunny\\Desktop\\量化交易\\文本量化\\stopwords-master\\cn_stopwords.txt')\n",
    "dict_data = [i.strip() for i in open(r'C:\\Users\\sunny\\Desktop\\量化交易\\文本量化\\stopwords-master\\cn_stopwords.txt',encoding = 'utf-8').readlines()]\n",
    "\n",
    "for word in dict_data:\n",
    "    jieba.add_word(word)"
   ]
  },
  {
   "cell_type": "code",
   "execution_count": 2,
   "metadata": {},
   "outputs": [
    {
     "name": "stderr",
     "output_type": "stream",
     "text": [
      "Building prefix dict from the default dictionary ...\n",
      "Loading model from cache C:\\Users\\sunny\\AppData\\Local\\Temp\\jieba.cache\n",
      "Loading model cost 0.772 seconds.\n",
      "Prefix dict has been built successfully.\n"
     ]
    }
   ],
   "source": [
    "text =  \"\"\"多数用户安装APP后，使用一次或几次后，APP就只是躺在手机桌面的角落里了，被动的等待用户唤醒，他不卸载也不使用，造成了较大的资源浪费。\n",
    "\n",
    "那么现阶段针对提高产品活跃度（DAU、MAU）以及唤醒沉睡用户，需要如何构建APP消息通知策略呢？\n",
    "我们公司的业务是这样的：\n",
    "\n",
    "1.有招商的企业入驻我们公司的平台 \n",
    "\n",
    "2.我们公司将企业的的信息发布的网站或APP上 \n",
    "\n",
    "3.意向测投资者或创业者在我们平台注册，寻找意向投资企业，浏览企业最新资讯，了解最新优惠信息等等 \n",
    "\n",
    "4.经过我们平台对投资者或创业者的筛选，帮助招商企业和投资人实现对接。\n",
    "\n",
    "现在的问题是APP信息推送的需求和APP的核心诉求存在较大差异。消息推送，是希望能拉动非活跃用户，为用户推送最新优惠信息以及新的内容。而APP的主要目的就是帮合作企业找意向投资者。现在我在定义消息通知的类型和明确用户类型这两块都没太想明白。\"\"\"\n",
    "text = ' '.join(jieba.lcut(text))"
   ]
  },
  {
   "cell_type": "code",
   "execution_count": 3,
   "metadata": {},
   "outputs": [
    {
     "data": {
      "text/plain": [
       "622"
      ]
     },
     "execution_count": 3,
     "metadata": {},
     "output_type": "execute_result"
    }
   ],
   "source": [
    "len(text)"
   ]
  },
  {
   "cell_type": "code",
   "execution_count": 4,
   "metadata": {},
   "outputs": [
    {
     "data": {
      "text/plain": [
       "-104.46"
      ]
     },
     "execution_count": 4,
     "metadata": {},
     "output_type": "execute_result"
    }
   ],
   "source": [
    "textstat.flesch_reading_ease(text)"
   ]
  },
  {
   "cell_type": "code",
   "execution_count": 5,
   "metadata": {},
   "outputs": [
    {
     "data": {
      "text/plain": [
       "86.0"
      ]
     },
     "execution_count": 5,
     "metadata": {},
     "output_type": "execute_result"
    }
   ],
   "source": [
    "textstat.gunning_fog(text)"
   ]
  },
  {
   "cell_type": "code",
   "execution_count": 20,
   "metadata": {},
   "outputs": [
    {
     "data": {
      "text/plain": [
       "0.0"
      ]
     },
     "execution_count": 20,
     "metadata": {},
     "output_type": "execute_result"
    }
   ],
   "source": [
    "textstat.smog_index(text)"
   ]
  },
  {
   "cell_type": "code",
   "execution_count": 5,
   "metadata": {},
   "outputs": [
    {
     "name": "stdout",
     "output_type": "stream",
     "text": [
      "[13.6, 16.0, 9.6, 10.4, 15.6, 15.6, 17.2, 11.6, 12.4, 10.0, 8.04, 9.2, 11.2, 18.0, 16.8, 13.6, 40.0, 17.2, 18.8, 15.2, 24.67, 12.4, 15.2, 16.4, 15.6, 14.41, 10.8, 21.6, 29.6, 14.36, 20.4, 12.0, 15.2, 23.2, 16.8, 19.41, 18.4, 22.4, 17.6, 19.6, 15.6, 16.8, 2.0, 16.0, 29.6, 14.4, 16.4, 14.8, 17.6, 12.0, 16.4, 16.4, 9.6, 12.4, 3.6, 7.2, 37.2, 14.0, 13.2, 21.57, 24.97, 18.8, 32.8, 30.4, 15.6, 11.6, 17.6, 18.35, 14.8, 16.4, 57.2, 26.0, 15.6, 20.4, 12.0, 18.4, 2.8, 20.0, 16.0, 10.0, 11.2, 30.14, 6.8, 20.0, 4.0, 12.4, 30.0, 18.8, 18.4, 17.2, 20.4, 17.2, 14.8, 17.2, 10.8, 4.4, 4.8, 16.0, 16.4, 15.14, 9.2, 16.8, 10.4, 15.14, 10.8, 21.2, 10.0, 16.63, 28.4, 14.4, 24.0, 8.8, 8.4, 30.93, 12.8, 17.2, 19.2, 4.4, 12.8, 19.6, 8.8, 22.4, 8.4, 18.0, 14.0, 8.04, 11.6, 17.2, 11.2, 18.4, 21.2, 23.5, 20.8, 17.2, 8.4, 24.0, 16.8, 12.0, 24.2, 19.6, 14.0, 9.2, 14.8, 6.8, 9.2, 16.4, 14.0, 15.6, 14.4, 10.4, 22.0, 34.38, 14.8, 24.4, 25.6, 28.4, 26.4, 12.0, 15.2, 22.8, 19.27, 13.6, 20.0, 14.8, 15.2, 19.6, 28.0, 14.0, 10.8, 21.2, 16.0, 19.6, 19.6, 11.6, 25.6, 20.0, 10.4, 16.0, 14.0, 11.6, 10.0, 6.4, 12.4, 6.0, 12.0, 16.4, 18.0, 19.6, 12.8, 26.4, 11.2, 11.2, 24.4, 28.4, 16.0, 15.2, 11.2, 10.0, 20.4, 22.4, 17.2, 24.4, 24.8, 29.6, 22.0, 38.4, 8.0, 8.4, 20.4, 5.2, 17.6, 27.6, 14.8, 42.8, 3.6, 32.4, 21.6, 14.0, 25.6, 22.71, 21.2, 20.4, 22.4, 7.6, 25.06, 11.6, 21.6, 41.98, 16.4, 20.8, 14.0, 14.8, 38.4, 24.8, 12.4, 16.0, 2.8, 12.8, 12.8, 21.6, 3.6, 47.2, 17.2, 12.4, 19.65, 16.8, 12.8, 14.8, 15.6, 22.0, 40.0, 6.0, 8.4, 16.8, 19.2, 20.8, 10.4, 2.4, 17.2, 20.8, 22.73, 12.0, 27.6, 18.0, 8.2, 25.6, 19.2, 35.26, 23.6, 11.6, 17.6, 18.8, 11.2, 10.4, 18.4, 26.4, 24.4, 11.2, 24.0, 2.4, 16.0, 13.2, 8.8, 17.2, 13.6, 21.2, 14.8, 15.2, 18.8, 8.8, 16.02, 11.2, 24.8, 9.6, 9.6, 15.6, 18.8, 4.0, 31.6, 22.0, 3.6, 7.6, 14.4, 16.0, 20.0, 15.6, 14.4, 22.8, 19.6, 44.0, 15.6, 17.2, 34.4, 12.8, 12.0, 18.8, 13.6, 21.2, 13.6, 4.4, 14.4, 18.4, 15.2, 20.4, 15.6, 20.0, 17.2, 34.8, 15.6, 17.2, 18.0, 17.2, 14.8, 21.2, 16.0, 20.0, 16.0, 26.4, 26.0, 14.8, 10.0, 12.68, 20.8, 26.23, 27.6, 8.4, 24.2, 23.5, 17.6, 16.8, 19.2, 12.4, 12.4, 14.0, 14.4, 20.8, 13.6, 20.0, 18.0, 1.6, 3.2, 5.2, 12.8, 11.2, 19.6, 22.4, 12.4, 17.6, 20.0, 3.2, 17.2, 16.4, 19.2, 15.6, 6.0, 12.8, 17.6, 10.0, 9.6, 17.2, 20.0, 5.6, 24.0, 20.8, 15.6, 17.6, 14.8, 32.0, 16.0, 2.4, 15.2, 25.6, 21.6, 22.0, 22.4, 28.8, 20.0, 14.0, 9.2, 15.49, 15.6, 12.8, 14.41, 11.2, 10.4, 16.8, 28.4, 20.4, 25.2, 25.2, 18.0, 6.0, 13.6, 22.0, 16.4, 21.18, 14.05, 14.4, 11.6, 7.6, 10.8, 10.4, 17.2, 11.6, 22.8, 21.2, 0.8, 25.6, 23.2, 17.6, 8.4, 21.6, 25.06, 43.6, 13.6, 12.0, 23.6, 12.0, 38.8, 10.0, 20.8, 16.4, 1.6, 11.6, 19.2, 17.2, 21.6, 9.6, 4.4, 7.2, 12.0, 11.6, 9.6, 10.4, 10.4, 23.2, 13.2, 13.33, 12.8, 18.4, 29.2, 10.0, 24.8, 8.4, 11.2, 16.0, 6.4, 10.0, 14.0, 12.8, 20.0, 23.2, 29.36, 13.6, 8.0, 22.87, 14.4, 18.8, 8.4, 14.4, 15.6, 12.0, 18.0, 16.0, 22.8, 14.8, 25.2, 25.6, 12.8, 23.6, 8.0, 21.6, 27.2, 22.0, 18.0, 16.8, 16.4, 24.8, 23.2, 26.4]\n"
     ]
    }
   ],
   "source": [
    "import re\n",
    "import jieba.posseg as peg\n",
    "\n",
    "fileName = \"C:/Users/sunny/Desktop/量化交易/文本量化/500个随机样本.txt\"\n",
    "currentFile = open(fileName,encoding='utf-8')\n",
    "content = currentFile.read()\n",
    "\n",
    "fog=[]\n",
    "fog_value=0\n",
    "for i in range(500):\n",
    "    text=re.findall(r'\"(.*?)\"', content, re.DOTALL)[i]\n",
    "    fog_value = textstat.gunning_fog(text)\n",
    "    fog.append(fog_value)\n",
    "print(fog)"
   ]
  },
  {
   "cell_type": "code",
   "execution_count": 14,
   "metadata": {},
   "outputs": [
    {
     "data": {
      "image/png": "[encoded data removed]",
      "text/plain": [
       "<Figure size 432x288 with 1 Axes>"
      ]
     },
     "metadata": {
      "needs_background": "light"
     },
     "output_type": "display_data"
    }
   ],
   "source": [
    "import matplotlib.pyplot as plt\n",
    "\n",
    "plt.rcParams['font.sans-serif']=['SimHei'] #用来正常显示中文标签\n",
    "plt.rcParams['axes.unicode_minus'] = False #用来正常显示负号\n",
    "plt.axvline(fog_mode/2 , color='red',label = 'mode')\n",
    "\n",
    "fog_new = [x/2 for x in fog]\n",
    "plt.hist(fog_new, bins=30, color='orange')\n",
    "plt.title(u\"500个随机样本中fog指标值分布\")\n",
    "plt.show()"
   ]
  },
  {
   "cell_type": "code",
   "execution_count": 10,
   "metadata": {},
   "outputs": [],
   "source": [
    "import numpy as np\n",
    " \n",
    "counts = np.bincount(fog)\n",
    "#返回众数\n",
    "fog_mode=np.argmax(counts)"
   ]
  }
 ],
 "metadata": {
  "kernelspec": {
   "display_name": "Python 3",
   "language": "python",
   "name": "python3"
  },
  "language_info": {
   "codemirror_mode": {
    "name": "ipython",
    "version": 3
   },
   "file_extension": ".py",
   "mimetype": "text/x-python",
   "name": "python",
   "nbconvert_exporter": "python",
   "pygments_lexer": "ipython3",
   "version": "3.7.0"
  }
 },
 "nbformat": 4,
 "nbformat_minor": 2
}
